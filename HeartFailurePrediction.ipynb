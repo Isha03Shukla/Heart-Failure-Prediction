{
 "cells": [
  {
   "cell_type": "code",
   "execution_count": 162,
   "metadata": {},
   "outputs": [],
   "source": [
    "import pandas as pd\n",
    "import numpy as np\n",
    "import matplotlib.pyplot as plt\n",
    "import seaborn as sns\n",
    "import plotly.express as px"
   ]
  },
  {
   "cell_type": "code",
   "execution_count": 163,
   "metadata": {},
   "outputs": [],
   "source": [
    "data = pd.read_csv(r\"C:\\Users\\KIIT\\Documents\\Data Science\\heart.csv\")"
   ]
  },
  {
   "cell_type": "code",
   "execution_count": 164,
   "metadata": {},
   "outputs": [
    {
     "data": {
      "text/html": [
       "<div>\n",
       "<style scoped>\n",
       "    .dataframe tbody tr th:only-of-type {\n",
       "        vertical-align: middle;\n",
       "    }\n",
       "\n",
       "    .dataframe tbody tr th {\n",
       "        vertical-align: top;\n",
       "    }\n",
       "\n",
       "    .dataframe thead th {\n",
       "        text-align: right;\n",
       "    }\n",
       "</style>\n",
       "<table border=\"1\" class=\"dataframe\">\n",
       "  <thead>\n",
       "    <tr style=\"text-align: right;\">\n",
       "      <th></th>\n",
       "      <th>Age</th>\n",
       "      <th>Sex</th>\n",
       "      <th>ChestPainType</th>\n",
       "      <th>RestingBP</th>\n",
       "      <th>Cholesterol</th>\n",
       "      <th>FastingBS</th>\n",
       "      <th>RestingECG</th>\n",
       "      <th>MaxHR</th>\n",
       "      <th>ExerciseAngina</th>\n",
       "      <th>Oldpeak</th>\n",
       "      <th>ST_Slope</th>\n",
       "      <th>HeartDisease</th>\n",
       "    </tr>\n",
       "  </thead>\n",
       "  <tbody>\n",
       "    <tr>\n",
       "      <th>0</th>\n",
       "      <td>40</td>\n",
       "      <td>M</td>\n",
       "      <td>ATA</td>\n",
       "      <td>140</td>\n",
       "      <td>289</td>\n",
       "      <td>0</td>\n",
       "      <td>Normal</td>\n",
       "      <td>172</td>\n",
       "      <td>N</td>\n",
       "      <td>0.0</td>\n",
       "      <td>Up</td>\n",
       "      <td>0</td>\n",
       "    </tr>\n",
       "    <tr>\n",
       "      <th>1</th>\n",
       "      <td>49</td>\n",
       "      <td>F</td>\n",
       "      <td>NAP</td>\n",
       "      <td>160</td>\n",
       "      <td>180</td>\n",
       "      <td>0</td>\n",
       "      <td>Normal</td>\n",
       "      <td>156</td>\n",
       "      <td>N</td>\n",
       "      <td>1.0</td>\n",
       "      <td>Flat</td>\n",
       "      <td>1</td>\n",
       "    </tr>\n",
       "    <tr>\n",
       "      <th>2</th>\n",
       "      <td>37</td>\n",
       "      <td>M</td>\n",
       "      <td>ATA</td>\n",
       "      <td>130</td>\n",
       "      <td>283</td>\n",
       "      <td>0</td>\n",
       "      <td>ST</td>\n",
       "      <td>98</td>\n",
       "      <td>N</td>\n",
       "      <td>0.0</td>\n",
       "      <td>Up</td>\n",
       "      <td>0</td>\n",
       "    </tr>\n",
       "    <tr>\n",
       "      <th>3</th>\n",
       "      <td>48</td>\n",
       "      <td>F</td>\n",
       "      <td>ASY</td>\n",
       "      <td>138</td>\n",
       "      <td>214</td>\n",
       "      <td>0</td>\n",
       "      <td>Normal</td>\n",
       "      <td>108</td>\n",
       "      <td>Y</td>\n",
       "      <td>1.5</td>\n",
       "      <td>Flat</td>\n",
       "      <td>1</td>\n",
       "    </tr>\n",
       "    <tr>\n",
       "      <th>4</th>\n",
       "      <td>54</td>\n",
       "      <td>M</td>\n",
       "      <td>NAP</td>\n",
       "      <td>150</td>\n",
       "      <td>195</td>\n",
       "      <td>0</td>\n",
       "      <td>Normal</td>\n",
       "      <td>122</td>\n",
       "      <td>N</td>\n",
       "      <td>0.0</td>\n",
       "      <td>Up</td>\n",
       "      <td>0</td>\n",
       "    </tr>\n",
       "    <tr>\n",
       "      <th>...</th>\n",
       "      <td>...</td>\n",
       "      <td>...</td>\n",
       "      <td>...</td>\n",
       "      <td>...</td>\n",
       "      <td>...</td>\n",
       "      <td>...</td>\n",
       "      <td>...</td>\n",
       "      <td>...</td>\n",
       "      <td>...</td>\n",
       "      <td>...</td>\n",
       "      <td>...</td>\n",
       "      <td>...</td>\n",
       "    </tr>\n",
       "    <tr>\n",
       "      <th>913</th>\n",
       "      <td>45</td>\n",
       "      <td>M</td>\n",
       "      <td>TA</td>\n",
       "      <td>110</td>\n",
       "      <td>264</td>\n",
       "      <td>0</td>\n",
       "      <td>Normal</td>\n",
       "      <td>132</td>\n",
       "      <td>N</td>\n",
       "      <td>1.2</td>\n",
       "      <td>Flat</td>\n",
       "      <td>1</td>\n",
       "    </tr>\n",
       "    <tr>\n",
       "      <th>914</th>\n",
       "      <td>68</td>\n",
       "      <td>M</td>\n",
       "      <td>ASY</td>\n",
       "      <td>144</td>\n",
       "      <td>193</td>\n",
       "      <td>1</td>\n",
       "      <td>Normal</td>\n",
       "      <td>141</td>\n",
       "      <td>N</td>\n",
       "      <td>3.4</td>\n",
       "      <td>Flat</td>\n",
       "      <td>1</td>\n",
       "    </tr>\n",
       "    <tr>\n",
       "      <th>915</th>\n",
       "      <td>57</td>\n",
       "      <td>M</td>\n",
       "      <td>ASY</td>\n",
       "      <td>130</td>\n",
       "      <td>131</td>\n",
       "      <td>0</td>\n",
       "      <td>Normal</td>\n",
       "      <td>115</td>\n",
       "      <td>Y</td>\n",
       "      <td>1.2</td>\n",
       "      <td>Flat</td>\n",
       "      <td>1</td>\n",
       "    </tr>\n",
       "    <tr>\n",
       "      <th>916</th>\n",
       "      <td>57</td>\n",
       "      <td>F</td>\n",
       "      <td>ATA</td>\n",
       "      <td>130</td>\n",
       "      <td>236</td>\n",
       "      <td>0</td>\n",
       "      <td>LVH</td>\n",
       "      <td>174</td>\n",
       "      <td>N</td>\n",
       "      <td>0.0</td>\n",
       "      <td>Flat</td>\n",
       "      <td>1</td>\n",
       "    </tr>\n",
       "    <tr>\n",
       "      <th>917</th>\n",
       "      <td>38</td>\n",
       "      <td>M</td>\n",
       "      <td>NAP</td>\n",
       "      <td>138</td>\n",
       "      <td>175</td>\n",
       "      <td>0</td>\n",
       "      <td>Normal</td>\n",
       "      <td>173</td>\n",
       "      <td>N</td>\n",
       "      <td>0.0</td>\n",
       "      <td>Up</td>\n",
       "      <td>0</td>\n",
       "    </tr>\n",
       "  </tbody>\n",
       "</table>\n",
       "<p>918 rows × 12 columns</p>\n",
       "</div>"
      ],
      "text/plain": [
       "     Age Sex ChestPainType  RestingBP  Cholesterol  FastingBS RestingECG  \\\n",
       "0     40   M           ATA        140          289          0     Normal   \n",
       "1     49   F           NAP        160          180          0     Normal   \n",
       "2     37   M           ATA        130          283          0         ST   \n",
       "3     48   F           ASY        138          214          0     Normal   \n",
       "4     54   M           NAP        150          195          0     Normal   \n",
       "..   ...  ..           ...        ...          ...        ...        ...   \n",
       "913   45   M            TA        110          264          0     Normal   \n",
       "914   68   M           ASY        144          193          1     Normal   \n",
       "915   57   M           ASY        130          131          0     Normal   \n",
       "916   57   F           ATA        130          236          0        LVH   \n",
       "917   38   M           NAP        138          175          0     Normal   \n",
       "\n",
       "     MaxHR ExerciseAngina  Oldpeak ST_Slope  HeartDisease  \n",
       "0      172              N      0.0       Up             0  \n",
       "1      156              N      1.0     Flat             1  \n",
       "2       98              N      0.0       Up             0  \n",
       "3      108              Y      1.5     Flat             1  \n",
       "4      122              N      0.0       Up             0  \n",
       "..     ...            ...      ...      ...           ...  \n",
       "913    132              N      1.2     Flat             1  \n",
       "914    141              N      3.4     Flat             1  \n",
       "915    115              Y      1.2     Flat             1  \n",
       "916    174              N      0.0     Flat             1  \n",
       "917    173              N      0.0       Up             0  \n",
       "\n",
       "[918 rows x 12 columns]"
      ]
     },
     "execution_count": 164,
     "metadata": {},
     "output_type": "execute_result"
    }
   ],
   "source": [
    "data"
   ]
  },
  {
   "cell_type": "markdown",
   "metadata": {},
   "source": [
    "### Exploring data "
   ]
  },
  {
   "cell_type": "code",
   "execution_count": 165,
   "metadata": {},
   "outputs": [
    {
     "name": "stdout",
     "output_type": "stream",
     "text": [
      "<class 'pandas.core.frame.DataFrame'>\n",
      "RangeIndex: 918 entries, 0 to 917\n",
      "Data columns (total 12 columns):\n",
      " #   Column          Non-Null Count  Dtype  \n",
      "---  ------          --------------  -----  \n",
      " 0   Age             918 non-null    int64  \n",
      " 1   Sex             918 non-null    object \n",
      " 2   ChestPainType   918 non-null    object \n",
      " 3   RestingBP       918 non-null    int64  \n",
      " 4   Cholesterol     918 non-null    int64  \n",
      " 5   FastingBS       918 non-null    int64  \n",
      " 6   RestingECG      918 non-null    object \n",
      " 7   MaxHR           918 non-null    int64  \n",
      " 8   ExerciseAngina  918 non-null    object \n",
      " 9   Oldpeak         918 non-null    float64\n",
      " 10  ST_Slope        918 non-null    object \n",
      " 11  HeartDisease    918 non-null    int64  \n",
      "dtypes: float64(1), int64(6), object(5)\n",
      "memory usage: 86.2+ KB\n"
     ]
    }
   ],
   "source": [
    "data.info()"
   ]
  },
  {
   "cell_type": "code",
   "execution_count": 166,
   "metadata": {},
   "outputs": [
    {
     "data": {
      "text/html": [
       "<div>\n",
       "<style scoped>\n",
       "    .dataframe tbody tr th:only-of-type {\n",
       "        vertical-align: middle;\n",
       "    }\n",
       "\n",
       "    .dataframe tbody tr th {\n",
       "        vertical-align: top;\n",
       "    }\n",
       "\n",
       "    .dataframe thead th {\n",
       "        text-align: right;\n",
       "    }\n",
       "</style>\n",
       "<table border=\"1\" class=\"dataframe\">\n",
       "  <thead>\n",
       "    <tr style=\"text-align: right;\">\n",
       "      <th></th>\n",
       "      <th>Age</th>\n",
       "      <th>RestingBP</th>\n",
       "      <th>Cholesterol</th>\n",
       "      <th>FastingBS</th>\n",
       "      <th>MaxHR</th>\n",
       "      <th>Oldpeak</th>\n",
       "      <th>HeartDisease</th>\n",
       "    </tr>\n",
       "  </thead>\n",
       "  <tbody>\n",
       "    <tr>\n",
       "      <th>count</th>\n",
       "      <td>918.000000</td>\n",
       "      <td>918.000000</td>\n",
       "      <td>918.000000</td>\n",
       "      <td>918.000000</td>\n",
       "      <td>918.000000</td>\n",
       "      <td>918.000000</td>\n",
       "      <td>918.000000</td>\n",
       "    </tr>\n",
       "    <tr>\n",
       "      <th>mean</th>\n",
       "      <td>53.510893</td>\n",
       "      <td>132.396514</td>\n",
       "      <td>198.799564</td>\n",
       "      <td>0.233115</td>\n",
       "      <td>136.809368</td>\n",
       "      <td>0.887364</td>\n",
       "      <td>0.553377</td>\n",
       "    </tr>\n",
       "    <tr>\n",
       "      <th>std</th>\n",
       "      <td>9.432617</td>\n",
       "      <td>18.514154</td>\n",
       "      <td>109.384145</td>\n",
       "      <td>0.423046</td>\n",
       "      <td>25.460334</td>\n",
       "      <td>1.066570</td>\n",
       "      <td>0.497414</td>\n",
       "    </tr>\n",
       "    <tr>\n",
       "      <th>min</th>\n",
       "      <td>28.000000</td>\n",
       "      <td>0.000000</td>\n",
       "      <td>0.000000</td>\n",
       "      <td>0.000000</td>\n",
       "      <td>60.000000</td>\n",
       "      <td>-2.600000</td>\n",
       "      <td>0.000000</td>\n",
       "    </tr>\n",
       "    <tr>\n",
       "      <th>25%</th>\n",
       "      <td>47.000000</td>\n",
       "      <td>120.000000</td>\n",
       "      <td>173.250000</td>\n",
       "      <td>0.000000</td>\n",
       "      <td>120.000000</td>\n",
       "      <td>0.000000</td>\n",
       "      <td>0.000000</td>\n",
       "    </tr>\n",
       "    <tr>\n",
       "      <th>50%</th>\n",
       "      <td>54.000000</td>\n",
       "      <td>130.000000</td>\n",
       "      <td>223.000000</td>\n",
       "      <td>0.000000</td>\n",
       "      <td>138.000000</td>\n",
       "      <td>0.600000</td>\n",
       "      <td>1.000000</td>\n",
       "    </tr>\n",
       "    <tr>\n",
       "      <th>75%</th>\n",
       "      <td>60.000000</td>\n",
       "      <td>140.000000</td>\n",
       "      <td>267.000000</td>\n",
       "      <td>0.000000</td>\n",
       "      <td>156.000000</td>\n",
       "      <td>1.500000</td>\n",
       "      <td>1.000000</td>\n",
       "    </tr>\n",
       "    <tr>\n",
       "      <th>max</th>\n",
       "      <td>77.000000</td>\n",
       "      <td>200.000000</td>\n",
       "      <td>603.000000</td>\n",
       "      <td>1.000000</td>\n",
       "      <td>202.000000</td>\n",
       "      <td>6.200000</td>\n",
       "      <td>1.000000</td>\n",
       "    </tr>\n",
       "  </tbody>\n",
       "</table>\n",
       "</div>"
      ],
      "text/plain": [
       "              Age   RestingBP  Cholesterol   FastingBS       MaxHR  \\\n",
       "count  918.000000  918.000000   918.000000  918.000000  918.000000   \n",
       "mean    53.510893  132.396514   198.799564    0.233115  136.809368   \n",
       "std      9.432617   18.514154   109.384145    0.423046   25.460334   \n",
       "min     28.000000    0.000000     0.000000    0.000000   60.000000   \n",
       "25%     47.000000  120.000000   173.250000    0.000000  120.000000   \n",
       "50%     54.000000  130.000000   223.000000    0.000000  138.000000   \n",
       "75%     60.000000  140.000000   267.000000    0.000000  156.000000   \n",
       "max     77.000000  200.000000   603.000000    1.000000  202.000000   \n",
       "\n",
       "          Oldpeak  HeartDisease  \n",
       "count  918.000000    918.000000  \n",
       "mean     0.887364      0.553377  \n",
       "std      1.066570      0.497414  \n",
       "min     -2.600000      0.000000  \n",
       "25%      0.000000      0.000000  \n",
       "50%      0.600000      1.000000  \n",
       "75%      1.500000      1.000000  \n",
       "max      6.200000      1.000000  "
      ]
     },
     "execution_count": 166,
     "metadata": {},
     "output_type": "execute_result"
    }
   ],
   "source": [
    "data.describe()"
   ]
  },
  {
   "cell_type": "code",
   "execution_count": 167,
   "metadata": {},
   "outputs": [
    {
     "data": {
      "text/plain": [
       "Age               0\n",
       "Sex               0\n",
       "ChestPainType     0\n",
       "RestingBP         0\n",
       "Cholesterol       0\n",
       "FastingBS         0\n",
       "RestingECG        0\n",
       "MaxHR             0\n",
       "ExerciseAngina    0\n",
       "Oldpeak           0\n",
       "ST_Slope          0\n",
       "HeartDisease      0\n",
       "dtype: int64"
      ]
     },
     "execution_count": 167,
     "metadata": {},
     "output_type": "execute_result"
    }
   ],
   "source": [
    "data.isnull().sum()"
   ]
  },
  {
   "cell_type": "code",
   "execution_count": 168,
   "metadata": {},
   "outputs": [
    {
     "data": {
      "text/plain": [
       "M    725\n",
       "F    193\n",
       "Name: Sex, dtype: int64"
      ]
     },
     "execution_count": 168,
     "metadata": {},
     "output_type": "execute_result"
    }
   ],
   "source": [
    "data['Sex'].value_counts()"
   ]
  },
  {
   "cell_type": "code",
   "execution_count": 169,
   "metadata": {},
   "outputs": [
    {
     "data": {
      "image/png": "[encoded data removed]",
      "text/plain": [
       "<Figure size 864x432 with 1 Axes>"
      ]
     },
     "metadata": {},
     "output_type": "display_data"
    }
   ],
   "source": [
    "sns.set_style('whitegrid')\n",
    "plt.figure(figsize=(12,6))\n",
    "sns.countplot(x=\"RestingECG\", data=data, palette='Blues');"
   ]
  },
  {
   "cell_type": "code",
   "execution_count": 170,
   "metadata": {},
   "outputs": [
    {
     "data": {
      "image/png": "[encoded data removed]",
      "text/plain": [
       "<Figure size 864x432 with 1 Axes>"
      ]
     },
     "metadata": {},
     "output_type": "display_data"
    }
   ],
   "source": [
    "sns.set_style('whitegrid')\n",
    "plt.figure(figsize=(12,6))\n",
    "sns.countplot(x=\"Sex\", data=data, palette='Blues');"
   ]
  },
  {
   "cell_type": "code",
   "execution_count": 171,
   "metadata": {},
   "outputs": [
    {
     "data": {
      "text/plain": [
       "(918, 12)"
      ]
     },
     "execution_count": 171,
     "metadata": {},
     "output_type": "execute_result"
    }
   ],
   "source": [
    "data.shape"
   ]
  },
  {
   "cell_type": "code",
   "execution_count": 172,
   "metadata": {},
   "outputs": [
    {
     "data": {
      "text/html": [
       "<div>\n",
       "<style scoped>\n",
       "    .dataframe tbody tr th:only-of-type {\n",
       "        vertical-align: middle;\n",
       "    }\n",
       "\n",
       "    .dataframe tbody tr th {\n",
       "        vertical-align: top;\n",
       "    }\n",
       "\n",
       "    .dataframe thead th {\n",
       "        text-align: right;\n",
       "    }\n",
       "</style>\n",
       "<table border=\"1\" class=\"dataframe\">\n",
       "  <thead>\n",
       "    <tr style=\"text-align: right;\">\n",
       "      <th></th>\n",
       "      <th>Age</th>\n",
       "      <th>RestingBP</th>\n",
       "      <th>Cholesterol</th>\n",
       "      <th>FastingBS</th>\n",
       "      <th>MaxHR</th>\n",
       "      <th>Oldpeak</th>\n",
       "      <th>HeartDisease</th>\n",
       "    </tr>\n",
       "  </thead>\n",
       "  <tbody>\n",
       "    <tr>\n",
       "      <th>Age</th>\n",
       "      <td>1.000000</td>\n",
       "      <td>0.254399</td>\n",
       "      <td>-0.095282</td>\n",
       "      <td>0.198039</td>\n",
       "      <td>-0.382045</td>\n",
       "      <td>0.258612</td>\n",
       "      <td>0.282039</td>\n",
       "    </tr>\n",
       "    <tr>\n",
       "      <th>RestingBP</th>\n",
       "      <td>0.254399</td>\n",
       "      <td>1.000000</td>\n",
       "      <td>0.100893</td>\n",
       "      <td>0.070193</td>\n",
       "      <td>-0.112135</td>\n",
       "      <td>0.164803</td>\n",
       "      <td>0.107589</td>\n",
       "    </tr>\n",
       "    <tr>\n",
       "      <th>Cholesterol</th>\n",
       "      <td>-0.095282</td>\n",
       "      <td>0.100893</td>\n",
       "      <td>1.000000</td>\n",
       "      <td>-0.260974</td>\n",
       "      <td>0.235792</td>\n",
       "      <td>0.050148</td>\n",
       "      <td>-0.232741</td>\n",
       "    </tr>\n",
       "    <tr>\n",
       "      <th>FastingBS</th>\n",
       "      <td>0.198039</td>\n",
       "      <td>0.070193</td>\n",
       "      <td>-0.260974</td>\n",
       "      <td>1.000000</td>\n",
       "      <td>-0.131438</td>\n",
       "      <td>0.052698</td>\n",
       "      <td>0.267291</td>\n",
       "    </tr>\n",
       "    <tr>\n",
       "      <th>MaxHR</th>\n",
       "      <td>-0.382045</td>\n",
       "      <td>-0.112135</td>\n",
       "      <td>0.235792</td>\n",
       "      <td>-0.131438</td>\n",
       "      <td>1.000000</td>\n",
       "      <td>-0.160691</td>\n",
       "      <td>-0.400421</td>\n",
       "    </tr>\n",
       "    <tr>\n",
       "      <th>Oldpeak</th>\n",
       "      <td>0.258612</td>\n",
       "      <td>0.164803</td>\n",
       "      <td>0.050148</td>\n",
       "      <td>0.052698</td>\n",
       "      <td>-0.160691</td>\n",
       "      <td>1.000000</td>\n",
       "      <td>0.403951</td>\n",
       "    </tr>\n",
       "    <tr>\n",
       "      <th>HeartDisease</th>\n",
       "      <td>0.282039</td>\n",
       "      <td>0.107589</td>\n",
       "      <td>-0.232741</td>\n",
       "      <td>0.267291</td>\n",
       "      <td>-0.400421</td>\n",
       "      <td>0.403951</td>\n",
       "      <td>1.000000</td>\n",
       "    </tr>\n",
       "  </tbody>\n",
       "</table>\n",
       "</div>"
      ],
      "text/plain": [
       "                   Age  RestingBP  Cholesterol  FastingBS     MaxHR   Oldpeak  \\\n",
       "Age           1.000000   0.254399    -0.095282   0.198039 -0.382045  0.258612   \n",
       "RestingBP     0.254399   1.000000     0.100893   0.070193 -0.112135  0.164803   \n",
       "Cholesterol  -0.095282   0.100893     1.000000  -0.260974  0.235792  0.050148   \n",
       "FastingBS     0.198039   0.070193    -0.260974   1.000000 -0.131438  0.052698   \n",
       "MaxHR        -0.382045  -0.112135     0.235792  -0.131438  1.000000 -0.160691   \n",
       "Oldpeak       0.258612   0.164803     0.050148   0.052698 -0.160691  1.000000   \n",
       "HeartDisease  0.282039   0.107589    -0.232741   0.267291 -0.400421  0.403951   \n",
       "\n",
       "              HeartDisease  \n",
       "Age               0.282039  \n",
       "RestingBP         0.107589  \n",
       "Cholesterol      -0.232741  \n",
       "FastingBS         0.267291  \n",
       "MaxHR            -0.400421  \n",
       "Oldpeak           0.403951  \n",
       "HeartDisease      1.000000  "
      ]
     },
     "execution_count": 172,
     "metadata": {},
     "output_type": "execute_result"
    }
   ],
   "source": [
    "data.corr()"
   ]
  },
  {
   "cell_type": "code",
   "execution_count": 173,
   "metadata": {},
   "outputs": [
    {
     "data": {
      "image/png": "[encoded data removed]",
      "text/plain": [
       "<Figure size 1080x720 with 2 Axes>"
      ]
     },
     "metadata": {},
     "output_type": "display_data"
    }
   ],
   "source": [
    "plt.figure(figsize=(15,10))\n",
    "matrix=np.triu(data.corr())\n",
    "sns.heatmap(data.corr(), annot=True, mask=matrix,square=True, cmap=\"icefire\")\n",
    "plt.yticks(rotation=0)\n",
    "plt.show()"
   ]
  },
  {
   "cell_type": "code",
   "execution_count": 174,
   "metadata": {},
   "outputs": [
    {
     "data": {
      "text/plain": [
       "Index(['Age', 'Sex', 'ChestPainType', 'RestingBP', 'Cholesterol', 'FastingBS',\n",
       "       'RestingECG', 'MaxHR', 'ExerciseAngina', 'Oldpeak', 'ST_Slope',\n",
       "       'HeartDisease'],\n",
       "      dtype='object')"
      ]
     },
     "execution_count": 174,
     "metadata": {},
     "output_type": "execute_result"
    }
   ],
   "source": [
    "data.columns"
   ]
  },
  {
   "cell_type": "code",
   "execution_count": 175,
   "metadata": {},
   "outputs": [
    {
     "name": "stderr",
     "output_type": "stream",
     "text": [
      "C:\\Users\\KIIT\\anaconda3\\lib\\site-packages\\seaborn\\distributions.py:369: UserWarning:\n",
      "\n",
      "Default bandwidth for data is 0; skipping density estimation.\n",
      "\n"
     ]
    },
    {
     "data": {
      "text/plain": [
       "<seaborn.axisgrid.PairGrid at 0x17803f3db80>"
      ]
     },
     "execution_count": 175,
     "metadata": {},
     "output_type": "execute_result"
    },
    {
     "data": {
      "image/png": "[encoded data removed]",
      "text/plain": [
       "<Figure size 1304.38x1260 with 56 Axes>"
      ]
     },
     "metadata": {},
     "output_type": "display_data"
    }
   ],
   "source": [
    "mean_col=['Age', 'Sex', 'ChestPainType', 'RestingBP', 'Cholesterol', 'FastingBS',\n",
    "       'RestingECG', 'MaxHR', 'ExerciseAngina', 'Oldpeak', 'ST_Slope',\n",
    "       'HeartDisease']\n",
    "sns.pairplot(data[mean_col], hue='Sex', palette='vlag')"
   ]
  },
  {
   "cell_type": "code",
   "execution_count": 176,
   "metadata": {},
   "outputs": [
    {
     "data": {
      "image/png": "[encoded data removed]",
      "text/plain": [
       "<Figure size 432x288 with 1 Axes>"
      ]
     },
     "metadata": {},
     "output_type": "display_data"
    }
   ],
   "source": [
    "plt.hist(data[\"Age\"])\n",
    "plt.xlabel(\"Age\")\n",
    "plt.ylabel(\"Count\")\n",
    "plt.title(\"How many people belong to different ages in the dataset\")\n",
    "plt.show()"
   ]
  },
  {
   "cell_type": "code",
   "execution_count": 177,
   "metadata": {},
   "outputs": [
    {
     "data": {
      "text/plain": [
       "Index(['Age', 'Sex', 'ChestPainType', 'RestingBP', 'Cholesterol', 'FastingBS',\n",
       "       'RestingECG', 'MaxHR', 'ExerciseAngina', 'Oldpeak', 'ST_Slope',\n",
       "       'HeartDisease'],\n",
       "      dtype='object')"
      ]
     },
     "execution_count": 177,
     "metadata": {},
     "output_type": "execute_result"
    }
   ],
   "source": [
    "data.columns"
   ]
  },
  {
   "cell_type": "code",
   "execution_count": 178,
   "metadata": {},
   "outputs": [
    {
     "data": {
      "text/plain": [
       "Text(0.5, 1.0, 'Plot show the count according to the ChestPainType')"
      ]
     },
     "execution_count": 178,
     "metadata": {},
     "output_type": "execute_result"
    },
    {
     "data": {
      "image/png": "[encoded data removed]",
      "text/plain": [
       "<Figure size 864x432 with 1 Axes>"
      ]
     },
     "metadata": {},
     "output_type": "display_data"
    }
   ],
   "source": [
    "sns.set_style('whitegrid')\n",
    "plt.figure(figsize=(12,6))\n",
    "sns.countplot(x=\"ChestPainType\", data=data, palette='Spectral');\n",
    "plt.title(\"Plot show the count according to the ChestPainType\")"
   ]
  },
  {
   "cell_type": "code",
   "execution_count": 179,
   "metadata": {},
   "outputs": [
    {
     "data": {
      "image/png": "[encoded data removed]",
      "text/plain": [
       "<Figure size 1440x720 with 1 Axes>"
      ]
     },
     "metadata": {},
     "output_type": "display_data"
    }
   ],
   "source": [
    "plt.figure(figsize =(20, 10))\n",
    "data.boxplot()\n",
    "plt.show()"
   ]
  },
  {
   "cell_type": "code",
   "execution_count": 180,
   "metadata": {},
   "outputs": [
    {
     "data": {
      "application/vnd.plotly.v1+json": {
       "config": {
        "plotlyServerURL": "https://plot.ly"
       },
       "data": [
        {
         "alignmentgroup": "True",
         "hovertemplate": "Age=%{x}<br>ChestPainType=%{y}<extra></extra>",
         "legendgroup": "",
         "marker": {
          "color": "#636efa"
         },
         "name": "",
         "notched": false,
         "offsetgroup": "",
         "orientation": "h",
         "showlegend": false,
         "type": "box",
         "x": [
          40,
          49,
          37,
          48,
          54,
          39,
          45,
          54,
          37,
          48,
          37,
          58,
          39,
          49,
          42,
          54,
          38,
          43,
          60,
          36,
          43,
          44,
          49,
          44,
          40,
          36,
          53,
          52,
          53,
          51,
          53,
          56,
          54,
          41,
          43,
          32,
          65,
          41,
          48,
          48,
          54,
          54,
          35,
          52,
          43,
          59,
          37,
          50,
          36,
          41,
          50,
          47,
          45,
          41,
          52,
          51,
          31,
          58,
          54,
          52,
          49,
          43,
          45,
          46,
          50,
          37,
          45,
          32,
          52,
          44,
          57,
          44,
          52,
          44,
          55,
          46,
          32,
          35,
          52,
          49,
          55,
          54,
          63,
          52,
          56,
          66,
          65,
          53,
          43,
          55,
          49,
          39,
          52,
          48,
          39,
          58,
          43,
          39,
          56,
          41,
          65,
          51,
          40,
          40,
          46,
          57,
          48,
          34,
          50,
          39,
          59,
          57,
          47,
          38,
          49,
          33,
          38,
          59,
          35,
          34,
          47,
          52,
          46,
          58,
          58,
          54,
          34,
          48,
          54,
          42,
          38,
          46,
          56,
          56,
          61,
          49,
          43,
          39,
          54,
          43,
          52,
          50,
          47,
          53,
          56,
          39,
          42,
          43,
          50,
          54,
          39,
          48,
          40,
          55,
          41,
          56,
          38,
          49,
          44,
          54,
          59,
          49,
          47,
          42,
          52,
          46,
          50,
          48,
          58,
          58,
          29,
          40,
          53,
          49,
          52,
          43,
          54,
          59,
          37,
          46,
          52,
          51,
          52,
          46,
          54,
          58,
          58,
          41,
          50,
          53,
          46,
          50,
          48,
          45,
          41,
          62,
          49,
          42,
          53,
          57,
          47,
          46,
          42,
          31,
          56,
          50,
          35,
          35,
          28,
          54,
          48,
          50,
          56,
          56,
          47,
          30,
          39,
          54,
          55,
          29,
          46,
          51,
          48,
          33,
          55,
          50,
          53,
          38,
          41,
          37,
          37,
          40,
          38,
          41,
          54,
          39,
          41,
          55,
          48,
          48,
          55,
          54,
          55,
          43,
          48,
          54,
          54,
          48,
          45,
          49,
          44,
          48,
          61,
          62,
          55,
          53,
          55,
          36,
          51,
          55,
          46,
          54,
          46,
          59,
          47,
          54,
          52,
          34,
          54,
          47,
          45,
          32,
          55,
          55,
          45,
          59,
          51,
          52,
          57,
          54,
          60,
          49,
          51,
          55,
          42,
          51,
          59,
          53,
          48,
          36,
          48,
          47,
          53,
          65,
          32,
          61,
          50,
          57,
          51,
          47,
          60,
          55,
          53,
          62,
          51,
          51,
          55,
          53,
          58,
          57,
          65,
          60,
          41,
          34,
          53,
          74,
          57,
          56,
          61,
          68,
          59,
          63,
          38,
          62,
          46,
          42,
          45,
          59,
          52,
          60,
          60,
          56,
          38,
          40,
          51,
          62,
          72,
          63,
          63,
          64,
          43,
          64,
          61,
          52,
          51,
          69,
          59,
          48,
          69,
          36,
          53,
          43,
          56,
          58,
          55,
          67,
          46,
          53,
          38,
          53,
          62,
          47,
          56,
          56,
          56,
          64,
          61,
          68,
          57,
          63,
          60,
          66,
          63,
          59,
          61,
          73,
          47,
          65,
          70,
          50,
          60,
          50,
          43,
          38,
          54,
          61,
          42,
          53,
          55,
          61,
          51,
          70,
          61,
          38,
          57,
          38,
          62,
          58,
          52,
          61,
          50,
          51,
          65,
          52,
          47,
          35,
          57,
          62,
          59,
          53,
          62,
          54,
          56,
          56,
          54,
          66,
          63,
          44,
          60,
          55,
          66,
          66,
          65,
          60,
          60,
          60,
          56,
          59,
          62,
          63,
          57,
          62,
          63,
          46,
          63,
          60,
          58,
          64,
          63,
          74,
          52,
          69,
          51,
          60,
          56,
          55,
          54,
          77,
          63,
          55,
          52,
          64,
          60,
          60,
          58,
          59,
          61,
          40,
          61,
          41,
          57,
          63,
          59,
          51,
          59,
          42,
          55,
          63,
          62,
          56,
          53,
          68,
          53,
          60,
          62,
          59,
          51,
          61,
          57,
          56,
          58,
          69,
          67,
          58,
          65,
          63,
          55,
          57,
          65,
          54,
          72,
          75,
          49,
          51,
          60,
          64,
          58,
          61,
          67,
          62,
          65,
          63,
          69,
          51,
          62,
          55,
          75,
          40,
          67,
          58,
          60,
          63,
          35,
          62,
          43,
          63,
          68,
          65,
          48,
          63,
          64,
          61,
          50,
          59,
          55,
          45,
          65,
          61,
          49,
          72,
          50,
          64,
          55,
          63,
          59,
          56,
          62,
          74,
          54,
          57,
          62,
          76,
          54,
          70,
          61,
          48,
          48,
          61,
          66,
          68,
          55,
          62,
          71,
          74,
          53,
          58,
          75,
          56,
          58,
          64,
          54,
          54,
          59,
          55,
          57,
          61,
          41,
          71,
          38,
          55,
          56,
          69,
          64,
          72,
          69,
          56,
          62,
          67,
          57,
          69,
          51,
          48,
          69,
          69,
          64,
          57,
          53,
          37,
          67,
          74,
          63,
          58,
          61,
          64,
          58,
          60,
          57,
          55,
          55,
          56,
          57,
          61,
          61,
          74,
          68,
          51,
          62,
          53,
          62,
          46,
          54,
          62,
          55,
          58,
          62,
          70,
          67,
          57,
          64,
          74,
          65,
          56,
          59,
          60,
          63,
          59,
          53,
          44,
          61,
          57,
          71,
          46,
          53,
          64,
          40,
          67,
          48,
          43,
          47,
          54,
          48,
          46,
          51,
          58,
          71,
          57,
          66,
          37,
          59,
          50,
          48,
          61,
          59,
          42,
          48,
          40,
          62,
          44,
          46,
          59,
          58,
          49,
          44,
          66,
          65,
          42,
          52,
          65,
          63,
          45,
          41,
          61,
          60,
          59,
          62,
          57,
          51,
          44,
          60,
          63,
          57,
          51,
          58,
          44,
          47,
          61,
          57,
          70,
          76,
          67,
          45,
          45,
          39,
          42,
          56,
          58,
          35,
          58,
          41,
          57,
          42,
          62,
          59,
          41,
          50,
          59,
          61,
          54,
          54,
          52,
          47,
          66,
          58,
          64,
          50,
          44,
          67,
          49,
          57,
          63,
          48,
          51,
          60,
          59,
          45,
          55,
          41,
          60,
          54,
          42,
          49,
          46,
          56,
          66,
          56,
          49,
          54,
          57,
          65,
          54,
          54,
          62,
          52,
          52,
          60,
          63,
          66,
          42,
          64,
          54,
          46,
          67,
          56,
          34,
          57,
          64,
          59,
          50,
          51,
          54,
          53,
          52,
          40,
          58,
          41,
          41,
          50,
          54,
          64,
          51,
          46,
          55,
          45,
          56,
          66,
          38,
          62,
          55,
          58,
          43,
          64,
          50,
          53,
          45,
          65,
          69,
          69,
          67,
          68,
          34,
          62,
          51,
          46,
          67,
          50,
          42,
          56,
          41,
          42,
          53,
          43,
          56,
          52,
          62,
          70,
          54,
          70,
          54,
          35,
          48,
          55,
          58,
          54,
          69,
          77,
          68,
          58,
          60,
          51,
          55,
          52,
          60,
          58,
          64,
          37,
          59,
          51,
          43,
          58,
          29,
          41,
          63,
          51,
          54,
          44,
          54,
          65,
          57,
          63,
          35,
          41,
          62,
          43,
          58,
          52,
          61,
          39,
          45,
          52,
          62,
          62,
          53,
          43,
          47,
          52,
          68,
          39,
          53,
          62,
          51,
          60,
          65,
          65,
          60,
          60,
          54,
          44,
          44,
          51,
          59,
          71,
          61,
          55,
          64,
          43,
          58,
          60,
          58,
          49,
          48,
          52,
          44,
          56,
          57,
          67,
          53,
          52,
          43,
          52,
          59,
          64,
          66,
          39,
          57,
          58,
          57,
          47,
          55,
          35,
          61,
          58,
          58,
          58,
          56,
          56,
          67,
          55,
          44,
          63,
          63,
          41,
          59,
          57,
          45,
          68,
          57,
          57,
          38
         ],
         "x0": " ",
         "xaxis": "x",
         "y": [
          "ATA",
          "NAP",
          "ATA",
          "ASY",
          "NAP",
          "NAP",
          "ATA",
          "ATA",
          "ASY",
          "ATA",
          "NAP",
          "ATA",
          "ATA",
          "ASY",
          "NAP",
          "ATA",
          "ASY",
          "ATA",
          "ASY",
          "ATA",
          "TA",
          "ATA",
          "ATA",
          "ATA",
          "NAP",
          "NAP",
          "ASY",
          "ATA",
          "ATA",
          "ATA",
          "NAP",
          "NAP",
          "ASY",
          "ASY",
          "ATA",
          "ATA",
          "ASY",
          "ATA",
          "ATA",
          "ASY",
          "ATA",
          "NAP",
          "ATA",
          "NAP",
          "ASY",
          "NAP",
          "ASY",
          "ATA",
          "NAP",
          "ASY",
          "ASY",
          "ASY",
          "ATA",
          "ATA",
          "ASY",
          "ATA",
          "ASY",
          "NAP",
          "ASY",
          "ASY",
          "ATA",
          "NAP",
          "ASY",
          "ASY",
          "ATA",
          "ATA",
          "ASY",
          "ATA",
          "ASY",
          "ASY",
          "ATA",
          "ATA",
          "ASY",
          "ASY",
          "ASY",
          "NAP",
          "ASY",
          "ASY",
          "ATA",
          "ASY",
          "NAP",
          "ATA",
          "ASY",
          "ATA",
          "ASY",
          "ASY",
          "ASY",
          "ATA",
          "TA",
          "ASY",
          "ATA",
          "ASY",
          "ATA",
          "ASY",
          "NAP",
          "ASY",
          "ATA",
          "NAP",
          "ASY",
          "ATA",
          "ASY",
          "ASY",
          "ASY",
          "ASY",
          "ASY",
          "ATA",
          "ASY",
          "ATA",
          "ASY",
          "ATA",
          "ATA",
          "ASY",
          "ASY",
          "ATA",
          "NAP",
          "ASY",
          "ASY",
          "ASY",
          "TA",
          "TA",
          "NAP",
          "NAP",
          "ASY",
          "ATA",
          "ATA",
          "ATA",
          "ATA",
          "ASY",
          "ATA",
          "NAP",
          "NAP",
          "ASY",
          "ASY",
          "ASY",
          "ASY",
          "NAP",
          "ATA",
          "ATA",
          "ASY",
          "ASY",
          "ASY",
          "ASY",
          "ASY",
          "ASY",
          "ATA",
          "ASY",
          "ATA",
          "ATA",
          "ATA",
          "ASY",
          "ATA",
          "ATA",
          "ATA",
          "ASY",
          "ATA",
          "ASY",
          "ASY",
          "ASY",
          "ASY",
          "ATA",
          "ASY",
          "ASY",
          "ATA",
          "ATA",
          "ATA",
          "TA",
          "ASY",
          "ATA",
          "ASY",
          "NAP",
          "ATA",
          "NAP",
          "ATA",
          "NAP",
          "ASY",
          "ASY",
          "ASY",
          "ATA",
          "NAP",
          "ASY",
          "ASY",
          "ATA",
          "ASY",
          "ASY",
          "ATA",
          "NAP",
          "ATA",
          "ASY",
          "ASY",
          "ASY",
          "ASY",
          "ATA",
          "ATA",
          "NAP",
          "ATA",
          "TA",
          "ASY",
          "ATA",
          "ASY",
          "TA",
          "TA",
          "NAP",
          "NAP",
          "ATA",
          "ATA",
          "ASY",
          "ATA",
          "ATA",
          "ATA",
          "ASY",
          "ASY",
          "NAP",
          "NAP",
          "NAP",
          "ASY",
          "TA",
          "ASY",
          "NAP",
          "ATA",
          "ATA",
          "ASY",
          "ASY",
          "NAP",
          "NAP",
          "ATA",
          "ASY",
          "NAP",
          "ASY",
          "ATA",
          "ASY",
          "ASY",
          "NAP",
          "ATA",
          "ASY",
          "ATA",
          "ATA",
          "ASY",
          "TA",
          "ASY",
          "ASY",
          "ATA",
          "ASY",
          "ATA",
          "ATA",
          "ASY",
          "TA",
          "NAP",
          "ASY",
          "ASY",
          "ASY",
          "ASY",
          "ASY",
          "ASY",
          "ATA",
          "ASY",
          "NAP",
          "ATA",
          "NAP",
          "NAP",
          "ATA",
          "ATA",
          "ATA",
          "ASY",
          "ASY",
          "NAP",
          "ATA",
          "ASY",
          "ATA",
          "ASY",
          "NAP",
          "ASY",
          "ATA",
          "ASY",
          "NAP",
          "ATA",
          "NAP",
          "NAP",
          "ASY",
          "ASY",
          "ATA",
          "NAP",
          "ASY",
          "NAP",
          "ATA",
          "ASY",
          "NAP",
          "ASY",
          "ATA",
          "ATA",
          "ATA",
          "NAP",
          "ATA",
          "ASY",
          "ASY",
          "TA",
          "ASY",
          "ASY",
          "ASY",
          "ASY",
          "ASY",
          "ASY",
          "ATA",
          "ASY",
          "ASY",
          "ASY",
          "ASY",
          "ASY",
          "ATA",
          "ASY",
          "ASY",
          "ASY",
          "ASY",
          "ASY",
          "ASY",
          "ASY",
          "ATA",
          "NAP",
          "ASY",
          "ASY",
          "ASY",
          "NAP",
          "ASY",
          "ASY",
          "ASY",
          "ASY",
          "ASY",
          "NAP",
          "ASY",
          "ASY",
          "ASY",
          "NAP",
          "ASY",
          "NAP",
          "ASY",
          "ASY",
          "TA",
          "NAP",
          "ASY",
          "ASY",
          "ASY",
          "ASY",
          "ASY",
          "ASY",
          "ASY",
          "ASY",
          "ASY",
          "ASY",
          "ASY",
          "ASY",
          "ASY",
          "ASY",
          "ASY",
          "ASY",
          "ASY",
          "ASY",
          "TA",
          "ASY",
          "ATA",
          "NAP",
          "NAP",
          "NAP",
          "ASY",
          "NAP",
          "ASY",
          "NAP",
          "ASY",
          "ASY",
          "ASY",
          "ASY",
          "ASY",
          "ASY",
          "ASY",
          "ASY",
          "ASY",
          "ASY",
          "NAP",
          "NAP",
          "ASY",
          "ASY",
          "ASY",
          "ASY",
          "ASY",
          "ASY",
          "ASY",
          "ASY",
          "ASY",
          "ASY",
          "ASY",
          "ASY",
          "ASY",
          "ASY",
          "ASY",
          "ASY",
          "ASY",
          "ASY",
          "ASY",
          "TA",
          "ASY",
          "ASY",
          "NAP",
          "ASY",
          "ASY",
          "ASY",
          "ASY",
          "NAP",
          "ASY",
          "ASY",
          "ASY",
          "ASY",
          "NAP",
          "ASY",
          "ASY",
          "ASY",
          "NAP",
          "ASY",
          "ASY",
          "ASY",
          "ASY",
          "ASY",
          "ASY",
          "NAP",
          "NAP",
          "ASY",
          "NAP",
          "NAP",
          "ATA",
          "ATA",
          "ASY",
          "ASY",
          "NAP",
          "ASY",
          "ASY",
          "ASY",
          "ASY",
          "ASY",
          "ASY",
          "ASY",
          "ASY",
          "NAP",
          "NAP",
          "NAP",
          "ASY",
          "ASY",
          "ASY",
          "ASY",
          "NAP",
          "ASY",
          "ASY",
          "ASY",
          "NAP",
          "NAP",
          "ASY",
          "ASY",
          "ASY",
          "ASY",
          "ASY",
          "NAP",
          "ASY",
          "ASY",
          "ASY",
          "ASY",
          "ASY",
          "ASY",
          "ASY",
          "NAP",
          "NAP",
          "NAP",
          "ATA",
          "ASY",
          "ATA",
          "ASY",
          "ASY",
          "ASY",
          "NAP",
          "ATA",
          "ASY",
          "ASY",
          "ASY",
          "ASY",
          "NAP",
          "ATA",
          "NAP",
          "TA",
          "ASY",
          "ASY",
          "ATA",
          "ATA",
          "ASY",
          "TA",
          "ASY",
          "NAP",
          "ASY",
          "TA",
          "NAP",
          "ASY",
          "ASY",
          "ASY",
          "ASY",
          "ASY",
          "ASY",
          "ASY",
          "ASY",
          "ASY",
          "ASY",
          "ASY",
          "NAP",
          "ASY",
          "NAP",
          "ASY",
          "ASY",
          "ASY",
          "ASY",
          "NAP",
          "TA",
          "ASY",
          "NAP",
          "NAP",
          "ASY",
          "NAP",
          "ASY",
          "ASY",
          "ASY",
          "ASY",
          "ASY",
          "ASY",
          "NAP",
          "ASY",
          "ATA",
          "NAP",
          "ASY",
          "ASY",
          "ASY",
          "ASY",
          "ASY",
          "ASY",
          "ASY",
          "NAP",
          "ASY",
          "ASY",
          "ASY",
          "NAP",
          "NAP",
          "ASY",
          "ASY",
          "ATA",
          "ASY",
          "NAP",
          "TA",
          "ASY",
          "TA",
          "ASY",
          "NAP",
          "NAP",
          "TA",
          "NAP",
          "NAP",
          "ASY",
          "NAP",
          "NAP",
          "ASY",
          "NAP",
          "ATA",
          "ASY",
          "ASY",
          "ASY",
          "ASY",
          "ASY",
          "ASY",
          "ASY",
          "ASY",
          "ASY",
          "ASY",
          "ASY",
          "ASY",
          "ASY",
          "ASY",
          "ASY",
          "ASY",
          "ASY",
          "ASY",
          "ASY",
          "ASY",
          "ASY",
          "NAP",
          "ASY",
          "ATA",
          "ASY",
          "NAP",
          "ASY",
          "NAP",
          "ATA",
          "ASY",
          "ASY",
          "ASY",
          "ASY",
          "ASY",
          "ASY",
          "NAP",
          "ASY",
          "ASY",
          "ASY",
          "NAP",
          "NAP",
          "ASY",
          "NAP",
          "ASY",
          "ASY",
          "ASY",
          "ASY",
          "ASY",
          "ASY",
          "TA",
          "ASY",
          "ASY",
          "ATA",
          "ASY",
          "NAP",
          "ATA",
          "ASY",
          "ATA",
          "ASY",
          "NAP",
          "ASY",
          "ASY",
          "ASY",
          "ASY",
          "ASY",
          "NAP",
          "TA",
          "ASY",
          "ASY",
          "ASY",
          "ASY",
          "TA",
          "TA",
          "ASY",
          "ATA",
          "ASY",
          "ASY",
          "ATA",
          "NAP",
          "ASY",
          "NAP",
          "NAP",
          "NAP",
          "NAP",
          "ASY",
          "NAP",
          "ASY",
          "ASY",
          "ASY",
          "ASY",
          "TA",
          "NAP",
          "ASY",
          "ASY",
          "ASY",
          "NAP",
          "ATA",
          "NAP",
          "NAP",
          "NAP",
          "ASY",
          "ATA",
          "ASY",
          "ASY",
          "ATA",
          "NAP",
          "ATA",
          "ATA",
          "ATA",
          "ASY",
          "NAP",
          "ASY",
          "ATA",
          "NAP",
          "ASY",
          "NAP",
          "TA",
          "TA",
          "ASY",
          "ASY",
          "ATA",
          "NAP",
          "NAP",
          "ASY",
          "ASY",
          "ATA",
          "NAP",
          "ASY",
          "ASY",
          "ASY",
          "NAP",
          "NAP",
          "ATA",
          "ASY",
          "ASY",
          "ASY",
          "NAP",
          "ASY",
          "TA",
          "ATA",
          "TA",
          "ATA",
          "ASY",
          "ATA",
          "ASY",
          "ASY",
          "ASY",
          "ASY",
          "ASY",
          "ASY",
          "ASY",
          "NAP",
          "ATA",
          "NAP",
          "ASY",
          "ASY",
          "ASY",
          "ASY",
          "ASY",
          "NAP",
          "ASY",
          "ASY",
          "ATA",
          "ASY",
          "ATA",
          "ASY",
          "NAP",
          "ATA",
          "ATA",
          "ASY",
          "ASY",
          "TA",
          "ASY",
          "NAP",
          "ASY",
          "ASY",
          "NAP",
          "NAP",
          "NAP",
          "ASY",
          "NAP",
          "ATA",
          "ASY",
          "ASY",
          "ASY",
          "ASY",
          "ASY",
          "NAP",
          "NAP",
          "NAP",
          "ASY",
          "ATA",
          "ASY",
          "ASY",
          "ASY",
          "NAP",
          "TA",
          "ATA",
          "ASY",
          "ASY",
          "ASY",
          "NAP",
          "NAP",
          "NAP",
          "NAP",
          "NAP",
          "ASY",
          "NAP",
          "ATA",
          "ASY",
          "ATA",
          "TA",
          "ASY",
          "TA",
          "ASY",
          "ATA",
          "ASY",
          "ASY",
          "ASY",
          "ASY",
          "NAP",
          "ASY",
          "TA",
          "TA",
          "NAP",
          "ASY",
          "NAP",
          "TA",
          "ASY",
          "ASY",
          "NAP",
          "ASY",
          "NAP",
          "NAP",
          "ASY",
          "ASY",
          "ASY",
          "NAP",
          "NAP",
          "ASY",
          "ASY",
          "ASY",
          "NAP",
          "ASY",
          "ASY",
          "ATA",
          "ASY",
          "NAP",
          "ATA",
          "ASY",
          "NAP",
          "TA",
          "ASY",
          "NAP",
          "ASY",
          "ASY",
          "ASY",
          "ASY",
          "TA",
          "NAP",
          "NAP",
          "NAP",
          "NAP",
          "TA",
          "NAP",
          "NAP",
          "ASY",
          "ATA",
          "ATA",
          "NAP",
          "NAP",
          "NAP",
          "ATA",
          "ASY",
          "ASY",
          "NAP",
          "ASY",
          "ASY",
          "ATA",
          "NAP",
          "ASY",
          "TA",
          "TA",
          "ASY",
          "ASY",
          "ASY",
          "ASY",
          "NAP",
          "ASY",
          "ASY",
          "ASY",
          "NAP",
          "ATA",
          "NAP",
          "NAP",
          "ASY",
          "ASY",
          "NAP",
          "ASY",
          "ASY",
          "NAP",
          "NAP",
          "ASY",
          "ASY",
          "ATA",
          "ASY",
          "NAP",
          "NAP",
          "ATA",
          "NAP",
          "ASY",
          "NAP",
          "ASY",
          "NAP",
          "ASY",
          "ATA",
          "ATA",
          "ATA",
          "NAP",
          "ATA",
          "ATA",
          "ASY",
          "ASY",
          "NAP",
          "NAP",
          "ASY",
          "ASY",
          "TA",
          "TA",
          "NAP",
          "NAP",
          "ATA",
          "ASY",
          "ASY",
          "NAP",
          "ASY",
          "ATA",
          "ASY",
          "ASY",
          "ASY",
          "ATA",
          "ATA",
          "ATA",
          "NAP",
          "ATA",
          "ASY",
          "ASY",
          "ASY",
          "ATA",
          "ASY",
          "ASY",
          "TA",
          "ASY",
          "ASY",
          "ATA",
          "NAP"
         ],
         "y0": " ",
         "yaxis": "y"
        }
       ],
       "layout": {
        "boxmode": "group",
        "legend": {
         "tracegroupgap": 0
        },
        "margin": {
         "t": 60
        },
        "template": {
         "data": {
          "bar": [
           {
            "error_x": {
             "color": "#2a3f5f"
            },
            "error_y": {
             "color": "#2a3f5f"
            },
            "marker": {
             "line": {
              "color": "#E5ECF6",
              "width": 0.5
             },
             "pattern": {
              "fillmode": "overlay",
              "size": 10,
              "solidity": 0.2
             }
            },
            "type": "bar"
           }
          ],
          "barpolar": [
           {
            "marker": {
             "line": {
              "color": "#E5ECF6",
              "width": 0.5
             },
             "pattern": {
              "fillmode": "overlay",
              "size": 10,
              "solidity": 0.2
             }
            },
            "type": "barpolar"
           }
          ],
          "carpet": [
           {
            "aaxis": {
             "endlinecolor": "#2a3f5f",
             "gridcolor": "white",
             "linecolor": "white",
             "minorgridcolor": "white",
             "startlinecolor": "#2a3f5f"
            },
            "baxis": {
             "endlinecolor": "#2a3f5f",
             "gridcolor": "white",
             "linecolor": "white",
             "minorgridcolor": "white",
             "startlinecolor": "#2a3f5f"
            },
            "type": "carpet"
           }
          ],
          "choropleth": [
           {
            "colorbar": {
             "outlinewidth": 0,
             "ticks": ""
            },
            "type": "choropleth"
           }
          ],
          "contour": [
           {
            "colorbar": {
             "outlinewidth": 0,
             "ticks": ""
            },
            "colorscale": [
             [
              0,
              "#0d0887"
             ],
             [
              0.1111111111111111,
              "#46039f"
             ],
             [
              0.2222222222222222,
              "#7201a8"
             ],
             [
              0.3333333333333333,
              "#9c179e"
             ],
             [
              0.4444444444444444,
              "#bd3786"
             ],
             [
              0.5555555555555556,
              "#d8576b"
             ],
             [
              0.6666666666666666,
              "#ed7953"
             ],
             [
              0.7777777777777778,
              "#fb9f3a"
             ],
             [
              0.8888888888888888,
              "#fdca26"
             ],
             [
              1,
              "#f0f921"
             ]
            ],
            "type": "contour"
           }
          ],
          "contourcarpet": [
           {
            "colorbar": {
             "outlinewidth": 0,
             "ticks": ""
            },
            "type": "contourcarpet"
           }
          ],
          "heatmap": [
           {
            "colorbar": {
             "outlinewidth": 0,
             "ticks": ""
            },
            "colorscale": [
             [
              0,
              "#0d0887"
             ],
             [
              0.1111111111111111,
              "#46039f"
             ],
             [
              0.2222222222222222,
              "#7201a8"
             ],
             [
              0.3333333333333333,
              "#9c179e"
             ],
             [
              0.4444444444444444,
              "#bd3786"
             ],
             [
              0.5555555555555556,
              "#d8576b"
             ],
             [
              0.6666666666666666,
              "#ed7953"
             ],
             [
              0.7777777777777778,
              "#fb9f3a"
             ],
             [
              0.8888888888888888,
              "#fdca26"
             ],
             [
              1,
              "#f0f921"
             ]
            ],
            "type": "heatmap"
           }
          ],
          "heatmapgl": [
           {
            "colorbar": {
             "outlinewidth": 0,
             "ticks": ""
            },
            "colorscale": [
             [
              0,
              "#0d0887"
             ],
             [
              0.1111111111111111,
              "#46039f"
             ],
             [
              0.2222222222222222,
              "#7201a8"
             ],
             [
              0.3333333333333333,
              "#9c179e"
             ],
             [
              0.4444444444444444,
              "#bd3786"
             ],
             [
              0.5555555555555556,
              "#d8576b"
             ],
             [
              0.6666666666666666,
              "#ed7953"
             ],
             [
              0.7777777777777778,
              "#fb9f3a"
             ],
             [
              0.8888888888888888,
              "#fdca26"
             ],
             [
              1,
              "#f0f921"
             ]
            ],
            "type": "heatmapgl"
           }
          ],
          "histogram": [
           {
            "marker": {
             "pattern": {
              "fillmode": "overlay",
              "size": 10,
              "solidity": 0.2
             }
            },
            "type": "histogram"
           }
          ],
          "histogram2d": [
           {
            "colorbar": {
             "outlinewidth": 0,
             "ticks": ""
            },
            "colorscale": [
             [
              0,
              "#0d0887"
             ],
             [
              0.1111111111111111,
              "#46039f"
             ],
             [
              0.2222222222222222,
              "#7201a8"
             ],
             [
              0.3333333333333333,
              "#9c179e"
             ],
             [
              0.4444444444444444,
              "#bd3786"
             ],
             [
              0.5555555555555556,
              "#d8576b"
             ],
             [
              0.6666666666666666,
              "#ed7953"
             ],
             [
              0.7777777777777778,
              "#fb9f3a"
             ],
             [
              0.8888888888888888,
              "#fdca26"
             ],
             [
              1,
              "#f0f921"
             ]
            ],
            "type": "histogram2d"
           }
          ],
          "histogram2dcontour": [
           {
            "colorbar": {
             "outlinewidth": 0,
             "ticks": ""
            },
            "colorscale": [
             [
              0,
              "#0d0887"
             ],
             [
              0.1111111111111111,
              "#46039f"
             ],
             [
              0.2222222222222222,
              "#7201a8"
             ],
             [
              0.3333333333333333,
              "#9c179e"
             ],
             [
              0.4444444444444444,
              "#bd3786"
             ],
             [
              0.5555555555555556,
              "#d8576b"
             ],
             [
              0.6666666666666666,
              "#ed7953"
             ],
             [
              0.7777777777777778,
              "#fb9f3a"
             ],
             [
              0.8888888888888888,
              "#fdca26"
             ],
             [
              1,
              "#f0f921"
             ]
            ],
            "type": "histogram2dcontour"
           }
          ],
          "mesh3d": [
           {
            "colorbar": {
             "outlinewidth": 0,
             "ticks": ""
            },
            "type": "mesh3d"
           }
          ],
          "parcoords": [
           {
            "line": {
             "colorbar": {
              "outlinewidth": 0,
              "ticks": ""
             }
            },
            "type": "parcoords"
           }
          ],
          "pie": [
           {
            "automargin": true,
            "type": "pie"
           }
          ],
          "scatter": [
           {
            "marker": {
             "colorbar": {
              "outlinewidth": 0,
              "ticks": ""
             }
            },
            "type": "scatter"
           }
          ],
          "scatter3d": [
           {
            "line": {
             "colorbar": {
              "outlinewidth": 0,
              "ticks": ""
             }
            },
            "marker": {
             "colorbar": {
              "outlinewidth": 0,
              "ticks": ""
             }
            },
            "type": "scatter3d"
           }
          ],
          "scattercarpet": [
           {
            "marker": {
             "colorbar": {
              "outlinewidth": 0,
              "ticks": ""
             }
            },
            "type": "scattercarpet"
           }
          ],
          "scattergeo": [
           {
            "marker": {
             "colorbar": {
              "outlinewidth": 0,
              "ticks": ""
             }
            },
            "type": "scattergeo"
           }
          ],
          "scattergl": [
           {
            "marker": {
             "colorbar": {
              "outlinewidth": 0,
              "ticks": ""
             }
            },
            "type": "scattergl"
           }
          ],
          "scattermapbox": [
           {
            "marker": {
             "colorbar": {
              "outlinewidth": 0,
              "ticks": ""
             }
            },
            "type": "scattermapbox"
           }
          ],
          "scatterpolar": [
           {
            "marker": {
             "colorbar": {
              "outlinewidth": 0,
              "ticks": ""
             }
            },
            "type": "scatterpolar"
           }
          ],
          "scatterpolargl": [
           {
            "marker": {
             "colorbar": {
              "outlinewidth": 0,
              "ticks": ""
             }
            },
            "type": "scatterpolargl"
           }
          ],
          "scatterternary": [
           {
            "marker": {
             "colorbar": {
              "outlinewidth": 0,
              "ticks": ""
             }
            },
            "type": "scatterternary"
           }
          ],
          "surface": [
           {
            "colorbar": {
             "outlinewidth": 0,
             "ticks": ""
            },
            "colorscale": [
             [
              0,
              "#0d0887"
             ],
             [
              0.1111111111111111,
              "#46039f"
             ],
             [
              0.2222222222222222,
              "#7201a8"
             ],
             [
              0.3333333333333333,
              "#9c179e"
             ],
             [
              0.4444444444444444,
              "#bd3786"
             ],
             [
              0.5555555555555556,
              "#d8576b"
             ],
             [
              0.6666666666666666,
              "#ed7953"
             ],
             [
              0.7777777777777778,
              "#fb9f3a"
             ],
             [
              0.8888888888888888,
              "#fdca26"
             ],
             [
              1,
              "#f0f921"
             ]
            ],
            "type": "surface"
           }
          ],
          "table": [
           {
            "cells": {
             "fill": {
              "color": "#EBF0F8"
             },
             "line": {
              "color": "white"
             }
            },
            "header": {
             "fill": {
              "color": "#C8D4E3"
             },
             "line": {
              "color": "white"
             }
            },
            "type": "table"
           }
          ]
         },
         "layout": {
          "annotationdefaults": {
           "arrowcolor": "#2a3f5f",
           "arrowhead": 0,
           "arrowwidth": 1
          },
          "autotypenumbers": "strict",
          "coloraxis": {
           "colorbar": {
            "outlinewidth": 0,
            "ticks": ""
           }
          },
          "colorscale": {
           "diverging": [
            [
             0,
             "#8e0152"
            ],
            [
             0.1,
             "#c51b7d"
            ],
            [
             0.2,
             "#de77ae"
            ],
            [
             0.3,
             "#f1b6da"
            ],
            [
             0.4,
             "#fde0ef"
            ],
            [
             0.5,
             "#f7f7f7"
            ],
            [
             0.6,
             "#e6f5d0"
            ],
            [
             0.7,
             "#b8e186"
            ],
            [
             0.8,
             "#7fbc41"
            ],
            [
             0.9,
             "#4d9221"
            ],
            [
             1,
             "#276419"
            ]
           ],
           "sequential": [
            [
             0,
             "#0d0887"
            ],
            [
             0.1111111111111111,
             "#46039f"
            ],
            [
             0.2222222222222222,
             "#7201a8"
            ],
            [
             0.3333333333333333,
             "#9c179e"
            ],
            [
             0.4444444444444444,
             "#bd3786"
            ],
            [
             0.5555555555555556,
             "#d8576b"
            ],
            [
             0.6666666666666666,
             "#ed7953"
            ],
            [
             0.7777777777777778,
             "#fb9f3a"
            ],
            [
             0.8888888888888888,
             "#fdca26"
            ],
            [
             1,
             "#f0f921"
            ]
           ],
           "sequentialminus": [
            [
             0,
             "#0d0887"
            ],
            [
             0.1111111111111111,
             "#46039f"
            ],
            [
             0.2222222222222222,
             "#7201a8"
            ],
            [
             0.3333333333333333,
             "#9c179e"
            ],
            [
             0.4444444444444444,
             "#bd3786"
            ],
            [
             0.5555555555555556,
             "#d8576b"
            ],
            [
             0.6666666666666666,
             "#ed7953"
            ],
            [
             0.7777777777777778,
             "#fb9f3a"
            ],
            [
             0.8888888888888888,
             "#fdca26"
            ],
            [
             1,
             "#f0f921"
            ]
           ]
          },
          "colorway": [
           "#636efa",
           "#EF553B",
           "#00cc96",
           "#ab63fa",
           "#FFA15A",
           "#19d3f3",
           "#FF6692",
           "#B6E880",
           "#FF97FF",
           "#FECB52"
          ],
          "font": {
           "color": "#2a3f5f"
          },
          "geo": {
           "bgcolor": "white",
           "lakecolor": "white",
           "landcolor": "#E5ECF6",
           "showlakes": true,
           "showland": true,
           "subunitcolor": "white"
          },
          "hoverlabel": {
           "align": "left"
          },
          "hovermode": "closest",
          "mapbox": {
           "style": "light"
          },
          "paper_bgcolor": "white",
          "plot_bgcolor": "#E5ECF6",
          "polar": {
           "angularaxis": {
            "gridcolor": "white",
            "linecolor": "white",
            "ticks": ""
           },
           "bgcolor": "#E5ECF6",
           "radialaxis": {
            "gridcolor": "white",
            "linecolor": "white",
            "ticks": ""
           }
          },
          "scene": {
           "xaxis": {
            "backgroundcolor": "#E5ECF6",
            "gridcolor": "white",
            "gridwidth": 2,
            "linecolor": "white",
            "showbackground": true,
            "ticks": "",
            "zerolinecolor": "white"
           },
           "yaxis": {
            "backgroundcolor": "#E5ECF6",
            "gridcolor": "white",
            "gridwidth": 2,
            "linecolor": "white",
            "showbackground": true,
            "ticks": "",
            "zerolinecolor": "white"
           },
           "zaxis": {
            "backgroundcolor": "#E5ECF6",
            "gridcolor": "white",
            "gridwidth": 2,
            "linecolor": "white",
            "showbackground": true,
            "ticks": "",
            "zerolinecolor": "white"
           }
          },
          "shapedefaults": {
           "line": {
            "color": "#2a3f5f"
           }
          },
          "ternary": {
           "aaxis": {
            "gridcolor": "white",
            "linecolor": "white",
            "ticks": ""
           },
           "baxis": {
            "gridcolor": "white",
            "linecolor": "white",
            "ticks": ""
           },
           "bgcolor": "#E5ECF6",
           "caxis": {
            "gridcolor": "white",
            "linecolor": "white",
            "ticks": ""
           }
          },
          "title": {
           "x": 0.05
          },
          "xaxis": {
           "automargin": true,
           "gridcolor": "white",
           "linecolor": "white",
           "ticks": "",
           "title": {
            "standoff": 15
           },
           "zerolinecolor": "white",
           "zerolinewidth": 2
          },
          "yaxis": {
           "automargin": true,
           "gridcolor": "white",
           "linecolor": "white",
           "ticks": "",
           "title": {
            "standoff": 15
           },
           "zerolinecolor": "white",
           "zerolinewidth": 2
          }
         }
        },
        "xaxis": {
         "anchor": "y",
         "domain": [
          0,
          1
         ],
         "title": {
          "text": "Age"
         }
        },
        "yaxis": {
         "anchor": "x",
         "domain": [
          0,
          1
         ],
         "title": {
          "text": "ChestPainType"
         }
        }
       }
      },
      "text/html": [
       "<div>                            <div id=\"5532c115-cc1e-43d7-a03b-7a614e660d12\" class=\"plotly-graph-div\" style=\"height:525px; width:100%;\"></div>            <script type=\"text/javascript\">                require([\"plotly\"], function(Plotly) {                    window.PLOTLYENV=window.PLOTLYENV || {};                                    if (document.getElementById(\"5532c115-cc1e-43d7-a03b-7a614e660d12\")) {                    Plotly.newPlot(                        \"5532c115-cc1e-43d7-a03b-7a614e660d12\",                        [{\"alignmentgroup\":\"True\",\"hovertemplate\":\"Age=%{x}<br>ChestPainType=%{y}<extra></extra>\",\"legendgroup\":\"\",\"marker\":{\"color\":\"#636efa\"},\"name\":\"\",\"notched\":false,\"offsetgroup\":\"\",\"orientation\":\"h\",\"showlegend\":false,\"x\":[40,49,37,48,54,39,45,54,37,48,37,58,39,49,42,54,38,43,60,36,43,44,49,44,40,36,53,52,53,51,53,56,54,41,43,32,65,41,48,48,54,54,35,52,43,59,37,50,36,41,50,47,45,41,52,51,31,58,54,52,49,43,45,46,50,37,45,32,52,44,57,44,52,44,55,46,32,35,52,49,55,54,63,52,56,66,65,53,43,55,49,39,52,48,39,58,43,39,56,41,65,51,40,40,46,57,48,34,50,39,59,57,47,38,49,33,38,59,35,34,47,52,46,58,58,54,34,48,54,42,38,46,56,56,61,49,43,39,54,43,52,50,47,53,56,39,42,43,50,54,39,48,40,55,41,56,38,49,44,54,59,49,47,42,52,46,50,48,58,58,29,40,53,49,52,43,54,59,37,46,52,51,52,46,54,58,58,41,50,53,46,50,48,45,41,62,49,42,53,57,47,46,42,31,56,50,35,35,28,54,48,50,56,56,47,30,39,54,55,29,46,51,48,33,55,50,53,38,41,37,37,40,38,41,54,39,41,55,48,48,55,54,55,43,48,54,54,48,45,49,44,48,61,62,55,53,55,36,51,55,46,54,46,59,47,54,52,34,54,47,45,32,55,55,45,59,51,52,57,54,60,49,51,55,42,51,59,53,48,36,48,47,53,65,32,61,50,57,51,47,60,55,53,62,51,51,55,53,58,57,65,60,41,34,53,74,57,56,61,68,59,63,38,62,46,42,45,59,52,60,60,56,38,40,51,62,72,63,63,64,43,64,61,52,51,69,59,48,69,36,53,43,56,58,55,67,46,53,38,53,62,47,56,56,56,64,61,68,57,63,60,66,63,59,61,73,47,65,70,50,60,50,43,38,54,61,42,53,55,61,51,70,61,38,57,38,62,58,52,61,50,51,65,52,47,35,57,62,59,53,62,54,56,56,54,66,63,44,60,55,66,66,65,60,60,60,56,59,62,63,57,62,63,46,63,60,58,64,63,74,52,69,51,60,56,55,54,77,63,55,52,64,60,60,58,59,61,40,61,41,57,63,59,51,59,42,55,63,62,56,53,68,53,60,62,59,51,61,57,56,58,69,67,58,65,63,55,57,65,54,72,75,49,51,60,64,58,61,67,62,65,63,69,51,62,55,75,40,67,58,60,63,35,62,43,63,68,65,48,63,64,61,50,59,55,45,65,61,49,72,50,64,55,63,59,56,62,74,54,57,62,76,54,70,61,48,48,61,66,68,55,62,71,74,53,58,75,56,58,64,54,54,59,55,57,61,41,71,38,55,56,69,64,72,69,56,62,67,57,69,51,48,69,69,64,57,53,37,67,74,63,58,61,64,58,60,57,55,55,56,57,61,61,74,68,51,62,53,62,46,54,62,55,58,62,70,67,57,64,74,65,56,59,60,63,59,53,44,61,57,71,46,53,64,40,67,48,43,47,54,48,46,51,58,71,57,66,37,59,50,48,61,59,42,48,40,62,44,46,59,58,49,44,66,65,42,52,65,63,45,41,61,60,59,62,57,51,44,60,63,57,51,58,44,47,61,57,70,76,67,45,45,39,42,56,58,35,58,41,57,42,62,59,41,50,59,61,54,54,52,47,66,58,64,50,44,67,49,57,63,48,51,60,59,45,55,41,60,54,42,49,46,56,66,56,49,54,57,65,54,54,62,52,52,60,63,66,42,64,54,46,67,56,34,57,64,59,50,51,54,53,52,40,58,41,41,50,54,64,51,46,55,45,56,66,38,62,55,58,43,64,50,53,45,65,69,69,67,68,34,62,51,46,67,50,42,56,41,42,53,43,56,52,62,70,54,70,54,35,48,55,58,54,69,77,68,58,60,51,55,52,60,58,64,37,59,51,43,58,29,41,63,51,54,44,54,65,57,63,35,41,62,43,58,52,61,39,45,52,62,62,53,43,47,52,68,39,53,62,51,60,65,65,60,60,54,44,44,51,59,71,61,55,64,43,58,60,58,49,48,52,44,56,57,67,53,52,43,52,59,64,66,39,57,58,57,47,55,35,61,58,58,58,56,56,67,55,44,63,63,41,59,57,45,68,57,57,38],\"x0\":\" \",\"xaxis\":\"x\",\"y\":[\"ATA\",\"NAP\",\"ATA\",\"ASY\",\"NAP\",\"NAP\",\"ATA\",\"ATA\",\"ASY\",\"ATA\",\"NAP\",\"ATA\",\"ATA\",\"ASY\",\"NAP\",\"ATA\",\"ASY\",\"ATA\",\"ASY\",\"ATA\",\"TA\",\"ATA\",\"ATA\",\"ATA\",\"NAP\",\"NAP\",\"ASY\",\"ATA\",\"ATA\",\"ATA\",\"NAP\",\"NAP\",\"ASY\",\"ASY\",\"ATA\",\"ATA\",\"ASY\",\"ATA\",\"ATA\",\"ASY\",\"ATA\",\"NAP\",\"ATA\",\"NAP\",\"ASY\",\"NAP\",\"ASY\",\"ATA\",\"NAP\",\"ASY\",\"ASY\",\"ASY\",\"ATA\",\"ATA\",\"ASY\",\"ATA\",\"ASY\",\"NAP\",\"ASY\",\"ASY\",\"ATA\",\"NAP\",\"ASY\",\"ASY\",\"ATA\",\"ATA\",\"ASY\",\"ATA\",\"ASY\",\"ASY\",\"ATA\",\"ATA\",\"ASY\",\"ASY\",\"ASY\",\"NAP\",\"ASY\",\"ASY\",\"ATA\",\"ASY\",\"NAP\",\"ATA\",\"ASY\",\"ATA\",\"ASY\",\"ASY\",\"ASY\",\"ATA\",\"TA\",\"ASY\",\"ATA\",\"ASY\",\"ATA\",\"ASY\",\"NAP\",\"ASY\",\"ATA\",\"NAP\",\"ASY\",\"ATA\",\"ASY\",\"ASY\",\"ASY\",\"ASY\",\"ASY\",\"ATA\",\"ASY\",\"ATA\",\"ASY\",\"ATA\",\"ATA\",\"ASY\",\"ASY\",\"ATA\",\"NAP\",\"ASY\",\"ASY\",\"ASY\",\"TA\",\"TA\",\"NAP\",\"NAP\",\"ASY\",\"ATA\",\"ATA\",\"ATA\",\"ATA\",\"ASY\",\"ATA\",\"NAP\",\"NAP\",\"ASY\",\"ASY\",\"ASY\",\"ASY\",\"NAP\",\"ATA\",\"ATA\",\"ASY\",\"ASY\",\"ASY\",\"ASY\",\"ASY\",\"ASY\",\"ATA\",\"ASY\",\"ATA\",\"ATA\",\"ATA\",\"ASY\",\"ATA\",\"ATA\",\"ATA\",\"ASY\",\"ATA\",\"ASY\",\"ASY\",\"ASY\",\"ASY\",\"ATA\",\"ASY\",\"ASY\",\"ATA\",\"ATA\",\"ATA\",\"TA\",\"ASY\",\"ATA\",\"ASY\",\"NAP\",\"ATA\",\"NAP\",\"ATA\",\"NAP\",\"ASY\",\"ASY\",\"ASY\",\"ATA\",\"NAP\",\"ASY\",\"ASY\",\"ATA\",\"ASY\",\"ASY\",\"ATA\",\"NAP\",\"ATA\",\"ASY\",\"ASY\",\"ASY\",\"ASY\",\"ATA\",\"ATA\",\"NAP\",\"ATA\",\"TA\",\"ASY\",\"ATA\",\"ASY\",\"TA\",\"TA\",\"NAP\",\"NAP\",\"ATA\",\"ATA\",\"ASY\",\"ATA\",\"ATA\",\"ATA\",\"ASY\",\"ASY\",\"NAP\",\"NAP\",\"NAP\",\"ASY\",\"TA\",\"ASY\",\"NAP\",\"ATA\",\"ATA\",\"ASY\",\"ASY\",\"NAP\",\"NAP\",\"ATA\",\"ASY\",\"NAP\",\"ASY\",\"ATA\",\"ASY\",\"ASY\",\"NAP\",\"ATA\",\"ASY\",\"ATA\",\"ATA\",\"ASY\",\"TA\",\"ASY\",\"ASY\",\"ATA\",\"ASY\",\"ATA\",\"ATA\",\"ASY\",\"TA\",\"NAP\",\"ASY\",\"ASY\",\"ASY\",\"ASY\",\"ASY\",\"ASY\",\"ATA\",\"ASY\",\"NAP\",\"ATA\",\"NAP\",\"NAP\",\"ATA\",\"ATA\",\"ATA\",\"ASY\",\"ASY\",\"NAP\",\"ATA\",\"ASY\",\"ATA\",\"ASY\",\"NAP\",\"ASY\",\"ATA\",\"ASY\",\"NAP\",\"ATA\",\"NAP\",\"NAP\",\"ASY\",\"ASY\",\"ATA\",\"NAP\",\"ASY\",\"NAP\",\"ATA\",\"ASY\",\"NAP\",\"ASY\",\"ATA\",\"ATA\",\"ATA\",\"NAP\",\"ATA\",\"ASY\",\"ASY\",\"TA\",\"ASY\",\"ASY\",\"ASY\",\"ASY\",\"ASY\",\"ASY\",\"ATA\",\"ASY\",\"ASY\",\"ASY\",\"ASY\",\"ASY\",\"ATA\",\"ASY\",\"ASY\",\"ASY\",\"ASY\",\"ASY\",\"ASY\",\"ASY\",\"ATA\",\"NAP\",\"ASY\",\"ASY\",\"ASY\",\"NAP\",\"ASY\",\"ASY\",\"ASY\",\"ASY\",\"ASY\",\"NAP\",\"ASY\",\"ASY\",\"ASY\",\"NAP\",\"ASY\",\"NAP\",\"ASY\",\"ASY\",\"TA\",\"NAP\",\"ASY\",\"ASY\",\"ASY\",\"ASY\",\"ASY\",\"ASY\",\"ASY\",\"ASY\",\"ASY\",\"ASY\",\"ASY\",\"ASY\",\"ASY\",\"ASY\",\"ASY\",\"ASY\",\"ASY\",\"ASY\",\"TA\",\"ASY\",\"ATA\",\"NAP\",\"NAP\",\"NAP\",\"ASY\",\"NAP\",\"ASY\",\"NAP\",\"ASY\",\"ASY\",\"ASY\",\"ASY\",\"ASY\",\"ASY\",\"ASY\",\"ASY\",\"ASY\",\"ASY\",\"NAP\",\"NAP\",\"ASY\",\"ASY\",\"ASY\",\"ASY\",\"ASY\",\"ASY\",\"ASY\",\"ASY\",\"ASY\",\"ASY\",\"ASY\",\"ASY\",\"ASY\",\"ASY\",\"ASY\",\"ASY\",\"ASY\",\"ASY\",\"ASY\",\"TA\",\"ASY\",\"ASY\",\"NAP\",\"ASY\",\"ASY\",\"ASY\",\"ASY\",\"NAP\",\"ASY\",\"ASY\",\"ASY\",\"ASY\",\"NAP\",\"ASY\",\"ASY\",\"ASY\",\"NAP\",\"ASY\",\"ASY\",\"ASY\",\"ASY\",\"ASY\",\"ASY\",\"NAP\",\"NAP\",\"ASY\",\"NAP\",\"NAP\",\"ATA\",\"ATA\",\"ASY\",\"ASY\",\"NAP\",\"ASY\",\"ASY\",\"ASY\",\"ASY\",\"ASY\",\"ASY\",\"ASY\",\"ASY\",\"NAP\",\"NAP\",\"NAP\",\"ASY\",\"ASY\",\"ASY\",\"ASY\",\"NAP\",\"ASY\",\"ASY\",\"ASY\",\"NAP\",\"NAP\",\"ASY\",\"ASY\",\"ASY\",\"ASY\",\"ASY\",\"NAP\",\"ASY\",\"ASY\",\"ASY\",\"ASY\",\"ASY\",\"ASY\",\"ASY\",\"NAP\",\"NAP\",\"NAP\",\"ATA\",\"ASY\",\"ATA\",\"ASY\",\"ASY\",\"ASY\",\"NAP\",\"ATA\",\"ASY\",\"ASY\",\"ASY\",\"ASY\",\"NAP\",\"ATA\",\"NAP\",\"TA\",\"ASY\",\"ASY\",\"ATA\",\"ATA\",\"ASY\",\"TA\",\"ASY\",\"NAP\",\"ASY\",\"TA\",\"NAP\",\"ASY\",\"ASY\",\"ASY\",\"ASY\",\"ASY\",\"ASY\",\"ASY\",\"ASY\",\"ASY\",\"ASY\",\"ASY\",\"NAP\",\"ASY\",\"NAP\",\"ASY\",\"ASY\",\"ASY\",\"ASY\",\"NAP\",\"TA\",\"ASY\",\"NAP\",\"NAP\",\"ASY\",\"NAP\",\"ASY\",\"ASY\",\"ASY\",\"ASY\",\"ASY\",\"ASY\",\"NAP\",\"ASY\",\"ATA\",\"NAP\",\"ASY\",\"ASY\",\"ASY\",\"ASY\",\"ASY\",\"ASY\",\"ASY\",\"NAP\",\"ASY\",\"ASY\",\"ASY\",\"NAP\",\"NAP\",\"ASY\",\"ASY\",\"ATA\",\"ASY\",\"NAP\",\"TA\",\"ASY\",\"TA\",\"ASY\",\"NAP\",\"NAP\",\"TA\",\"NAP\",\"NAP\",\"ASY\",\"NAP\",\"NAP\",\"ASY\",\"NAP\",\"ATA\",\"ASY\",\"ASY\",\"ASY\",\"ASY\",\"ASY\",\"ASY\",\"ASY\",\"ASY\",\"ASY\",\"ASY\",\"ASY\",\"ASY\",\"ASY\",\"ASY\",\"ASY\",\"ASY\",\"ASY\",\"ASY\",\"ASY\",\"ASY\",\"ASY\",\"NAP\",\"ASY\",\"ATA\",\"ASY\",\"NAP\",\"ASY\",\"NAP\",\"ATA\",\"ASY\",\"ASY\",\"ASY\",\"ASY\",\"ASY\",\"ASY\",\"NAP\",\"ASY\",\"ASY\",\"ASY\",\"NAP\",\"NAP\",\"ASY\",\"NAP\",\"ASY\",\"ASY\",\"ASY\",\"ASY\",\"ASY\",\"ASY\",\"TA\",\"ASY\",\"ASY\",\"ATA\",\"ASY\",\"NAP\",\"ATA\",\"ASY\",\"ATA\",\"ASY\",\"NAP\",\"ASY\",\"ASY\",\"ASY\",\"ASY\",\"ASY\",\"NAP\",\"TA\",\"ASY\",\"ASY\",\"ASY\",\"ASY\",\"TA\",\"TA\",\"ASY\",\"ATA\",\"ASY\",\"ASY\",\"ATA\",\"NAP\",\"ASY\",\"NAP\",\"NAP\",\"NAP\",\"NAP\",\"ASY\",\"NAP\",\"ASY\",\"ASY\",\"ASY\",\"ASY\",\"TA\",\"NAP\",\"ASY\",\"ASY\",\"ASY\",\"NAP\",\"ATA\",\"NAP\",\"NAP\",\"NAP\",\"ASY\",\"ATA\",\"ASY\",\"ASY\",\"ATA\",\"NAP\",\"ATA\",\"ATA\",\"ATA\",\"ASY\",\"NAP\",\"ASY\",\"ATA\",\"NAP\",\"ASY\",\"NAP\",\"TA\",\"TA\",\"ASY\",\"ASY\",\"ATA\",\"NAP\",\"NAP\",\"ASY\",\"ASY\",\"ATA\",\"NAP\",\"ASY\",\"ASY\",\"ASY\",\"NAP\",\"NAP\",\"ATA\",\"ASY\",\"ASY\",\"ASY\",\"NAP\",\"ASY\",\"TA\",\"ATA\",\"TA\",\"ATA\",\"ASY\",\"ATA\",\"ASY\",\"ASY\",\"ASY\",\"ASY\",\"ASY\",\"ASY\",\"ASY\",\"NAP\",\"ATA\",\"NAP\",\"ASY\",\"ASY\",\"ASY\",\"ASY\",\"ASY\",\"NAP\",\"ASY\",\"ASY\",\"ATA\",\"ASY\",\"ATA\",\"ASY\",\"NAP\",\"ATA\",\"ATA\",\"ASY\",\"ASY\",\"TA\",\"ASY\",\"NAP\",\"ASY\",\"ASY\",\"NAP\",\"NAP\",\"NAP\",\"ASY\",\"NAP\",\"ATA\",\"ASY\",\"ASY\",\"ASY\",\"ASY\",\"ASY\",\"NAP\",\"NAP\",\"NAP\",\"ASY\",\"ATA\",\"ASY\",\"ASY\",\"ASY\",\"NAP\",\"TA\",\"ATA\",\"ASY\",\"ASY\",\"ASY\",\"NAP\",\"NAP\",\"NAP\",\"NAP\",\"NAP\",\"ASY\",\"NAP\",\"ATA\",\"ASY\",\"ATA\",\"TA\",\"ASY\",\"TA\",\"ASY\",\"ATA\",\"ASY\",\"ASY\",\"ASY\",\"ASY\",\"NAP\",\"ASY\",\"TA\",\"TA\",\"NAP\",\"ASY\",\"NAP\",\"TA\",\"ASY\",\"ASY\",\"NAP\",\"ASY\",\"NAP\",\"NAP\",\"ASY\",\"ASY\",\"ASY\",\"NAP\",\"NAP\",\"ASY\",\"ASY\",\"ASY\",\"NAP\",\"ASY\",\"ASY\",\"ATA\",\"ASY\",\"NAP\",\"ATA\",\"ASY\",\"NAP\",\"TA\",\"ASY\",\"NAP\",\"ASY\",\"ASY\",\"ASY\",\"ASY\",\"TA\",\"NAP\",\"NAP\",\"NAP\",\"NAP\",\"TA\",\"NAP\",\"NAP\",\"ASY\",\"ATA\",\"ATA\",\"NAP\",\"NAP\",\"NAP\",\"ATA\",\"ASY\",\"ASY\",\"NAP\",\"ASY\",\"ASY\",\"ATA\",\"NAP\",\"ASY\",\"TA\",\"TA\",\"ASY\",\"ASY\",\"ASY\",\"ASY\",\"NAP\",\"ASY\",\"ASY\",\"ASY\",\"NAP\",\"ATA\",\"NAP\",\"NAP\",\"ASY\",\"ASY\",\"NAP\",\"ASY\",\"ASY\",\"NAP\",\"NAP\",\"ASY\",\"ASY\",\"ATA\",\"ASY\",\"NAP\",\"NAP\",\"ATA\",\"NAP\",\"ASY\",\"NAP\",\"ASY\",\"NAP\",\"ASY\",\"ATA\",\"ATA\",\"ATA\",\"NAP\",\"ATA\",\"ATA\",\"ASY\",\"ASY\",\"NAP\",\"NAP\",\"ASY\",\"ASY\",\"TA\",\"TA\",\"NAP\",\"NAP\",\"ATA\",\"ASY\",\"ASY\",\"NAP\",\"ASY\",\"ATA\",\"ASY\",\"ASY\",\"ASY\",\"ATA\",\"ATA\",\"ATA\",\"NAP\",\"ATA\",\"ASY\",\"ASY\",\"ASY\",\"ATA\",\"ASY\",\"ASY\",\"TA\",\"ASY\",\"ASY\",\"ATA\",\"NAP\"],\"y0\":\" \",\"yaxis\":\"y\",\"type\":\"box\"}],                        {\"template\":{\"data\":{\"bar\":[{\"error_x\":{\"color\":\"#2a3f5f\"},\"error_y\":{\"color\":\"#2a3f5f\"},\"marker\":{\"line\":{\"color\":\"#E5ECF6\",\"width\":0.5},\"pattern\":{\"fillmode\":\"overlay\",\"size\":10,\"solidity\":0.2}},\"type\":\"bar\"}],\"barpolar\":[{\"marker\":{\"line\":{\"color\":\"#E5ECF6\",\"width\":0.5},\"pattern\":{\"fillmode\":\"overlay\",\"size\":10,\"solidity\":0.2}},\"type\":\"barpolar\"}],\"carpet\":[{\"aaxis\":{\"endlinecolor\":\"#2a3f5f\",\"gridcolor\":\"white\",\"linecolor\":\"white\",\"minorgridcolor\":\"white\",\"startlinecolor\":\"#2a3f5f\"},\"baxis\":{\"endlinecolor\":\"#2a3f5f\",\"gridcolor\":\"white\",\"linecolor\":\"white\",\"minorgridcolor\":\"white\",\"startlinecolor\":\"#2a3f5f\"},\"type\":\"carpet\"}],\"choropleth\":[{\"colorbar\":{\"outlinewidth\":0,\"ticks\":\"\"},\"type\":\"choropleth\"}],\"contour\":[{\"colorbar\":{\"outlinewidth\":0,\"ticks\":\"\"},\"colorscale\":[[0.0,\"#0d0887\"],[0.1111111111111111,\"#46039f\"],[0.2222222222222222,\"#7201a8\"],[0.3333333333333333,\"#9c179e\"],[0.4444444444444444,\"#bd3786\"],[0.5555555555555556,\"#d8576b\"],[0.6666666666666666,\"#ed7953\"],[0.7777777777777778,\"#fb9f3a\"],[0.8888888888888888,\"#fdca26\"],[1.0,\"#f0f921\"]],\"type\":\"contour\"}],\"contourcarpet\":[{\"colorbar\":{\"outlinewidth\":0,\"ticks\":\"\"},\"type\":\"contourcarpet\"}],\"heatmap\":[{\"colorbar\":{\"outlinewidth\":0,\"ticks\":\"\"},\"colorscale\":[[0.0,\"#0d0887\"],[0.1111111111111111,\"#46039f\"],[0.2222222222222222,\"#7201a8\"],[0.3333333333333333,\"#9c179e\"],[0.4444444444444444,\"#bd3786\"],[0.5555555555555556,\"#d8576b\"],[0.6666666666666666,\"#ed7953\"],[0.7777777777777778,\"#fb9f3a\"],[0.8888888888888888,\"#fdca26\"],[1.0,\"#f0f921\"]],\"type\":\"heatmap\"}],\"heatmapgl\":[{\"colorbar\":{\"outlinewidth\":0,\"ticks\":\"\"},\"colorscale\":[[0.0,\"#0d0887\"],[0.1111111111111111,\"#46039f\"],[0.2222222222222222,\"#7201a8\"],[0.3333333333333333,\"#9c179e\"],[0.4444444444444444,\"#bd3786\"],[0.5555555555555556,\"#d8576b\"],[0.6666666666666666,\"#ed7953\"],[0.7777777777777778,\"#fb9f3a\"],[0.8888888888888888,\"#fdca26\"],[1.0,\"#f0f921\"]],\"type\":\"heatmapgl\"}],\"histogram\":[{\"marker\":{\"pattern\":{\"fillmode\":\"overlay\",\"size\":10,\"solidity\":0.2}},\"type\":\"histogram\"}],\"histogram2d\":[{\"colorbar\":{\"outlinewidth\":0,\"ticks\":\"\"},\"colorscale\":[[0.0,\"#0d0887\"],[0.1111111111111111,\"#46039f\"],[0.2222222222222222,\"#7201a8\"],[0.3333333333333333,\"#9c179e\"],[0.4444444444444444,\"#bd3786\"],[0.5555555555555556,\"#d8576b\"],[0.6666666666666666,\"#ed7953\"],[0.7777777777777778,\"#fb9f3a\"],[0.8888888888888888,\"#fdca26\"],[1.0,\"#f0f921\"]],\"type\":\"histogram2d\"}],\"histogram2dcontour\":[{\"colorbar\":{\"outlinewidth\":0,\"ticks\":\"\"},\"colorscale\":[[0.0,\"#0d0887\"],[0.1111111111111111,\"#46039f\"],[0.2222222222222222,\"#7201a8\"],[0.3333333333333333,\"#9c179e\"],[0.4444444444444444,\"#bd3786\"],[0.5555555555555556,\"#d8576b\"],[0.6666666666666666,\"#ed7953\"],[0.7777777777777778,\"#fb9f3a\"],[0.8888888888888888,\"#fdca26\"],[1.0,\"#f0f921\"]],\"type\":\"histogram2dcontour\"}],\"mesh3d\":[{\"colorbar\":{\"outlinewidth\":0,\"ticks\":\"\"},\"type\":\"mesh3d\"}],\"parcoords\":[{\"line\":{\"colorbar\":{\"outlinewidth\":0,\"ticks\":\"\"}},\"type\":\"parcoords\"}],\"pie\":[{\"automargin\":true,\"type\":\"pie\"}],\"scatter\":[{\"marker\":{\"colorbar\":{\"outlinewidth\":0,\"ticks\":\"\"}},\"type\":\"scatter\"}],\"scatter3d\":[{\"line\":{\"colorbar\":{\"outlinewidth\":0,\"ticks\":\"\"}},\"marker\":{\"colorbar\":{\"outlinewidth\":0,\"ticks\":\"\"}},\"type\":\"scatter3d\"}],\"scattercarpet\":[{\"marker\":{\"colorbar\":{\"outlinewidth\":0,\"ticks\":\"\"}},\"type\":\"scattercarpet\"}],\"scattergeo\":[{\"marker\":{\"colorbar\":{\"outlinewidth\":0,\"ticks\":\"\"}},\"type\":\"scattergeo\"}],\"scattergl\":[{\"marker\":{\"colorbar\":{\"outlinewidth\":0,\"ticks\":\"\"}},\"type\":\"scattergl\"}],\"scattermapbox\":[{\"marker\":{\"colorbar\":{\"outlinewidth\":0,\"ticks\":\"\"}},\"type\":\"scattermapbox\"}],\"scatterpolar\":[{\"marker\":{\"colorbar\":{\"outlinewidth\":0,\"ticks\":\"\"}},\"type\":\"scatterpolar\"}],\"scatterpolargl\":[{\"marker\":{\"colorbar\":{\"outlinewidth\":0,\"ticks\":\"\"}},\"type\":\"scatterpolargl\"}],\"scatterternary\":[{\"marker\":{\"colorbar\":{\"outlinewidth\":0,\"ticks\":\"\"}},\"type\":\"scatterternary\"}],\"surface\":[{\"colorbar\":{\"outlinewidth\":0,\"ticks\":\"\"},\"colorscale\":[[0.0,\"#0d0887\"],[0.1111111111111111,\"#46039f\"],[0.2222222222222222,\"#7201a8\"],[0.3333333333333333,\"#9c179e\"],[0.4444444444444444,\"#bd3786\"],[0.5555555555555556,\"#d8576b\"],[0.6666666666666666,\"#ed7953\"],[0.7777777777777778,\"#fb9f3a\"],[0.8888888888888888,\"#fdca26\"],[1.0,\"#f0f921\"]],\"type\":\"surface\"}],\"table\":[{\"cells\":{\"fill\":{\"color\":\"#EBF0F8\"},\"line\":{\"color\":\"white\"}},\"header\":{\"fill\":{\"color\":\"#C8D4E3\"},\"line\":{\"color\":\"white\"}},\"type\":\"table\"}]},\"layout\":{\"annotationdefaults\":{\"arrowcolor\":\"#2a3f5f\",\"arrowhead\":0,\"arrowwidth\":1},\"autotypenumbers\":\"strict\",\"coloraxis\":{\"colorbar\":{\"outlinewidth\":0,\"ticks\":\"\"}},\"colorscale\":{\"diverging\":[[0,\"#8e0152\"],[0.1,\"#c51b7d\"],[0.2,\"#de77ae\"],[0.3,\"#f1b6da\"],[0.4,\"#fde0ef\"],[0.5,\"#f7f7f7\"],[0.6,\"#e6f5d0\"],[0.7,\"#b8e186\"],[0.8,\"#7fbc41\"],[0.9,\"#4d9221\"],[1,\"#276419\"]],\"sequential\":[[0.0,\"#0d0887\"],[0.1111111111111111,\"#46039f\"],[0.2222222222222222,\"#7201a8\"],[0.3333333333333333,\"#9c179e\"],[0.4444444444444444,\"#bd3786\"],[0.5555555555555556,\"#d8576b\"],[0.6666666666666666,\"#ed7953\"],[0.7777777777777778,\"#fb9f3a\"],[0.8888888888888888,\"#fdca26\"],[1.0,\"#f0f921\"]],\"sequentialminus\":[[0.0,\"#0d0887\"],[0.1111111111111111,\"#46039f\"],[0.2222222222222222,\"#7201a8\"],[0.3333333333333333,\"#9c179e\"],[0.4444444444444444,\"#bd3786\"],[0.5555555555555556,\"#d8576b\"],[0.6666666666666666,\"#ed7953\"],[0.7777777777777778,\"#fb9f3a\"],[0.8888888888888888,\"#fdca26\"],[1.0,\"#f0f921\"]]},\"colorway\":[\"#636efa\",\"#EF553B\",\"#00cc96\",\"#ab63fa\",\"#FFA15A\",\"#19d3f3\",\"#FF6692\",\"#B6E880\",\"#FF97FF\",\"#FECB52\"],\"font\":{\"color\":\"#2a3f5f\"},\"geo\":{\"bgcolor\":\"white\",\"lakecolor\":\"white\",\"landcolor\":\"#E5ECF6\",\"showlakes\":true,\"showland\":true,\"subunitcolor\":\"white\"},\"hoverlabel\":{\"align\":\"left\"},\"hovermode\":\"closest\",\"mapbox\":{\"style\":\"light\"},\"paper_bgcolor\":\"white\",\"plot_bgcolor\":\"#E5ECF6\",\"polar\":{\"angularaxis\":{\"gridcolor\":\"white\",\"linecolor\":\"white\",\"ticks\":\"\"},\"bgcolor\":\"#E5ECF6\",\"radialaxis\":{\"gridcolor\":\"white\",\"linecolor\":\"white\",\"ticks\":\"\"}},\"scene\":{\"xaxis\":{\"backgroundcolor\":\"#E5ECF6\",\"gridcolor\":\"white\",\"gridwidth\":2,\"linecolor\":\"white\",\"showbackground\":true,\"ticks\":\"\",\"zerolinecolor\":\"white\"},\"yaxis\":{\"backgroundcolor\":\"#E5ECF6\",\"gridcolor\":\"white\",\"gridwidth\":2,\"linecolor\":\"white\",\"showbackground\":true,\"ticks\":\"\",\"zerolinecolor\":\"white\"},\"zaxis\":{\"backgroundcolor\":\"#E5ECF6\",\"gridcolor\":\"white\",\"gridwidth\":2,\"linecolor\":\"white\",\"showbackground\":true,\"ticks\":\"\",\"zerolinecolor\":\"white\"}},\"shapedefaults\":{\"line\":{\"color\":\"#2a3f5f\"}},\"ternary\":{\"aaxis\":{\"gridcolor\":\"white\",\"linecolor\":\"white\",\"ticks\":\"\"},\"baxis\":{\"gridcolor\":\"white\",\"linecolor\":\"white\",\"ticks\":\"\"},\"bgcolor\":\"#E5ECF6\",\"caxis\":{\"gridcolor\":\"white\",\"linecolor\":\"white\",\"ticks\":\"\"}},\"title\":{\"x\":0.05},\"xaxis\":{\"automargin\":true,\"gridcolor\":\"white\",\"linecolor\":\"white\",\"ticks\":\"\",\"title\":{\"standoff\":15},\"zerolinecolor\":\"white\",\"zerolinewidth\":2},\"yaxis\":{\"automargin\":true,\"gridcolor\":\"white\",\"linecolor\":\"white\",\"ticks\":\"\",\"title\":{\"standoff\":15},\"zerolinecolor\":\"white\",\"zerolinewidth\":2}}},\"xaxis\":{\"anchor\":\"y\",\"domain\":[0.0,1.0],\"title\":{\"text\":\"Age\"}},\"yaxis\":{\"anchor\":\"x\",\"domain\":[0.0,1.0],\"title\":{\"text\":\"ChestPainType\"}},\"legend\":{\"tracegroupgap\":0},\"margin\":{\"t\":60},\"boxmode\":\"group\"},                        {\"responsive\": true}                    ).then(function(){\n",
       "                            \n",
       "var gd = document.getElementById('5532c115-cc1e-43d7-a03b-7a614e660d12');\n",
       "var x = new MutationObserver(function (mutations, observer) {{\n",
       "        var display = window.getComputedStyle(gd).display;\n",
       "        if (!display || display === 'none') {{\n",
       "            console.log([gd, 'removed!']);\n",
       "            Plotly.purge(gd);\n",
       "            observer.disconnect();\n",
       "        }}\n",
       "}});\n",
       "\n",
       "// Listen for the removal of the full notebook cells\n",
       "var notebookContainer = gd.closest('#notebook-container');\n",
       "if (notebookContainer) {{\n",
       "    x.observe(notebookContainer, {childList: true});\n",
       "}}\n",
       "\n",
       "// Listen for the clearing of the current output cell\n",
       "var outputEl = gd.closest('.output');\n",
       "if (outputEl) {{\n",
       "    x.observe(outputEl, {childList: true});\n",
       "}}\n",
       "\n",
       "                        })                };                });            </script>        </div>"
      ]
     },
     "metadata": {},
     "output_type": "display_data"
    }
   ],
   "source": [
    "px.box(data,x = \"Age\", y = \"ChestPainType\")"
   ]
  },
  {
   "cell_type": "code",
   "execution_count": 181,
   "metadata": {},
   "outputs": [
    {
     "data": {
      "application/vnd.plotly.v1+json": {
       "config": {
        "plotlyServerURL": "https://plot.ly"
       },
       "data": [
        {
         "alignmentgroup": "True",
         "hovertemplate": "Age=%{x}<br>RestingBP=%{y}<extra></extra>",
         "legendgroup": "",
         "marker": {
          "color": "#636efa"
         },
         "name": "",
         "notched": false,
         "offsetgroup": "",
         "orientation": "v",
         "showlegend": false,
         "type": "box",
         "x": [
          40,
          49,
          37,
          48,
          54,
          39,
          45,
          54,
          37,
          48,
          37,
          58,
          39,
          49,
          42,
          54,
          38,
          43,
          60,
          36,
          43,
          44,
          49,
          44,
          40,
          36,
          53,
          52,
          53,
          51,
          53,
          56,
          54,
          41,
          43,
          32,
          65,
          41,
          48,
          48,
          54,
          54,
          35,
          52,
          43,
          59,
          37,
          50,
          36,
          41,
          50,
          47,
          45,
          41,
          52,
          51,
          31,
          58,
          54,
          52,
          49,
          43,
          45,
          46,
          50,
          37,
          45,
          32,
          52,
          44,
          57,
          44,
          52,
          44,
          55,
          46,
          32,
          35,
          52,
          49,
          55,
          54,
          63,
          52,
          56,
          66,
          65,
          53,
          43,
          55,
          49,
          39,
          52,
          48,
          39,
          58,
          43,
          39,
          56,
          41,
          65,
          51,
          40,
          40,
          46,
          57,
          48,
          34,
          50,
          39,
          59,
          57,
          47,
          38,
          49,
          33,
          38,
          59,
          35,
          34,
          47,
          52,
          46,
          58,
          58,
          54,
          34,
          48,
          54,
          42,
          38,
          46,
          56,
          56,
          61,
          49,
          43,
          39,
          54,
          43,
          52,
          50,
          47,
          53,
          56,
          39,
          42,
          43,
          50,
          54,
          39,
          48,
          40,
          55,
          41,
          56,
          38,
          49,
          44,
          54,
          59,
          49,
          47,
          42,
          52,
          46,
          50,
          48,
          58,
          58,
          29,
          40,
          53,
          49,
          52,
          43,
          54,
          59,
          37,
          46,
          52,
          51,
          52,
          46,
          54,
          58,
          58,
          41,
          50,
          53,
          46,
          50,
          48,
          45,
          41,
          62,
          49,
          42,
          53,
          57,
          47,
          46,
          42,
          31,
          56,
          50,
          35,
          35,
          28,
          54,
          48,
          50,
          56,
          56,
          47,
          30,
          39,
          54,
          55,
          29,
          46,
          51,
          48,
          33,
          55,
          50,
          53,
          38,
          41,
          37,
          37,
          40,
          38,
          41,
          54,
          39,
          41,
          55,
          48,
          48,
          55,
          54,
          55,
          43,
          48,
          54,
          54,
          48,
          45,
          49,
          44,
          48,
          61,
          62,
          55,
          53,
          55,
          36,
          51,
          55,
          46,
          54,
          46,
          59,
          47,
          54,
          52,
          34,
          54,
          47,
          45,
          32,
          55,
          55,
          45,
          59,
          51,
          52,
          57,
          54,
          60,
          49,
          51,
          55,
          42,
          51,
          59,
          53,
          48,
          36,
          48,
          47,
          53,
          65,
          32,
          61,
          50,
          57,
          51,
          47,
          60,
          55,
          53,
          62,
          51,
          51,
          55,
          53,
          58,
          57,
          65,
          60,
          41,
          34,
          53,
          74,
          57,
          56,
          61,
          68,
          59,
          63,
          38,
          62,
          46,
          42,
          45,
          59,
          52,
          60,
          60,
          56,
          38,
          40,
          51,
          62,
          72,
          63,
          63,
          64,
          43,
          64,
          61,
          52,
          51,
          69,
          59,
          48,
          69,
          36,
          53,
          43,
          56,
          58,
          55,
          67,
          46,
          53,
          38,
          53,
          62,
          47,
          56,
          56,
          56,
          64,
          61,
          68,
          57,
          63,
          60,
          66,
          63,
          59,
          61,
          73,
          47,
          65,
          70,
          50,
          60,
          50,
          43,
          38,
          54,
          61,
          42,
          53,
          55,
          61,
          51,
          70,
          61,
          38,
          57,
          38,
          62,
          58,
          52,
          61,
          50,
          51,
          65,
          52,
          47,
          35,
          57,
          62,
          59,
          53,
          62,
          54,
          56,
          56,
          54,
          66,
          63,
          44,
          60,
          55,
          66,
          66,
          65,
          60,
          60,
          60,
          56,
          59,
          62,
          63,
          57,
          62,
          63,
          46,
          63,
          60,
          58,
          64,
          63,
          74,
          52,
          69,
          51,
          60,
          56,
          55,
          54,
          77,
          63,
          55,
          52,
          64,
          60,
          60,
          58,
          59,
          61,
          40,
          61,
          41,
          57,
          63,
          59,
          51,
          59,
          42,
          55,
          63,
          62,
          56,
          53,
          68,
          53,
          60,
          62,
          59,
          51,
          61,
          57,
          56,
          58,
          69,
          67,
          58,
          65,
          63,
          55,
          57,
          65,
          54,
          72,
          75,
          49,
          51,
          60,
          64,
          58,
          61,
          67,
          62,
          65,
          63,
          69,
          51,
          62,
          55,
          75,
          40,
          67,
          58,
          60,
          63,
          35,
          62,
          43,
          63,
          68,
          65,
          48,
          63,
          64,
          61,
          50,
          59,
          55,
          45,
          65,
          61,
          49,
          72,
          50,
          64,
          55,
          63,
          59,
          56,
          62,
          74,
          54,
          57,
          62,
          76,
          54,
          70,
          61,
          48,
          48,
          61,
          66,
          68,
          55,
          62,
          71,
          74,
          53,
          58,
          75,
          56,
          58,
          64,
          54,
          54,
          59,
          55,
          57,
          61,
          41,
          71,
          38,
          55,
          56,
          69,
          64,
          72,
          69,
          56,
          62,
          67,
          57,
          69,
          51,
          48,
          69,
          69,
          64,
          57,
          53,
          37,
          67,
          74,
          63,
          58,
          61,
          64,
          58,
          60,
          57,
          55,
          55,
          56,
          57,
          61,
          61,
          74,
          68,
          51,
          62,
          53,
          62,
          46,
          54,
          62,
          55,
          58,
          62,
          70,
          67,
          57,
          64,
          74,
          65,
          56,
          59,
          60,
          63,
          59,
          53,
          44,
          61,
          57,
          71,
          46,
          53,
          64,
          40,
          67,
          48,
          43,
          47,
          54,
          48,
          46,
          51,
          58,
          71,
          57,
          66,
          37,
          59,
          50,
          48,
          61,
          59,
          42,
          48,
          40,
          62,
          44,
          46,
          59,
          58,
          49,
          44,
          66,
          65,
          42,
          52,
          65,
          63,
          45,
          41,
          61,
          60,
          59,
          62,
          57,
          51,
          44,
          60,
          63,
          57,
          51,
          58,
          44,
          47,
          61,
          57,
          70,
          76,
          67,
          45,
          45,
          39,
          42,
          56,
          58,
          35,
          58,
          41,
          57,
          42,
          62,
          59,
          41,
          50,
          59,
          61,
          54,
          54,
          52,
          47,
          66,
          58,
          64,
          50,
          44,
          67,
          49,
          57,
          63,
          48,
          51,
          60,
          59,
          45,
          55,
          41,
          60,
          54,
          42,
          49,
          46,
          56,
          66,
          56,
          49,
          54,
          57,
          65,
          54,
          54,
          62,
          52,
          52,
          60,
          63,
          66,
          42,
          64,
          54,
          46,
          67,
          56,
          34,
          57,
          64,
          59,
          50,
          51,
          54,
          53,
          52,
          40,
          58,
          41,
          41,
          50,
          54,
          64,
          51,
          46,
          55,
          45,
          56,
          66,
          38,
          62,
          55,
          58,
          43,
          64,
          50,
          53,
          45,
          65,
          69,
          69,
          67,
          68,
          34,
          62,
          51,
          46,
          67,
          50,
          42,
          56,
          41,
          42,
          53,
          43,
          56,
          52,
          62,
          70,
          54,
          70,
          54,
          35,
          48,
          55,
          58,
          54,
          69,
          77,
          68,
          58,
          60,
          51,
          55,
          52,
          60,
          58,
          64,
          37,
          59,
          51,
          43,
          58,
          29,
          41,
          63,
          51,
          54,
          44,
          54,
          65,
          57,
          63,
          35,
          41,
          62,
          43,
          58,
          52,
          61,
          39,
          45,
          52,
          62,
          62,
          53,
          43,
          47,
          52,
          68,
          39,
          53,
          62,
          51,
          60,
          65,
          65,
          60,
          60,
          54,
          44,
          44,
          51,
          59,
          71,
          61,
          55,
          64,
          43,
          58,
          60,
          58,
          49,
          48,
          52,
          44,
          56,
          57,
          67,
          53,
          52,
          43,
          52,
          59,
          64,
          66,
          39,
          57,
          58,
          57,
          47,
          55,
          35,
          61,
          58,
          58,
          58,
          56,
          56,
          67,
          55,
          44,
          63,
          63,
          41,
          59,
          57,
          45,
          68,
          57,
          57,
          38
         ],
         "x0": " ",
         "xaxis": "x",
         "y": [
          140,
          160,
          130,
          138,
          150,
          120,
          130,
          110,
          140,
          120,
          130,
          136,
          120,
          140,
          115,
          120,
          110,
          120,
          100,
          120,
          100,
          120,
          124,
          150,
          130,
          130,
          124,
          120,
          113,
          125,
          145,
          130,
          125,
          130,
          150,
          125,
          140,
          110,
          120,
          150,
          150,
          130,
          150,
          140,
          120,
          130,
          120,
          140,
          112,
          110,
          130,
          120,
          140,
          130,
          130,
          160,
          120,
          130,
          150,
          112,
          100,
          150,
          140,
          120,
          110,
          120,
          132,
          110,
          160,
          150,
          140,
          130,
          120,
          120,
          140,
          150,
          118,
          140,
          140,
          130,
          110,
          120,
          150,
          160,
          150,
          140,
          170,
          140,
          120,
          140,
          110,
          130,
          120,
          160,
          110,
          130,
          142,
          160,
          120,
          125,
          130,
          130,
          150,
          120,
          118,
          140,
          120,
          150,
          140,
          190,
          130,
          150,
          140,
          140,
          130,
          100,
          120,
          130,
          120,
          140,
          135,
          125,
          110,
          180,
          130,
          120,
          130,
          108,
          120,
          120,
          145,
          110,
          170,
          150,
          130,
          115,
          120,
          120,
          140,
          150,
          160,
          140,
          160,
          140,
          120,
          110,
          120,
          120,
          120,
          130,
          130,
          100,
          130,
          120,
          120,
          155,
          110,
          140,
          130,
          160,
          140,
          128,
          160,
          120,
          140,
          140,
          140,
          140,
          135,
          140,
          120,
          140,
          140,
          140,
          140,
          140,
          140,
          140,
          130,
          130,
          130,
          130,
          140,
          110,
          160,
          160,
          130,
          120,
          120,
          180,
          180,
          170,
          130,
          135,
          125,
          160,
          120,
          150,
          120,
          130,
          110,
          120,
          160,
          100,
          130,
          150,
          120,
          110,
          130,
          125,
          106,
          140,
          130,
          130,
          150,
          170,
          110,
          120,
          140,
          140,
          130,
          160,
          120,
          120,
          120,
          145,
          120,
          92,
          120,
          130,
          130,
          130,
          120,
          112,
          140,
          120,
          120,
          140,
          160,
          160,
          145,
          200,
          160,
          120,
          160,
          120,
          120,
          122,
          130,
          130,
          135,
          120,
          125,
          140,
          145,
          120,
          130,
          150,
          150,
          122,
          140,
          120,
          120,
          130,
          140,
          160,
          130,
          98,
          130,
          130,
          120,
          105,
          140,
          120,
          180,
          180,
          135,
          170,
          180,
          130,
          120,
          150,
          130,
          110,
          140,
          110,
          140,
          120,
          133,
          120,
          110,
          140,
          130,
          115,
          95,
          105,
          145,
          110,
          110,
          110,
          160,
          140,
          125,
          120,
          95,
          120,
          115,
          130,
          115,
          95,
          155,
          125,
          125,
          115,
          80,
          145,
          105,
          140,
          130,
          145,
          125,
          100,
          105,
          115,
          100,
          105,
          110,
          125,
          95,
          130,
          115,
          115,
          100,
          95,
          130,
          120,
          160,
          150,
          140,
          95,
          100,
          110,
          110,
          130,
          120,
          135,
          120,
          115,
          137,
          110,
          120,
          140,
          120,
          130,
          120,
          145,
          115,
          120,
          115,
          105,
          160,
          160,
          155,
          120,
          120,
          200,
          150,
          135,
          140,
          150,
          135,
          150,
          185,
          135,
          125,
          160,
          155,
          160,
          140,
          120,
          160,
          115,
          115,
          110,
          120,
          150,
          145,
          130,
          140,
          160,
          140,
          115,
          130,
          150,
          160,
          135,
          140,
          170,
          165,
          200,
          160,
          130,
          145,
          135,
          110,
          120,
          140,
          115,
          110,
          160,
          150,
          180,
          125,
          125,
          130,
          155,
          140,
          130,
          132,
          142,
          110,
          120,
          150,
          180,
          120,
          160,
          126,
          140,
          110,
          133,
          128,
          120,
          170,
          110,
          126,
          152,
          116,
          120,
          130,
          138,
          128,
          130,
          128,
          130,
          120,
          136,
          130,
          124,
          160,
          0,
          122,
          144,
          140,
          120,
          136,
          154,
          120,
          125,
          134,
          104,
          139,
          136,
          122,
          128,
          131,
          134,
          120,
          132,
          152,
          124,
          126,
          138,
          154,
          141,
          131,
          178,
          132,
          110,
          130,
          170,
          126,
          140,
          142,
          120,
          134,
          139,
          110,
          140,
          140,
          136,
          120,
          170,
          130,
          137,
          142,
          142,
          132,
          146,
          160,
          135,
          136,
          130,
          140,
          132,
          158,
          136,
          136,
          106,
          120,
          110,
          136,
          160,
          123,
          112,
          122,
          130,
          150,
          150,
          102,
          96,
          130,
          120,
          144,
          124,
          150,
          130,
          144,
          139,
          131,
          143,
          133,
          143,
          116,
          110,
          125,
          130,
          133,
          150,
          130,
          110,
          138,
          104,
          138,
          170,
          140,
          132,
          132,
          142,
          112,
          139,
          172,
          120,
          144,
          145,
          155,
          150,
          160,
          137,
          137,
          134,
          133,
          132,
          140,
          135,
          144,
          141,
          150,
          130,
          110,
          158,
          128,
          140,
          150,
          160,
          142,
          137,
          139,
          146,
          156,
          145,
          131,
          140,
          122,
          142,
          141,
          180,
          124,
          118,
          140,
          140,
          136,
          100,
          190,
          130,
          160,
          130,
          122,
          133,
          120,
          130,
          130,
          140,
          120,
          155,
          134,
          114,
          160,
          144,
          158,
          134,
          127,
          135,
          122,
          140,
          120,
          130,
          115,
          124,
          128,
          120,
          120,
          130,
          110,
          140,
          150,
          135,
          142,
          140,
          134,
          128,
          112,
          140,
          140,
          110,
          140,
          120,
          130,
          115,
          112,
          132,
          130,
          138,
          120,
          112,
          110,
          128,
          160,
          120,
          170,
          144,
          130,
          140,
          160,
          130,
          122,
          152,
          124,
          130,
          101,
          126,
          140,
          118,
          110,
          160,
          150,
          136,
          128,
          140,
          140,
          130,
          105,
          138,
          120,
          174,
          120,
          150,
          130,
          120,
          150,
          145,
          150,
          140,
          136,
          118,
          108,
          120,
          120,
          156,
          140,
          106,
          142,
          104,
          94,
          120,
          120,
          146,
          120,
          150,
          130,
          110,
          148,
          128,
          178,
          126,
          150,
          140,
          130,
          124,
          110,
          125,
          110,
          120,
          100,
          140,
          120,
          108,
          120,
          130,
          165,
          130,
          124,
          100,
          150,
          140,
          112,
          180,
          110,
          158,
          135,
          120,
          134,
          120,
          200,
          150,
          130,
          120,
          122,
          152,
          160,
          125,
          160,
          120,
          136,
          134,
          117,
          108,
          112,
          140,
          120,
          150,
          142,
          152,
          125,
          118,
          132,
          145,
          138,
          140,
          125,
          192,
          123,
          112,
          110,
          132,
          112,
          112,
          120,
          108,
          130,
          130,
          105,
          140,
          128,
          120,
          178,
          120,
          150,
          130,
          128,
          110,
          180,
          110,
          130,
          138,
          138,
          160,
          140,
          100,
          120,
          118,
          138,
          140,
          150,
          125,
          129,
          120,
          134,
          110,
          102,
          130,
          130,
          132,
          108,
          140,
          160,
          140,
          145,
          108,
          126,
          124,
          135,
          100,
          110,
          140,
          125,
          118,
          125,
          125,
          140,
          160,
          152,
          102,
          105,
          125,
          130,
          170,
          125,
          122,
          128,
          130,
          130,
          135,
          94,
          120,
          120,
          110,
          135,
          150,
          130,
          138,
          135,
          130,
          132,
          150,
          118,
          145,
          118,
          115,
          128,
          130,
          160,
          138,
          120,
          138,
          120,
          180,
          140,
          130,
          140,
          140,
          130,
          110,
          155,
          140,
          145,
          120,
          130,
          112,
          110,
          150,
          160,
          150,
          132,
          140,
          150,
          120,
          130,
          120,
          130,
          110,
          172,
          120,
          140,
          140,
          160,
          128,
          138,
          132,
          128,
          134,
          170,
          146,
          138,
          154,
          130,
          110,
          130,
          128,
          122,
          148,
          114,
          170,
          125,
          130,
          120,
          152,
          132,
          120,
          140,
          124,
          120,
          164,
          140,
          110,
          144,
          130,
          130,
          138
         ],
         "y0": " ",
         "yaxis": "y"
        }
       ],
       "layout": {
        "boxmode": "group",
        "legend": {
         "tracegroupgap": 0
        },
        "margin": {
         "t": 60
        },
        "template": {
         "data": {
          "bar": [
           {
            "error_x": {
             "color": "#2a3f5f"
            },
            "error_y": {
             "color": "#2a3f5f"
            },
            "marker": {
             "line": {
              "color": "#E5ECF6",
              "width": 0.5
             },
             "pattern": {
              "fillmode": "overlay",
              "size": 10,
              "solidity": 0.2
             }
            },
            "type": "bar"
           }
          ],
          "barpolar": [
           {
            "marker": {
             "line": {
              "color": "#E5ECF6",
              "width": 0.5
             },
             "pattern": {
              "fillmode": "overlay",
              "size": 10,
              "solidity": 0.2
             }
            },
            "type": "barpolar"
           }
          ],
          "carpet": [
           {
            "aaxis": {
             "endlinecolor": "#2a3f5f",
             "gridcolor": "white",
             "linecolor": "white",
             "minorgridcolor": "white",
             "startlinecolor": "#2a3f5f"
            },
            "baxis": {
             "endlinecolor": "#2a3f5f",
             "gridcolor": "white",
             "linecolor": "white",
             "minorgridcolor": "white",
             "startlinecolor": "#2a3f5f"
            },
            "type": "carpet"
           }
          ],
          "choropleth": [
           {
            "colorbar": {
             "outlinewidth": 0,
             "ticks": ""
            },
            "type": "choropleth"
           }
          ],
          "contour": [
           {
            "colorbar": {
             "outlinewidth": 0,
             "ticks": ""
            },
            "colorscale": [
             [
              0,
              "#0d0887"
             ],
             [
              0.1111111111111111,
              "#46039f"
             ],
             [
              0.2222222222222222,
              "#7201a8"
             ],
             [
              0.3333333333333333,
              "#9c179e"
             ],
             [
              0.4444444444444444,
              "#bd3786"
             ],
             [
              0.5555555555555556,
              "#d8576b"
             ],
             [
              0.6666666666666666,
              "#ed7953"
             ],
             [
              0.7777777777777778,
              "#fb9f3a"
             ],
             [
              0.8888888888888888,
              "#fdca26"
             ],
             [
              1,
              "#f0f921"
             ]
            ],
            "type": "contour"
           }
          ],
          "contourcarpet": [
           {
            "colorbar": {
             "outlinewidth": 0,
             "ticks": ""
            },
            "type": "contourcarpet"
           }
          ],
          "heatmap": [
           {
            "colorbar": {
             "outlinewidth": 0,
             "ticks": ""
            },
            "colorscale": [
             [
              0,
              "#0d0887"
             ],
             [
              0.1111111111111111,
              "#46039f"
             ],
             [
              0.2222222222222222,
              "#7201a8"
             ],
             [
              0.3333333333333333,
              "#9c179e"
             ],
             [
              0.4444444444444444,
              "#bd3786"
             ],
             [
              0.5555555555555556,
              "#d8576b"
             ],
             [
              0.6666666666666666,
              "#ed7953"
             ],
             [
              0.7777777777777778,
              "#fb9f3a"
             ],
             [
              0.8888888888888888,
              "#fdca26"
             ],
             [
              1,
              "#f0f921"
             ]
            ],
            "type": "heatmap"
           }
          ],
          "heatmapgl": [
           {
            "colorbar": {
             "outlinewidth": 0,
             "ticks": ""
            },
            "colorscale": [
             [
              0,
              "#0d0887"
             ],
             [
              0.1111111111111111,
              "#46039f"
             ],
             [
              0.2222222222222222,
              "#7201a8"
             ],
             [
              0.3333333333333333,
              "#9c179e"
             ],
             [
              0.4444444444444444,
              "#bd3786"
             ],
             [
              0.5555555555555556,
              "#d8576b"
             ],
             [
              0.6666666666666666,
              "#ed7953"
             ],
             [
              0.7777777777777778,
              "#fb9f3a"
             ],
             [
              0.8888888888888888,
              "#fdca26"
             ],
             [
              1,
              "#f0f921"
             ]
            ],
            "type": "heatmapgl"
           }
          ],
          "histogram": [
           {
            "marker": {
             "pattern": {
              "fillmode": "overlay",
              "size": 10,
              "solidity": 0.2
             }
            },
            "type": "histogram"
           }
          ],
          "histogram2d": [
           {
            "colorbar": {
             "outlinewidth": 0,
             "ticks": ""
            },
            "colorscale": [
             [
              0,
              "#0d0887"
             ],
             [
              0.1111111111111111,
              "#46039f"
             ],
             [
              0.2222222222222222,
              "#7201a8"
             ],
             [
              0.3333333333333333,
              "#9c179e"
             ],
             [
              0.4444444444444444,
              "#bd3786"
             ],
             [
              0.5555555555555556,
              "#d8576b"
             ],
             [
              0.6666666666666666,
              "#ed7953"
             ],
             [
              0.7777777777777778,
              "#fb9f3a"
             ],
             [
              0.8888888888888888,
              "#fdca26"
             ],
             [
              1,
              "#f0f921"
             ]
            ],
            "type": "histogram2d"
           }
          ],
          "histogram2dcontour": [
           {
            "colorbar": {
             "outlinewidth": 0,
             "ticks": ""
            },
            "colorscale": [
             [
              0,
              "#0d0887"
             ],
             [
              0.1111111111111111,
              "#46039f"
             ],
             [
              0.2222222222222222,
              "#7201a8"
             ],
             [
              0.3333333333333333,
              "#9c179e"
             ],
             [
              0.4444444444444444,
              "#bd3786"
             ],
             [
              0.5555555555555556,
              "#d8576b"
             ],
             [
              0.6666666666666666,
              "#ed7953"
             ],
             [
              0.7777777777777778,
              "#fb9f3a"
             ],
             [
              0.8888888888888888,
              "#fdca26"
             ],
             [
              1,
              "#f0f921"
             ]
            ],
            "type": "histogram2dcontour"
           }
          ],
          "mesh3d": [
           {
            "colorbar": {
             "outlinewidth": 0,
             "ticks": ""
            },
            "type": "mesh3d"
           }
          ],
          "parcoords": [
           {
            "line": {
             "colorbar": {
              "outlinewidth": 0,
              "ticks": ""
             }
            },
            "type": "parcoords"
           }
          ],
          "pie": [
           {
            "automargin": true,
            "type": "pie"
           }
          ],
          "scatter": [
           {
            "marker": {
             "colorbar": {
              "outlinewidth": 0,
              "ticks": ""
             }
            },
            "type": "scatter"
           }
          ],
          "scatter3d": [
           {
            "line": {
             "colorbar": {
              "outlinewidth": 0,
              "ticks": ""
             }
            },
            "marker": {
             "colorbar": {
              "outlinewidth": 0,
              "ticks": ""
             }
            },
            "type": "scatter3d"
           }
          ],
          "scattercarpet": [
           {
            "marker": {
             "colorbar": {
              "outlinewidth": 0,
              "ticks": ""
             }
            },
            "type": "scattercarpet"
           }
          ],
          "scattergeo": [
           {
            "marker": {
             "colorbar": {
              "outlinewidth": 0,
              "ticks": ""
             }
            },
            "type": "scattergeo"
           }
          ],
          "scattergl": [
           {
            "marker": {
             "colorbar": {
              "outlinewidth": 0,
              "ticks": ""
             }
            },
            "type": "scattergl"
           }
          ],
          "scattermapbox": [
           {
            "marker": {
             "colorbar": {
              "outlinewidth": 0,
              "ticks": ""
             }
            },
            "type": "scattermapbox"
           }
          ],
          "scatterpolar": [
           {
            "marker": {
             "colorbar": {
              "outlinewidth": 0,
              "ticks": ""
             }
            },
            "type": "scatterpolar"
           }
          ],
          "scatterpolargl": [
           {
            "marker": {
             "colorbar": {
              "outlinewidth": 0,
              "ticks": ""
             }
            },
            "type": "scatterpolargl"
           }
          ],
          "scatterternary": [
           {
            "marker": {
             "colorbar": {
              "outlinewidth": 0,
              "ticks": ""
             }
            },
            "type": "scatterternary"
           }
          ],
          "surface": [
           {
            "colorbar": {
             "outlinewidth": 0,
             "ticks": ""
            },
            "colorscale": [
             [
              0,
              "#0d0887"
             ],
             [
              0.1111111111111111,
              "#46039f"
             ],
             [
              0.2222222222222222,
              "#7201a8"
             ],
             [
              0.3333333333333333,
              "#9c179e"
             ],
             [
              0.4444444444444444,
              "#bd3786"
             ],
             [
              0.5555555555555556,
              "#d8576b"
             ],
             [
              0.6666666666666666,
              "#ed7953"
             ],
             [
              0.7777777777777778,
              "#fb9f3a"
             ],
             [
              0.8888888888888888,
              "#fdca26"
             ],
             [
              1,
              "#f0f921"
             ]
            ],
            "type": "surface"
           }
          ],
          "table": [
           {
            "cells": {
             "fill": {
              "color": "#EBF0F8"
             },
             "line": {
              "color": "white"
             }
            },
            "header": {
             "fill": {
              "color": "#C8D4E3"
             },
             "line": {
              "color": "white"
             }
            },
            "type": "table"
           }
          ]
         },
         "layout": {
          "annotationdefaults": {
           "arrowcolor": "#2a3f5f",
           "arrowhead": 0,
           "arrowwidth": 1
          },
          "autotypenumbers": "strict",
          "coloraxis": {
           "colorbar": {
            "outlinewidth": 0,
            "ticks": ""
           }
          },
          "colorscale": {
           "diverging": [
            [
             0,
             "#8e0152"
            ],
            [
             0.1,
             "#c51b7d"
            ],
            [
             0.2,
             "#de77ae"
            ],
            [
             0.3,
             "#f1b6da"
            ],
            [
             0.4,
             "#fde0ef"
            ],
            [
             0.5,
             "#f7f7f7"
            ],
            [
             0.6,
             "#e6f5d0"
            ],
            [
             0.7,
             "#b8e186"
            ],
            [
             0.8,
             "#7fbc41"
            ],
            [
             0.9,
             "#4d9221"
            ],
            [
             1,
             "#276419"
            ]
           ],
           "sequential": [
            [
             0,
             "#0d0887"
            ],
            [
             0.1111111111111111,
             "#46039f"
            ],
            [
             0.2222222222222222,
             "#7201a8"
            ],
            [
             0.3333333333333333,
             "#9c179e"
            ],
            [
             0.4444444444444444,
             "#bd3786"
            ],
            [
             0.5555555555555556,
             "#d8576b"
            ],
            [
             0.6666666666666666,
             "#ed7953"
            ],
            [
             0.7777777777777778,
             "#fb9f3a"
            ],
            [
             0.8888888888888888,
             "#fdca26"
            ],
            [
             1,
             "#f0f921"
            ]
           ],
           "sequentialminus": [
            [
             0,
             "#0d0887"
            ],
            [
             0.1111111111111111,
             "#46039f"
            ],
            [
             0.2222222222222222,
             "#7201a8"
            ],
            [
             0.3333333333333333,
             "#9c179e"
            ],
            [
             0.4444444444444444,
             "#bd3786"
            ],
            [
             0.5555555555555556,
             "#d8576b"
            ],
            [
             0.6666666666666666,
             "#ed7953"
            ],
            [
             0.7777777777777778,
             "#fb9f3a"
            ],
            [
             0.8888888888888888,
             "#fdca26"
            ],
            [
             1,
             "#f0f921"
            ]
           ]
          },
          "colorway": [
           "#636efa",
           "#EF553B",
           "#00cc96",
           "#ab63fa",
           "#FFA15A",
           "#19d3f3",
           "#FF6692",
           "#B6E880",
           "#FF97FF",
           "#FECB52"
          ],
          "font": {
           "color": "#2a3f5f"
          },
          "geo": {
           "bgcolor": "white",
           "lakecolor": "white",
           "landcolor": "#E5ECF6",
           "showlakes": true,
           "showland": true,
           "subunitcolor": "white"
          },
          "hoverlabel": {
           "align": "left"
          },
          "hovermode": "closest",
          "mapbox": {
           "style": "light"
          },
          "paper_bgcolor": "white",
          "plot_bgcolor": "#E5ECF6",
          "polar": {
           "angularaxis": {
            "gridcolor": "white",
            "linecolor": "white",
            "ticks": ""
           },
           "bgcolor": "#E5ECF6",
           "radialaxis": {
            "gridcolor": "white",
            "linecolor": "white",
            "ticks": ""
           }
          },
          "scene": {
           "xaxis": {
            "backgroundcolor": "#E5ECF6",
            "gridcolor": "white",
            "gridwidth": 2,
            "linecolor": "white",
            "showbackground": true,
            "ticks": "",
            "zerolinecolor": "white"
           },
           "yaxis": {
            "backgroundcolor": "#E5ECF6",
            "gridcolor": "white",
            "gridwidth": 2,
            "linecolor": "white",
            "showbackground": true,
            "ticks": "",
            "zerolinecolor": "white"
           },
           "zaxis": {
            "backgroundcolor": "#E5ECF6",
            "gridcolor": "white",
            "gridwidth": 2,
            "linecolor": "white",
            "showbackground": true,
            "ticks": "",
            "zerolinecolor": "white"
           }
          },
          "shapedefaults": {
           "line": {
            "color": "#2a3f5f"
           }
          },
          "ternary": {
           "aaxis": {
            "gridcolor": "white",
            "linecolor": "white",
            "ticks": ""
           },
           "baxis": {
            "gridcolor": "white",
            "linecolor": "white",
            "ticks": ""
           },
           "bgcolor": "#E5ECF6",
           "caxis": {
            "gridcolor": "white",
            "linecolor": "white",
            "ticks": ""
           }
          },
          "title": {
           "x": 0.05
          },
          "xaxis": {
           "automargin": true,
           "gridcolor": "white",
           "linecolor": "white",
           "ticks": "",
           "title": {
            "standoff": 15
           },
           "zerolinecolor": "white",
           "zerolinewidth": 2
          },
          "yaxis": {
           "automargin": true,
           "gridcolor": "white",
           "linecolor": "white",
           "ticks": "",
           "title": {
            "standoff": 15
           },
           "zerolinecolor": "white",
           "zerolinewidth": 2
          }
         }
        },
        "xaxis": {
         "anchor": "y",
         "domain": [
          0,
          1
         ],
         "title": {
          "text": "Age"
         }
        },
        "yaxis": {
         "anchor": "x",
         "domain": [
          0,
          1
         ],
         "title": {
          "text": "RestingBP"
         }
        }
       }
      },
      "text/html": [
       "<div>                            <div id=\"b09848c4-d8f8-479a-bc0d-7b955d1cb84b\" class=\"plotly-graph-div\" style=\"height:525px; width:100%;\"></div>            <script type=\"text/javascript\">                require([\"plotly\"], function(Plotly) {                    window.PLOTLYENV=window.PLOTLYENV || {};                                    if (document.getElementById(\"b09848c4-d8f8-479a-bc0d-7b955d1cb84b\")) {                    Plotly.newPlot(                        \"b09848c4-d8f8-479a-bc0d-7b955d1cb84b\",                        [{\"alignmentgroup\":\"True\",\"hovertemplate\":\"Age=%{x}<br>RestingBP=%{y}<extra></extra>\",\"legendgroup\":\"\",\"marker\":{\"color\":\"#636efa\"},\"name\":\"\",\"notched\":false,\"offsetgroup\":\"\",\"orientation\":\"v\",\"showlegend\":false,\"x\":[40,49,37,48,54,39,45,54,37,48,37,58,39,49,42,54,38,43,60,36,43,44,49,44,40,36,53,52,53,51,53,56,54,41,43,32,65,41,48,48,54,54,35,52,43,59,37,50,36,41,50,47,45,41,52,51,31,58,54,52,49,43,45,46,50,37,45,32,52,44,57,44,52,44,55,46,32,35,52,49,55,54,63,52,56,66,65,53,43,55,49,39,52,48,39,58,43,39,56,41,65,51,40,40,46,57,48,34,50,39,59,57,47,38,49,33,38,59,35,34,47,52,46,58,58,54,34,48,54,42,38,46,56,56,61,49,43,39,54,43,52,50,47,53,56,39,42,43,50,54,39,48,40,55,41,56,38,49,44,54,59,49,47,42,52,46,50,48,58,58,29,40,53,49,52,43,54,59,37,46,52,51,52,46,54,58,58,41,50,53,46,50,48,45,41,62,49,42,53,57,47,46,42,31,56,50,35,35,28,54,48,50,56,56,47,30,39,54,55,29,46,51,48,33,55,50,53,38,41,37,37,40,38,41,54,39,41,55,48,48,55,54,55,43,48,54,54,48,45,49,44,48,61,62,55,53,55,36,51,55,46,54,46,59,47,54,52,34,54,47,45,32,55,55,45,59,51,52,57,54,60,49,51,55,42,51,59,53,48,36,48,47,53,65,32,61,50,57,51,47,60,55,53,62,51,51,55,53,58,57,65,60,41,34,53,74,57,56,61,68,59,63,38,62,46,42,45,59,52,60,60,56,38,40,51,62,72,63,63,64,43,64,61,52,51,69,59,48,69,36,53,43,56,58,55,67,46,53,38,53,62,47,56,56,56,64,61,68,57,63,60,66,63,59,61,73,47,65,70,50,60,50,43,38,54,61,42,53,55,61,51,70,61,38,57,38,62,58,52,61,50,51,65,52,47,35,57,62,59,53,62,54,56,56,54,66,63,44,60,55,66,66,65,60,60,60,56,59,62,63,57,62,63,46,63,60,58,64,63,74,52,69,51,60,56,55,54,77,63,55,52,64,60,60,58,59,61,40,61,41,57,63,59,51,59,42,55,63,62,56,53,68,53,60,62,59,51,61,57,56,58,69,67,58,65,63,55,57,65,54,72,75,49,51,60,64,58,61,67,62,65,63,69,51,62,55,75,40,67,58,60,63,35,62,43,63,68,65,48,63,64,61,50,59,55,45,65,61,49,72,50,64,55,63,59,56,62,74,54,57,62,76,54,70,61,48,48,61,66,68,55,62,71,74,53,58,75,56,58,64,54,54,59,55,57,61,41,71,38,55,56,69,64,72,69,56,62,67,57,69,51,48,69,69,64,57,53,37,67,74,63,58,61,64,58,60,57,55,55,56,57,61,61,74,68,51,62,53,62,46,54,62,55,58,62,70,67,57,64,74,65,56,59,60,63,59,53,44,61,57,71,46,53,64,40,67,48,43,47,54,48,46,51,58,71,57,66,37,59,50,48,61,59,42,48,40,62,44,46,59,58,49,44,66,65,42,52,65,63,45,41,61,60,59,62,57,51,44,60,63,57,51,58,44,47,61,57,70,76,67,45,45,39,42,56,58,35,58,41,57,42,62,59,41,50,59,61,54,54,52,47,66,58,64,50,44,67,49,57,63,48,51,60,59,45,55,41,60,54,42,49,46,56,66,56,49,54,57,65,54,54,62,52,52,60,63,66,42,64,54,46,67,56,34,57,64,59,50,51,54,53,52,40,58,41,41,50,54,64,51,46,55,45,56,66,38,62,55,58,43,64,50,53,45,65,69,69,67,68,34,62,51,46,67,50,42,56,41,42,53,43,56,52,62,70,54,70,54,35,48,55,58,54,69,77,68,58,60,51,55,52,60,58,64,37,59,51,43,58,29,41,63,51,54,44,54,65,57,63,35,41,62,43,58,52,61,39,45,52,62,62,53,43,47,52,68,39,53,62,51,60,65,65,60,60,54,44,44,51,59,71,61,55,64,43,58,60,58,49,48,52,44,56,57,67,53,52,43,52,59,64,66,39,57,58,57,47,55,35,61,58,58,58,56,56,67,55,44,63,63,41,59,57,45,68,57,57,38],\"x0\":\" \",\"xaxis\":\"x\",\"y\":[140,160,130,138,150,120,130,110,140,120,130,136,120,140,115,120,110,120,100,120,100,120,124,150,130,130,124,120,113,125,145,130,125,130,150,125,140,110,120,150,150,130,150,140,120,130,120,140,112,110,130,120,140,130,130,160,120,130,150,112,100,150,140,120,110,120,132,110,160,150,140,130,120,120,140,150,118,140,140,130,110,120,150,160,150,140,170,140,120,140,110,130,120,160,110,130,142,160,120,125,130,130,150,120,118,140,120,150,140,190,130,150,140,140,130,100,120,130,120,140,135,125,110,180,130,120,130,108,120,120,145,110,170,150,130,115,120,120,140,150,160,140,160,140,120,110,120,120,120,130,130,100,130,120,120,155,110,140,130,160,140,128,160,120,140,140,140,140,135,140,120,140,140,140,140,140,140,140,130,130,130,130,140,110,160,160,130,120,120,180,180,170,130,135,125,160,120,150,120,130,110,120,160,100,130,150,120,110,130,125,106,140,130,130,150,170,110,120,140,140,130,160,120,120,120,145,120,92,120,130,130,130,120,112,140,120,120,140,160,160,145,200,160,120,160,120,120,122,130,130,135,120,125,140,145,120,130,150,150,122,140,120,120,130,140,160,130,98,130,130,120,105,140,120,180,180,135,170,180,130,120,150,130,110,140,110,140,120,133,120,110,140,130,115,95,105,145,110,110,110,160,140,125,120,95,120,115,130,115,95,155,125,125,115,80,145,105,140,130,145,125,100,105,115,100,105,110,125,95,130,115,115,100,95,130,120,160,150,140,95,100,110,110,130,120,135,120,115,137,110,120,140,120,130,120,145,115,120,115,105,160,160,155,120,120,200,150,135,140,150,135,150,185,135,125,160,155,160,140,120,160,115,115,110,120,150,145,130,140,160,140,115,130,150,160,135,140,170,165,200,160,130,145,135,110,120,140,115,110,160,150,180,125,125,130,155,140,130,132,142,110,120,150,180,120,160,126,140,110,133,128,120,170,110,126,152,116,120,130,138,128,130,128,130,120,136,130,124,160,0,122,144,140,120,136,154,120,125,134,104,139,136,122,128,131,134,120,132,152,124,126,138,154,141,131,178,132,110,130,170,126,140,142,120,134,139,110,140,140,136,120,170,130,137,142,142,132,146,160,135,136,130,140,132,158,136,136,106,120,110,136,160,123,112,122,130,150,150,102,96,130,120,144,124,150,130,144,139,131,143,133,143,116,110,125,130,133,150,130,110,138,104,138,170,140,132,132,142,112,139,172,120,144,145,155,150,160,137,137,134,133,132,140,135,144,141,150,130,110,158,128,140,150,160,142,137,139,146,156,145,131,140,122,142,141,180,124,118,140,140,136,100,190,130,160,130,122,133,120,130,130,140,120,155,134,114,160,144,158,134,127,135,122,140,120,130,115,124,128,120,120,130,110,140,150,135,142,140,134,128,112,140,140,110,140,120,130,115,112,132,130,138,120,112,110,128,160,120,170,144,130,140,160,130,122,152,124,130,101,126,140,118,110,160,150,136,128,140,140,130,105,138,120,174,120,150,130,120,150,145,150,140,136,118,108,120,120,156,140,106,142,104,94,120,120,146,120,150,130,110,148,128,178,126,150,140,130,124,110,125,110,120,100,140,120,108,120,130,165,130,124,100,150,140,112,180,110,158,135,120,134,120,200,150,130,120,122,152,160,125,160,120,136,134,117,108,112,140,120,150,142,152,125,118,132,145,138,140,125,192,123,112,110,132,112,112,120,108,130,130,105,140,128,120,178,120,150,130,128,110,180,110,130,138,138,160,140,100,120,118,138,140,150,125,129,120,134,110,102,130,130,132,108,140,160,140,145,108,126,124,135,100,110,140,125,118,125,125,140,160,152,102,105,125,130,170,125,122,128,130,130,135,94,120,120,110,135,150,130,138,135,130,132,150,118,145,118,115,128,130,160,138,120,138,120,180,140,130,140,140,130,110,155,140,145,120,130,112,110,150,160,150,132,140,150,120,130,120,130,110,172,120,140,140,160,128,138,132,128,134,170,146,138,154,130,110,130,128,122,148,114,170,125,130,120,152,132,120,140,124,120,164,140,110,144,130,130,138],\"y0\":\" \",\"yaxis\":\"y\",\"type\":\"box\"}],                        {\"template\":{\"data\":{\"bar\":[{\"error_x\":{\"color\":\"#2a3f5f\"},\"error_y\":{\"color\":\"#2a3f5f\"},\"marker\":{\"line\":{\"color\":\"#E5ECF6\",\"width\":0.5},\"pattern\":{\"fillmode\":\"overlay\",\"size\":10,\"solidity\":0.2}},\"type\":\"bar\"}],\"barpolar\":[{\"marker\":{\"line\":{\"color\":\"#E5ECF6\",\"width\":0.5},\"pattern\":{\"fillmode\":\"overlay\",\"size\":10,\"solidity\":0.2}},\"type\":\"barpolar\"}],\"carpet\":[{\"aaxis\":{\"endlinecolor\":\"#2a3f5f\",\"gridcolor\":\"white\",\"linecolor\":\"white\",\"minorgridcolor\":\"white\",\"startlinecolor\":\"#2a3f5f\"},\"baxis\":{\"endlinecolor\":\"#2a3f5f\",\"gridcolor\":\"white\",\"linecolor\":\"white\",\"minorgridcolor\":\"white\",\"startlinecolor\":\"#2a3f5f\"},\"type\":\"carpet\"}],\"choropleth\":[{\"colorbar\":{\"outlinewidth\":0,\"ticks\":\"\"},\"type\":\"choropleth\"}],\"contour\":[{\"colorbar\":{\"outlinewidth\":0,\"ticks\":\"\"},\"colorscale\":[[0.0,\"#0d0887\"],[0.1111111111111111,\"#46039f\"],[0.2222222222222222,\"#7201a8\"],[0.3333333333333333,\"#9c179e\"],[0.4444444444444444,\"#bd3786\"],[0.5555555555555556,\"#d8576b\"],[0.6666666666666666,\"#ed7953\"],[0.7777777777777778,\"#fb9f3a\"],[0.8888888888888888,\"#fdca26\"],[1.0,\"#f0f921\"]],\"type\":\"contour\"}],\"contourcarpet\":[{\"colorbar\":{\"outlinewidth\":0,\"ticks\":\"\"},\"type\":\"contourcarpet\"}],\"heatmap\":[{\"colorbar\":{\"outlinewidth\":0,\"ticks\":\"\"},\"colorscale\":[[0.0,\"#0d0887\"],[0.1111111111111111,\"#46039f\"],[0.2222222222222222,\"#7201a8\"],[0.3333333333333333,\"#9c179e\"],[0.4444444444444444,\"#bd3786\"],[0.5555555555555556,\"#d8576b\"],[0.6666666666666666,\"#ed7953\"],[0.7777777777777778,\"#fb9f3a\"],[0.8888888888888888,\"#fdca26\"],[1.0,\"#f0f921\"]],\"type\":\"heatmap\"}],\"heatmapgl\":[{\"colorbar\":{\"outlinewidth\":0,\"ticks\":\"\"},\"colorscale\":[[0.0,\"#0d0887\"],[0.1111111111111111,\"#46039f\"],[0.2222222222222222,\"#7201a8\"],[0.3333333333333333,\"#9c179e\"],[0.4444444444444444,\"#bd3786\"],[0.5555555555555556,\"#d8576b\"],[0.6666666666666666,\"#ed7953\"],[0.7777777777777778,\"#fb9f3a\"],[0.8888888888888888,\"#fdca26\"],[1.0,\"#f0f921\"]],\"type\":\"heatmapgl\"}],\"histogram\":[{\"marker\":{\"pattern\":{\"fillmode\":\"overlay\",\"size\":10,\"solidity\":0.2}},\"type\":\"histogram\"}],\"histogram2d\":[{\"colorbar\":{\"outlinewidth\":0,\"ticks\":\"\"},\"colorscale\":[[0.0,\"#0d0887\"],[0.1111111111111111,\"#46039f\"],[0.2222222222222222,\"#7201a8\"],[0.3333333333333333,\"#9c179e\"],[0.4444444444444444,\"#bd3786\"],[0.5555555555555556,\"#d8576b\"],[0.6666666666666666,\"#ed7953\"],[0.7777777777777778,\"#fb9f3a\"],[0.8888888888888888,\"#fdca26\"],[1.0,\"#f0f921\"]],\"type\":\"histogram2d\"}],\"histogram2dcontour\":[{\"colorbar\":{\"outlinewidth\":0,\"ticks\":\"\"},\"colorscale\":[[0.0,\"#0d0887\"],[0.1111111111111111,\"#46039f\"],[0.2222222222222222,\"#7201a8\"],[0.3333333333333333,\"#9c179e\"],[0.4444444444444444,\"#bd3786\"],[0.5555555555555556,\"#d8576b\"],[0.6666666666666666,\"#ed7953\"],[0.7777777777777778,\"#fb9f3a\"],[0.8888888888888888,\"#fdca26\"],[1.0,\"#f0f921\"]],\"type\":\"histogram2dcontour\"}],\"mesh3d\":[{\"colorbar\":{\"outlinewidth\":0,\"ticks\":\"\"},\"type\":\"mesh3d\"}],\"parcoords\":[{\"line\":{\"colorbar\":{\"outlinewidth\":0,\"ticks\":\"\"}},\"type\":\"parcoords\"}],\"pie\":[{\"automargin\":true,\"type\":\"pie\"}],\"scatter\":[{\"marker\":{\"colorbar\":{\"outlinewidth\":0,\"ticks\":\"\"}},\"type\":\"scatter\"}],\"scatter3d\":[{\"line\":{\"colorbar\":{\"outlinewidth\":0,\"ticks\":\"\"}},\"marker\":{\"colorbar\":{\"outlinewidth\":0,\"ticks\":\"\"}},\"type\":\"scatter3d\"}],\"scattercarpet\":[{\"marker\":{\"colorbar\":{\"outlinewidth\":0,\"ticks\":\"\"}},\"type\":\"scattercarpet\"}],\"scattergeo\":[{\"marker\":{\"colorbar\":{\"outlinewidth\":0,\"ticks\":\"\"}},\"type\":\"scattergeo\"}],\"scattergl\":[{\"marker\":{\"colorbar\":{\"outlinewidth\":0,\"ticks\":\"\"}},\"type\":\"scattergl\"}],\"scattermapbox\":[{\"marker\":{\"colorbar\":{\"outlinewidth\":0,\"ticks\":\"\"}},\"type\":\"scattermapbox\"}],\"scatterpolar\":[{\"marker\":{\"colorbar\":{\"outlinewidth\":0,\"ticks\":\"\"}},\"type\":\"scatterpolar\"}],\"scatterpolargl\":[{\"marker\":{\"colorbar\":{\"outlinewidth\":0,\"ticks\":\"\"}},\"type\":\"scatterpolargl\"}],\"scatterternary\":[{\"marker\":{\"colorbar\":{\"outlinewidth\":0,\"ticks\":\"\"}},\"type\":\"scatterternary\"}],\"surface\":[{\"colorbar\":{\"outlinewidth\":0,\"ticks\":\"\"},\"colorscale\":[[0.0,\"#0d0887\"],[0.1111111111111111,\"#46039f\"],[0.2222222222222222,\"#7201a8\"],[0.3333333333333333,\"#9c179e\"],[0.4444444444444444,\"#bd3786\"],[0.5555555555555556,\"#d8576b\"],[0.6666666666666666,\"#ed7953\"],[0.7777777777777778,\"#fb9f3a\"],[0.8888888888888888,\"#fdca26\"],[1.0,\"#f0f921\"]],\"type\":\"surface\"}],\"table\":[{\"cells\":{\"fill\":{\"color\":\"#EBF0F8\"},\"line\":{\"color\":\"white\"}},\"header\":{\"fill\":{\"color\":\"#C8D4E3\"},\"line\":{\"color\":\"white\"}},\"type\":\"table\"}]},\"layout\":{\"annotationdefaults\":{\"arrowcolor\":\"#2a3f5f\",\"arrowhead\":0,\"arrowwidth\":1},\"autotypenumbers\":\"strict\",\"coloraxis\":{\"colorbar\":{\"outlinewidth\":0,\"ticks\":\"\"}},\"colorscale\":{\"diverging\":[[0,\"#8e0152\"],[0.1,\"#c51b7d\"],[0.2,\"#de77ae\"],[0.3,\"#f1b6da\"],[0.4,\"#fde0ef\"],[0.5,\"#f7f7f7\"],[0.6,\"#e6f5d0\"],[0.7,\"#b8e186\"],[0.8,\"#7fbc41\"],[0.9,\"#4d9221\"],[1,\"#276419\"]],\"sequential\":[[0.0,\"#0d0887\"],[0.1111111111111111,\"#46039f\"],[0.2222222222222222,\"#7201a8\"],[0.3333333333333333,\"#9c179e\"],[0.4444444444444444,\"#bd3786\"],[0.5555555555555556,\"#d8576b\"],[0.6666666666666666,\"#ed7953\"],[0.7777777777777778,\"#fb9f3a\"],[0.8888888888888888,\"#fdca26\"],[1.0,\"#f0f921\"]],\"sequentialminus\":[[0.0,\"#0d0887\"],[0.1111111111111111,\"#46039f\"],[0.2222222222222222,\"#7201a8\"],[0.3333333333333333,\"#9c179e\"],[0.4444444444444444,\"#bd3786\"],[0.5555555555555556,\"#d8576b\"],[0.6666666666666666,\"#ed7953\"],[0.7777777777777778,\"#fb9f3a\"],[0.8888888888888888,\"#fdca26\"],[1.0,\"#f0f921\"]]},\"colorway\":[\"#636efa\",\"#EF553B\",\"#00cc96\",\"#ab63fa\",\"#FFA15A\",\"#19d3f3\",\"#FF6692\",\"#B6E880\",\"#FF97FF\",\"#FECB52\"],\"font\":{\"color\":\"#2a3f5f\"},\"geo\":{\"bgcolor\":\"white\",\"lakecolor\":\"white\",\"landcolor\":\"#E5ECF6\",\"showlakes\":true,\"showland\":true,\"subunitcolor\":\"white\"},\"hoverlabel\":{\"align\":\"left\"},\"hovermode\":\"closest\",\"mapbox\":{\"style\":\"light\"},\"paper_bgcolor\":\"white\",\"plot_bgcolor\":\"#E5ECF6\",\"polar\":{\"angularaxis\":{\"gridcolor\":\"white\",\"linecolor\":\"white\",\"ticks\":\"\"},\"bgcolor\":\"#E5ECF6\",\"radialaxis\":{\"gridcolor\":\"white\",\"linecolor\":\"white\",\"ticks\":\"\"}},\"scene\":{\"xaxis\":{\"backgroundcolor\":\"#E5ECF6\",\"gridcolor\":\"white\",\"gridwidth\":2,\"linecolor\":\"white\",\"showbackground\":true,\"ticks\":\"\",\"zerolinecolor\":\"white\"},\"yaxis\":{\"backgroundcolor\":\"#E5ECF6\",\"gridcolor\":\"white\",\"gridwidth\":2,\"linecolor\":\"white\",\"showbackground\":true,\"ticks\":\"\",\"zerolinecolor\":\"white\"},\"zaxis\":{\"backgroundcolor\":\"#E5ECF6\",\"gridcolor\":\"white\",\"gridwidth\":2,\"linecolor\":\"white\",\"showbackground\":true,\"ticks\":\"\",\"zerolinecolor\":\"white\"}},\"shapedefaults\":{\"line\":{\"color\":\"#2a3f5f\"}},\"ternary\":{\"aaxis\":{\"gridcolor\":\"white\",\"linecolor\":\"white\",\"ticks\":\"\"},\"baxis\":{\"gridcolor\":\"white\",\"linecolor\":\"white\",\"ticks\":\"\"},\"bgcolor\":\"#E5ECF6\",\"caxis\":{\"gridcolor\":\"white\",\"linecolor\":\"white\",\"ticks\":\"\"}},\"title\":{\"x\":0.05},\"xaxis\":{\"automargin\":true,\"gridcolor\":\"white\",\"linecolor\":\"white\",\"ticks\":\"\",\"title\":{\"standoff\":15},\"zerolinecolor\":\"white\",\"zerolinewidth\":2},\"yaxis\":{\"automargin\":true,\"gridcolor\":\"white\",\"linecolor\":\"white\",\"ticks\":\"\",\"title\":{\"standoff\":15},\"zerolinecolor\":\"white\",\"zerolinewidth\":2}}},\"xaxis\":{\"anchor\":\"y\",\"domain\":[0.0,1.0],\"title\":{\"text\":\"Age\"}},\"yaxis\":{\"anchor\":\"x\",\"domain\":[0.0,1.0],\"title\":{\"text\":\"RestingBP\"}},\"legend\":{\"tracegroupgap\":0},\"margin\":{\"t\":60},\"boxmode\":\"group\"},                        {\"responsive\": true}                    ).then(function(){\n",
       "                            \n",
       "var gd = document.getElementById('b09848c4-d8f8-479a-bc0d-7b955d1cb84b');\n",
       "var x = new MutationObserver(function (mutations, observer) {{\n",
       "        var display = window.getComputedStyle(gd).display;\n",
       "        if (!display || display === 'none') {{\n",
       "            console.log([gd, 'removed!']);\n",
       "            Plotly.purge(gd);\n",
       "            observer.disconnect();\n",
       "        }}\n",
       "}});\n",
       "\n",
       "// Listen for the removal of the full notebook cells\n",
       "var notebookContainer = gd.closest('#notebook-container');\n",
       "if (notebookContainer) {{\n",
       "    x.observe(notebookContainer, {childList: true});\n",
       "}}\n",
       "\n",
       "// Listen for the clearing of the current output cell\n",
       "var outputEl = gd.closest('.output');\n",
       "if (outputEl) {{\n",
       "    x.observe(outputEl, {childList: true});\n",
       "}}\n",
       "\n",
       "                        })                };                });            </script>        </div>"
      ]
     },
     "metadata": {},
     "output_type": "display_data"
    }
   ],
   "source": [
    "px.box(data,x = \"Age\", y = \"RestingBP\")"
   ]
  },
  {
   "cell_type": "markdown",
   "metadata": {},
   "source": [
    "##### Box plot to detect the outliers "
   ]
  },
  {
   "cell_type": "code",
   "execution_count": 182,
   "metadata": {},
   "outputs": [
    {
     "data": {
      "application/vnd.plotly.v1+json": {
       "config": {
        "plotlyServerURL": "https://plot.ly"
       },
       "data": [
        {
         "alignmentgroup": "True",
         "hovertemplate": "Sex=%{x}<br>RestingBP=%{y}<extra></extra>",
         "legendgroup": "",
         "marker": {
          "color": "#636efa"
         },
         "name": "",
         "notched": false,
         "offsetgroup": "",
         "orientation": "v",
         "showlegend": false,
         "type": "box",
         "x": [
          "M",
          "F",
          "M",
          "F",
          "M",
          "M",
          "F",
          "M",
          "M",
          "F",
          "F",
          "M",
          "M",
          "M",
          "F",
          "F",
          "M",
          "F",
          "M",
          "M",
          "F",
          "M",
          "F",
          "M",
          "M",
          "M",
          "M",
          "M",
          "F",
          "M",
          "M",
          "M",
          "M",
          "M",
          "F",
          "M",
          "M",
          "F",
          "F",
          "F",
          "F",
          "F",
          "M",
          "M",
          "M",
          "M",
          "M",
          "M",
          "M",
          "M",
          "M",
          "F",
          "M",
          "F",
          "F",
          "F",
          "M",
          "M",
          "M",
          "M",
          "M",
          "F",
          "M",
          "M",
          "F",
          "F",
          "F",
          "M",
          "M",
          "M",
          "M",
          "M",
          "M",
          "F",
          "M",
          "M",
          "M",
          "F",
          "M",
          "M",
          "M",
          "M",
          "M",
          "M",
          "M",
          "M",
          "M",
          "F",
          "M",
          "M",
          "F",
          "M",
          "F",
          "M",
          "F",
          "M",
          "M",
          "M",
          "M",
          "M",
          "M",
          "M",
          "F",
          "M",
          "M",
          "M",
          "F",
          "M",
          "M",
          "M",
          "F",
          "M",
          "M",
          "M",
          "F",
          "F",
          "M",
          "F",
          "F",
          "M",
          "F",
          "F",
          "M",
          "F",
          "M",
          "M",
          "F",
          "F",
          "F",
          "M",
          "M",
          "M",
          "M",
          "M",
          "F",
          "M",
          "F",
          "M",
          "M",
          "M",
          "M",
          "M",
          "M",
          "M",
          "F",
          "M",
          "M",
          "F",
          "M",
          "M",
          "M",
          "M",
          "M",
          "M",
          "M",
          "M",
          "M",
          "M",
          "M",
          "M",
          "M",
          "M",
          "M",
          "M",
          "F",
          "M",
          "M",
          "M",
          "M",
          "M",
          "M",
          "M",
          "M",
          "M",
          "M",
          "M",
          "M",
          "M",
          "M",
          "F",
          "M",
          "M",
          "M",
          "M",
          "F",
          "M",
          "M",
          "M",
          "F",
          "M",
          "M",
          "M",
          "M",
          "M",
          "F",
          "F",
          "M",
          "M",
          "M",
          "F",
          "M",
          "M",
          "M",
          "F",
          "M",
          "M",
          "M",
          "M",
          "M",
          "M",
          "M",
          "F",
          "M",
          "F",
          "M",
          "F",
          "M",
          "M",
          "M",
          "M",
          "M",
          "F",
          "F",
          "M",
          "M",
          "M",
          "M",
          "M",
          "M",
          "F",
          "M",
          "M",
          "F",
          "M",
          "F",
          "M",
          "M",
          "M",
          "M",
          "M",
          "M",
          "M",
          "M",
          "F",
          "M",
          "M",
          "M",
          "M",
          "M",
          "M",
          "M",
          "M",
          "M",
          "M",
          "M",
          "F",
          "F",
          "M",
          "F",
          "F",
          "M",
          "F",
          "M",
          "M",
          "M",
          "M",
          "M",
          "M",
          "M",
          "F",
          "M",
          "F",
          "M",
          "M",
          "F",
          "M",
          "M",
          "M",
          "F",
          "F",
          "M",
          "M",
          "F",
          "F",
          "M",
          "F",
          "M",
          "M",
          "F",
          "M",
          "M",
          "F",
          "M",
          "M",
          "M",
          "M",
          "M",
          "M",
          "M",
          "M",
          "M",
          "M",
          "M",
          "F",
          "M",
          "F",
          "M",
          "M",
          "M",
          "M",
          "M",
          "M",
          "M",
          "M",
          "M",
          "M",
          "M",
          "M",
          "M",
          "M",
          "M",
          "M",
          "F",
          "M",
          "M",
          "M",
          "M",
          "M",
          "M",
          "M",
          "M",
          "M",
          "M",
          "M",
          "M",
          "M",
          "M",
          "M",
          "M",
          "F",
          "M",
          "M",
          "M",
          "M",
          "M",
          "M",
          "M",
          "M",
          "M",
          "M",
          "M",
          "M",
          "M",
          "M",
          "M",
          "M",
          "M",
          "M",
          "M",
          "M",
          "M",
          "M",
          "M",
          "M",
          "M",
          "F",
          "M",
          "M",
          "M",
          "M",
          "M",
          "M",
          "M",
          "M",
          "M",
          "F",
          "M",
          "M",
          "M",
          "M",
          "M",
          "M",
          "M",
          "F",
          "M",
          "M",
          "M",
          "M",
          "M",
          "M",
          "M",
          "M",
          "M",
          "M",
          "M",
          "M",
          "F",
          "M",
          "M",
          "M",
          "F",
          "M",
          "M",
          "M",
          "M",
          "M",
          "M",
          "M",
          "M",
          "M",
          "M",
          "M",
          "M",
          "M",
          "M",
          "F",
          "M",
          "M",
          "M",
          "M",
          "M",
          "M",
          "M",
          "M",
          "M",
          "M",
          "M",
          "M",
          "M",
          "M",
          "M",
          "M",
          "M",
          "M",
          "M",
          "M",
          "M",
          "M",
          "M",
          "M",
          "M",
          "M",
          "M",
          "M",
          "M",
          "M",
          "M",
          "M",
          "M",
          "M",
          "M",
          "M",
          "M",
          "M",
          "M",
          "M",
          "M",
          "M",
          "M",
          "M",
          "M",
          "M",
          "M",
          "M",
          "M",
          "M",
          "M",
          "F",
          "M",
          "M",
          "M",
          "M",
          "M",
          "M",
          "M",
          "M",
          "M",
          "M",
          "M",
          "M",
          "M",
          "M",
          "M",
          "M",
          "M",
          "M",
          "M",
          "M",
          "M",
          "M",
          "M",
          "M",
          "M",
          "M",
          "M",
          "F",
          "M",
          "M",
          "M",
          "M",
          "M",
          "M",
          "M",
          "M",
          "M",
          "M",
          "M",
          "M",
          "M",
          "M",
          "M",
          "M",
          "M",
          "M",
          "M",
          "M",
          "M",
          "M",
          "M",
          "M",
          "M",
          "M",
          "M",
          "M",
          "M",
          "M",
          "M",
          "M",
          "M",
          "M",
          "M",
          "M",
          "M",
          "M",
          "M",
          "M",
          "M",
          "M",
          "M",
          "M",
          "M",
          "M",
          "F",
          "M",
          "F",
          "M",
          "M",
          "M",
          "M",
          "M",
          "M",
          "M",
          "M",
          "M",
          "M",
          "M",
          "M",
          "M",
          "M",
          "M",
          "M",
          "M",
          "M",
          "M",
          "M",
          "M",
          "M",
          "M",
          "M",
          "M",
          "M",
          "M",
          "M",
          "M",
          "M",
          "M",
          "M",
          "M",
          "M",
          "M",
          "M",
          "M",
          "M",
          "M",
          "M",
          "M",
          "M",
          "M",
          "M",
          "M",
          "M",
          "M",
          "M",
          "M",
          "M",
          "M",
          "M",
          "M",
          "M",
          "M",
          "M",
          "M",
          "M",
          "M",
          "M",
          "F",
          "M",
          "M",
          "M",
          "M",
          "F",
          "M",
          "M",
          "M",
          "M",
          "M",
          "F",
          "M",
          "M",
          "F",
          "M",
          "M",
          "M",
          "M",
          "F",
          "M",
          "M",
          "M",
          "M",
          "F",
          "F",
          "M",
          "M",
          "M",
          "M",
          "M",
          "M",
          "M",
          "M",
          "F",
          "F",
          "F",
          "F",
          "M",
          "F",
          "M",
          "M",
          "F",
          "M",
          "M",
          "M",
          "M",
          "M",
          "M",
          "M",
          "M",
          "F",
          "M",
          "M",
          "M",
          "M",
          "M",
          "M",
          "M",
          "F",
          "M",
          "M",
          "F",
          "F",
          "F",
          "F",
          "M",
          "F",
          "F",
          "M",
          "M",
          "F",
          "M",
          "F",
          "M",
          "M",
          "M",
          "F",
          "F",
          "M",
          "M",
          "F",
          "M",
          "F",
          "F",
          "M",
          "M",
          "F",
          "F",
          "M",
          "M",
          "M",
          "M",
          "M",
          "M",
          "M",
          "M",
          "M",
          "F",
          "M",
          "M",
          "F",
          "M",
          "M",
          "M",
          "M",
          "M",
          "M",
          "F",
          "F",
          "F",
          "M",
          "F",
          "M",
          "M",
          "M",
          "M",
          "F",
          "M",
          "F",
          "F",
          "M",
          "F",
          "F",
          "M",
          "F",
          "M",
          "F",
          "F",
          "M",
          "M",
          "M",
          "M",
          "F",
          "M",
          "F",
          "M",
          "F",
          "M",
          "M",
          "F",
          "M",
          "M",
          "M",
          "M",
          "F",
          "F",
          "M",
          "F",
          "M",
          "M",
          "M",
          "M",
          "M",
          "M",
          "M",
          "M",
          "M",
          "M",
          "F",
          "M",
          "F",
          "F",
          "F",
          "F",
          "F",
          "M",
          "M",
          "M",
          "F",
          "M",
          "F",
          "M",
          "M",
          "M",
          "F",
          "F",
          "M",
          "F",
          "M",
          "M",
          "M",
          "M",
          "F",
          "M",
          "F",
          "M",
          "M",
          "M",
          "M",
          "M",
          "F",
          "M",
          "F",
          "M",
          "M",
          "M",
          "M",
          "F",
          "M",
          "M",
          "M",
          "M",
          "M",
          "M",
          "F",
          "F",
          "F",
          "F",
          "M",
          "M",
          "M",
          "M",
          "M",
          "M",
          "M",
          "F",
          "M",
          "M",
          "M",
          "M",
          "M",
          "F",
          "M",
          "M",
          "F",
          "F",
          "M",
          "M",
          "M",
          "M",
          "M",
          "M",
          "M",
          "F",
          "M",
          "F",
          "F",
          "F",
          "M",
          "F",
          "M",
          "M",
          "M",
          "M",
          "F",
          "F",
          "M",
          "M",
          "M",
          "M",
          "M",
          "F",
          "F",
          "F",
          "M",
          "M",
          "F",
          "M",
          "M",
          "M",
          "M",
          "M",
          "M",
          "M",
          "F",
          "M",
          "M",
          "M",
          "M",
          "F",
          "M",
          "M",
          "M",
          "M",
          "M",
          "M",
          "F",
          "M",
          "M",
          "F",
          "M",
          "M",
          "M",
          "M",
          "M",
          "F",
          "F",
          "M",
          "F",
          "M",
          "M",
          "F",
          "M",
          "M",
          "M",
          "F",
          "M",
          "M",
          "M",
          "M",
          "F",
          "M",
          "M",
          "F",
          "M",
          "M",
          "F",
          "M",
          "M",
          "M",
          "F",
          "M"
         ],
         "x0": " ",
         "xaxis": "x",
         "y": [
          140,
          160,
          130,
          138,
          150,
          120,
          130,
          110,
          140,
          120,
          130,
          136,
          120,
          140,
          115,
          120,
          110,
          120,
          100,
          120,
          100,
          120,
          124,
          150,
          130,
          130,
          124,
          120,
          113,
          125,
          145,
          130,
          125,
          130,
          150,
          125,
          140,
          110,
          120,
          150,
          150,
          130,
          150,
          140,
          120,
          130,
          120,
          140,
          112,
          110,
          130,
          120,
          140,
          130,
          130,
          160,
          120,
          130,
          150,
          112,
          100,
          150,
          140,
          120,
          110,
          120,
          132,
          110,
          160,
          150,
          140,
          130,
          120,
          120,
          140,
          150,
          118,
          140,
          140,
          130,
          110,
          120,
          150,
          160,
          150,
          140,
          170,
          140,
          120,
          140,
          110,
          130,
          120,
          160,
          110,
          130,
          142,
          160,
          120,
          125,
          130,
          130,
          150,
          120,
          118,
          140,
          120,
          150,
          140,
          190,
          130,
          150,
          140,
          140,
          130,
          100,
          120,
          130,
          120,
          140,
          135,
          125,
          110,
          180,
          130,
          120,
          130,
          108,
          120,
          120,
          145,
          110,
          170,
          150,
          130,
          115,
          120,
          120,
          140,
          150,
          160,
          140,
          160,
          140,
          120,
          110,
          120,
          120,
          120,
          130,
          130,
          100,
          130,
          120,
          120,
          155,
          110,
          140,
          130,
          160,
          140,
          128,
          160,
          120,
          140,
          140,
          140,
          140,
          135,
          140,
          120,
          140,
          140,
          140,
          140,
          140,
          140,
          140,
          130,
          130,
          130,
          130,
          140,
          110,
          160,
          160,
          130,
          120,
          120,
          180,
          180,
          170,
          130,
          135,
          125,
          160,
          120,
          150,
          120,
          130,
          110,
          120,
          160,
          100,
          130,
          150,
          120,
          110,
          130,
          125,
          106,
          140,
          130,
          130,
          150,
          170,
          110,
          120,
          140,
          140,
          130,
          160,
          120,
          120,
          120,
          145,
          120,
          92,
          120,
          130,
          130,
          130,
          120,
          112,
          140,
          120,
          120,
          140,
          160,
          160,
          145,
          200,
          160,
          120,
          160,
          120,
          120,
          122,
          130,
          130,
          135,
          120,
          125,
          140,
          145,
          120,
          130,
          150,
          150,
          122,
          140,
          120,
          120,
          130,
          140,
          160,
          130,
          98,
          130,
          130,
          120,
          105,
          140,
          120,
          180,
          180,
          135,
          170,
          180,
          130,
          120,
          150,
          130,
          110,
          140,
          110,
          140,
          120,
          133,
          120,
          110,
          140,
          130,
          115,
          95,
          105,
          145,
          110,
          110,
          110,
          160,
          140,
          125,
          120,
          95,
          120,
          115,
          130,
          115,
          95,
          155,
          125,
          125,
          115,
          80,
          145,
          105,
          140,
          130,
          145,
          125,
          100,
          105,
          115,
          100,
          105,
          110,
          125,
          95,
          130,
          115,
          115,
          100,
          95,
          130,
          120,
          160,
          150,
          140,
          95,
          100,
          110,
          110,
          130,
          120,
          135,
          120,
          115,
          137,
          110,
          120,
          140,
          120,
          130,
          120,
          145,
          115,
          120,
          115,
          105,
          160,
          160,
          155,
          120,
          120,
          200,
          150,
          135,
          140,
          150,
          135,
          150,
          185,
          135,
          125,
          160,
          155,
          160,
          140,
          120,
          160,
          115,
          115,
          110,
          120,
          150,
          145,
          130,
          140,
          160,
          140,
          115,
          130,
          150,
          160,
          135,
          140,
          170,
          165,
          200,
          160,
          130,
          145,
          135,
          110,
          120,
          140,
          115,
          110,
          160,
          150,
          180,
          125,
          125,
          130,
          155,
          140,
          130,
          132,
          142,
          110,
          120,
          150,
          180,
          120,
          160,
          126,
          140,
          110,
          133,
          128,
          120,
          170,
          110,
          126,
          152,
          116,
          120,
          130,
          138,
          128,
          130,
          128,
          130,
          120,
          136,
          130,
          124,
          160,
          0,
          122,
          144,
          140,
          120,
          136,
          154,
          120,
          125,
          134,
          104,
          139,
          136,
          122,
          128,
          131,
          134,
          120,
          132,
          152,
          124,
          126,
          138,
          154,
          141,
          131,
          178,
          132,
          110,
          130,
          170,
          126,
          140,
          142,
          120,
          134,
          139,
          110,
          140,
          140,
          136,
          120,
          170,
          130,
          137,
          142,
          142,
          132,
          146,
          160,
          135,
          136,
          130,
          140,
          132,
          158,
          136,
          136,
          106,
          120,
          110,
          136,
          160,
          123,
          112,
          122,
          130,
          150,
          150,
          102,
          96,
          130,
          120,
          144,
          124,
          150,
          130,
          144,
          139,
          131,
          143,
          133,
          143,
          116,
          110,
          125,
          130,
          133,
          150,
          130,
          110,
          138,
          104,
          138,
          170,
          140,
          132,
          132,
          142,
          112,
          139,
          172,
          120,
          144,
          145,
          155,
          150,
          160,
          137,
          137,
          134,
          133,
          132,
          140,
          135,
          144,
          141,
          150,
          130,
          110,
          158,
          128,
          140,
          150,
          160,
          142,
          137,
          139,
          146,
          156,
          145,
          131,
          140,
          122,
          142,
          141,
          180,
          124,
          118,
          140,
          140,
          136,
          100,
          190,
          130,
          160,
          130,
          122,
          133,
          120,
          130,
          130,
          140,
          120,
          155,
          134,
          114,
          160,
          144,
          158,
          134,
          127,
          135,
          122,
          140,
          120,
          130,
          115,
          124,
          128,
          120,
          120,
          130,
          110,
          140,
          150,
          135,
          142,
          140,
          134,
          128,
          112,
          140,
          140,
          110,
          140,
          120,
          130,
          115,
          112,
          132,
          130,
          138,
          120,
          112,
          110,
          128,
          160,
          120,
          170,
          144,
          130,
          140,
          160,
          130,
          122,
          152,
          124,
          130,
          101,
          126,
          140,
          118,
          110,
          160,
          150,
          136,
          128,
          140,
          140,
          130,
          105,
          138,
          120,
          174,
          120,
          150,
          130,
          120,
          150,
          145,
          150,
          140,
          136,
          118,
          108,
          120,
          120,
          156,
          140,
          106,
          142,
          104,
          94,
          120,
          120,
          146,
          120,
          150,
          130,
          110,
          148,
          128,
          178,
          126,
          150,
          140,
          130,
          124,
          110,
          125,
          110,
          120,
          100,
          140,
          120,
          108,
          120,
          130,
          165,
          130,
          124,
          100,
          150,
          140,
          112,
          180,
          110,
          158,
          135,
          120,
          134,
          120,
          200,
          150,
          130,
          120,
          122,
          152,
          160,
          125,
          160,
          120,
          136,
          134,
          117,
          108,
          112,
          140,
          120,
          150,
          142,
          152,
          125,
          118,
          132,
          145,
          138,
          140,
          125,
          192,
          123,
          112,
          110,
          132,
          112,
          112,
          120,
          108,
          130,
          130,
          105,
          140,
          128,
          120,
          178,
          120,
          150,
          130,
          128,
          110,
          180,
          110,
          130,
          138,
          138,
          160,
          140,
          100,
          120,
          118,
          138,
          140,
          150,
          125,
          129,
          120,
          134,
          110,
          102,
          130,
          130,
          132,
          108,
          140,
          160,
          140,
          145,
          108,
          126,
          124,
          135,
          100,
          110,
          140,
          125,
          118,
          125,
          125,
          140,
          160,
          152,
          102,
          105,
          125,
          130,
          170,
          125,
          122,
          128,
          130,
          130,
          135,
          94,
          120,
          120,
          110,
          135,
          150,
          130,
          138,
          135,
          130,
          132,
          150,
          118,
          145,
          118,
          115,
          128,
          130,
          160,
          138,
          120,
          138,
          120,
          180,
          140,
          130,
          140,
          140,
          130,
          110,
          155,
          140,
          145,
          120,
          130,
          112,
          110,
          150,
          160,
          150,
          132,
          140,
          150,
          120,
          130,
          120,
          130,
          110,
          172,
          120,
          140,
          140,
          160,
          128,
          138,
          132,
          128,
          134,
          170,
          146,
          138,
          154,
          130,
          110,
          130,
          128,
          122,
          148,
          114,
          170,
          125,
          130,
          120,
          152,
          132,
          120,
          140,
          124,
          120,
          164,
          140,
          110,
          144,
          130,
          130,
          138
         ],
         "y0": " ",
         "yaxis": "y"
        }
       ],
       "layout": {
        "boxmode": "group",
        "legend": {
         "tracegroupgap": 0
        },
        "margin": {
         "t": 60
        },
        "template": {
         "data": {
          "bar": [
           {
            "error_x": {
             "color": "#2a3f5f"
            },
            "error_y": {
             "color": "#2a3f5f"
            },
            "marker": {
             "line": {
              "color": "#E5ECF6",
              "width": 0.5
             },
             "pattern": {
              "fillmode": "overlay",
              "size": 10,
              "solidity": 0.2
             }
            },
            "type": "bar"
           }
          ],
          "barpolar": [
           {
            "marker": {
             "line": {
              "color": "#E5ECF6",
              "width": 0.5
             },
             "pattern": {
              "fillmode": "overlay",
              "size": 10,
              "solidity": 0.2
             }
            },
            "type": "barpolar"
           }
          ],
          "carpet": [
           {
            "aaxis": {
             "endlinecolor": "#2a3f5f",
             "gridcolor": "white",
             "linecolor": "white",
             "minorgridcolor": "white",
             "startlinecolor": "#2a3f5f"
            },
            "baxis": {
             "endlinecolor": "#2a3f5f",
             "gridcolor": "white",
             "linecolor": "white",
             "minorgridcolor": "white",
             "startlinecolor": "#2a3f5f"
            },
            "type": "carpet"
           }
          ],
          "choropleth": [
           {
            "colorbar": {
             "outlinewidth": 0,
             "ticks": ""
            },
            "type": "choropleth"
           }
          ],
          "contour": [
           {
            "colorbar": {
             "outlinewidth": 0,
             "ticks": ""
            },
            "colorscale": [
             [
              0,
              "#0d0887"
             ],
             [
              0.1111111111111111,
              "#46039f"
             ],
             [
              0.2222222222222222,
              "#7201a8"
             ],
             [
              0.3333333333333333,
              "#9c179e"
             ],
             [
              0.4444444444444444,
              "#bd3786"
             ],
             [
              0.5555555555555556,
              "#d8576b"
             ],
             [
              0.6666666666666666,
              "#ed7953"
             ],
             [
              0.7777777777777778,
              "#fb9f3a"
             ],
             [
              0.8888888888888888,
              "#fdca26"
             ],
             [
              1,
              "#f0f921"
             ]
            ],
            "type": "contour"
           }
          ],
          "contourcarpet": [
           {
            "colorbar": {
             "outlinewidth": 0,
             "ticks": ""
            },
            "type": "contourcarpet"
           }
          ],
          "heatmap": [
           {
            "colorbar": {
             "outlinewidth": 0,
             "ticks": ""
            },
            "colorscale": [
             [
              0,
              "#0d0887"
             ],
             [
              0.1111111111111111,
              "#46039f"
             ],
             [
              0.2222222222222222,
              "#7201a8"
             ],
             [
              0.3333333333333333,
              "#9c179e"
             ],
             [
              0.4444444444444444,
              "#bd3786"
             ],
             [
              0.5555555555555556,
              "#d8576b"
             ],
             [
              0.6666666666666666,
              "#ed7953"
             ],
             [
              0.7777777777777778,
              "#fb9f3a"
             ],
             [
              0.8888888888888888,
              "#fdca26"
             ],
             [
              1,
              "#f0f921"
             ]
            ],
            "type": "heatmap"
           }
          ],
          "heatmapgl": [
           {
            "colorbar": {
             "outlinewidth": 0,
             "ticks": ""
            },
            "colorscale": [
             [
              0,
              "#0d0887"
             ],
             [
              0.1111111111111111,
              "#46039f"
             ],
             [
              0.2222222222222222,
              "#7201a8"
             ],
             [
              0.3333333333333333,
              "#9c179e"
             ],
             [
              0.4444444444444444,
              "#bd3786"
             ],
             [
              0.5555555555555556,
              "#d8576b"
             ],
             [
              0.6666666666666666,
              "#ed7953"
             ],
             [
              0.7777777777777778,
              "#fb9f3a"
             ],
             [
              0.8888888888888888,
              "#fdca26"
             ],
             [
              1,
              "#f0f921"
             ]
            ],
            "type": "heatmapgl"
           }
          ],
          "histogram": [
           {
            "marker": {
             "pattern": {
              "fillmode": "overlay",
              "size": 10,
              "solidity": 0.2
             }
            },
            "type": "histogram"
           }
          ],
          "histogram2d": [
           {
            "colorbar": {
             "outlinewidth": 0,
             "ticks": ""
            },
            "colorscale": [
             [
              0,
              "#0d0887"
             ],
             [
              0.1111111111111111,
              "#46039f"
             ],
             [
              0.2222222222222222,
              "#7201a8"
             ],
             [
              0.3333333333333333,
              "#9c179e"
             ],
             [
              0.4444444444444444,
              "#bd3786"
             ],
             [
              0.5555555555555556,
              "#d8576b"
             ],
             [
              0.6666666666666666,
              "#ed7953"
             ],
             [
              0.7777777777777778,
              "#fb9f3a"
             ],
             [
              0.8888888888888888,
              "#fdca26"
             ],
             [
              1,
              "#f0f921"
             ]
            ],
            "type": "histogram2d"
           }
          ],
          "histogram2dcontour": [
           {
            "colorbar": {
             "outlinewidth": 0,
             "ticks": ""
            },
            "colorscale": [
             [
              0,
              "#0d0887"
             ],
             [
              0.1111111111111111,
              "#46039f"
             ],
             [
              0.2222222222222222,
              "#7201a8"
             ],
             [
              0.3333333333333333,
              "#9c179e"
             ],
             [
              0.4444444444444444,
              "#bd3786"
             ],
             [
              0.5555555555555556,
              "#d8576b"
             ],
             [
              0.6666666666666666,
              "#ed7953"
             ],
             [
              0.7777777777777778,
              "#fb9f3a"
             ],
             [
              0.8888888888888888,
              "#fdca26"
             ],
             [
              1,
              "#f0f921"
             ]
            ],
            "type": "histogram2dcontour"
           }
          ],
          "mesh3d": [
           {
            "colorbar": {
             "outlinewidth": 0,
             "ticks": ""
            },
            "type": "mesh3d"
           }
          ],
          "parcoords": [
           {
            "line": {
             "colorbar": {
              "outlinewidth": 0,
              "ticks": ""
             }
            },
            "type": "parcoords"
           }
          ],
          "pie": [
           {
            "automargin": true,
            "type": "pie"
           }
          ],
          "scatter": [
           {
            "marker": {
             "colorbar": {
              "outlinewidth": 0,
              "ticks": ""
             }
            },
            "type": "scatter"
           }
          ],
          "scatter3d": [
           {
            "line": {
             "colorbar": {
              "outlinewidth": 0,
              "ticks": ""
             }
            },
            "marker": {
             "colorbar": {
              "outlinewidth": 0,
              "ticks": ""
             }
            },
            "type": "scatter3d"
           }
          ],
          "scattercarpet": [
           {
            "marker": {
             "colorbar": {
              "outlinewidth": 0,
              "ticks": ""
             }
            },
            "type": "scattercarpet"
           }
          ],
          "scattergeo": [
           {
            "marker": {
             "colorbar": {
              "outlinewidth": 0,
              "ticks": ""
             }
            },
            "type": "scattergeo"
           }
          ],
          "scattergl": [
           {
            "marker": {
             "colorbar": {
              "outlinewidth": 0,
              "ticks": ""
             }
            },
            "type": "scattergl"
           }
          ],
          "scattermapbox": [
           {
            "marker": {
             "colorbar": {
              "outlinewidth": 0,
              "ticks": ""
             }
            },
            "type": "scattermapbox"
           }
          ],
          "scatterpolar": [
           {
            "marker": {
             "colorbar": {
              "outlinewidth": 0,
              "ticks": ""
             }
            },
            "type": "scatterpolar"
           }
          ],
          "scatterpolargl": [
           {
            "marker": {
             "colorbar": {
              "outlinewidth": 0,
              "ticks": ""
             }
            },
            "type": "scatterpolargl"
           }
          ],
          "scatterternary": [
           {
            "marker": {
             "colorbar": {
              "outlinewidth": 0,
              "ticks": ""
             }
            },
            "type": "scatterternary"
           }
          ],
          "surface": [
           {
            "colorbar": {
             "outlinewidth": 0,
             "ticks": ""
            },
            "colorscale": [
             [
              0,
              "#0d0887"
             ],
             [
              0.1111111111111111,
              "#46039f"
             ],
             [
              0.2222222222222222,
              "#7201a8"
             ],
             [
              0.3333333333333333,
              "#9c179e"
             ],
             [
              0.4444444444444444,
              "#bd3786"
             ],
             [
              0.5555555555555556,
              "#d8576b"
             ],
             [
              0.6666666666666666,
              "#ed7953"
             ],
             [
              0.7777777777777778,
              "#fb9f3a"
             ],
             [
              0.8888888888888888,
              "#fdca26"
             ],
             [
              1,
              "#f0f921"
             ]
            ],
            "type": "surface"
           }
          ],
          "table": [
           {
            "cells": {
             "fill": {
              "color": "#EBF0F8"
             },
             "line": {
              "color": "white"
             }
            },
            "header": {
             "fill": {
              "color": "#C8D4E3"
             },
             "line": {
              "color": "white"
             }
            },
            "type": "table"
           }
          ]
         },
         "layout": {
          "annotationdefaults": {
           "arrowcolor": "#2a3f5f",
           "arrowhead": 0,
           "arrowwidth": 1
          },
          "autotypenumbers": "strict",
          "coloraxis": {
           "colorbar": {
            "outlinewidth": 0,
            "ticks": ""
           }
          },
          "colorscale": {
           "diverging": [
            [
             0,
             "#8e0152"
            ],
            [
             0.1,
             "#c51b7d"
            ],
            [
             0.2,
             "#de77ae"
            ],
            [
             0.3,
             "#f1b6da"
            ],
            [
             0.4,
             "#fde0ef"
            ],
            [
             0.5,
             "#f7f7f7"
            ],
            [
             0.6,
             "#e6f5d0"
            ],
            [
             0.7,
             "#b8e186"
            ],
            [
             0.8,
             "#7fbc41"
            ],
            [
             0.9,
             "#4d9221"
            ],
            [
             1,
             "#276419"
            ]
           ],
           "sequential": [
            [
             0,
             "#0d0887"
            ],
            [
             0.1111111111111111,
             "#46039f"
            ],
            [
             0.2222222222222222,
             "#7201a8"
            ],
            [
             0.3333333333333333,
             "#9c179e"
            ],
            [
             0.4444444444444444,
             "#bd3786"
            ],
            [
             0.5555555555555556,
             "#d8576b"
            ],
            [
             0.6666666666666666,
             "#ed7953"
            ],
            [
             0.7777777777777778,
             "#fb9f3a"
            ],
            [
             0.8888888888888888,
             "#fdca26"
            ],
            [
             1,
             "#f0f921"
            ]
           ],
           "sequentialminus": [
            [
             0,
             "#0d0887"
            ],
            [
             0.1111111111111111,
             "#46039f"
            ],
            [
             0.2222222222222222,
             "#7201a8"
            ],
            [
             0.3333333333333333,
             "#9c179e"
            ],
            [
             0.4444444444444444,
             "#bd3786"
            ],
            [
             0.5555555555555556,
             "#d8576b"
            ],
            [
             0.6666666666666666,
             "#ed7953"
            ],
            [
             0.7777777777777778,
             "#fb9f3a"
            ],
            [
             0.8888888888888888,
             "#fdca26"
            ],
            [
             1,
             "#f0f921"
            ]
           ]
          },
          "colorway": [
           "#636efa",
           "#EF553B",
           "#00cc96",
           "#ab63fa",
           "#FFA15A",
           "#19d3f3",
           "#FF6692",
           "#B6E880",
           "#FF97FF",
           "#FECB52"
          ],
          "font": {
           "color": "#2a3f5f"
          },
          "geo": {
           "bgcolor": "white",
           "lakecolor": "white",
           "landcolor": "#E5ECF6",
           "showlakes": true,
           "showland": true,
           "subunitcolor": "white"
          },
          "hoverlabel": {
           "align": "left"
          },
          "hovermode": "closest",
          "mapbox": {
           "style": "light"
          },
          "paper_bgcolor": "white",
          "plot_bgcolor": "#E5ECF6",
          "polar": {
           "angularaxis": {
            "gridcolor": "white",
            "linecolor": "white",
            "ticks": ""
           },
           "bgcolor": "#E5ECF6",
           "radialaxis": {
            "gridcolor": "white",
            "linecolor": "white",
            "ticks": ""
           }
          },
          "scene": {
           "xaxis": {
            "backgroundcolor": "#E5ECF6",
            "gridcolor": "white",
            "gridwidth": 2,
            "linecolor": "white",
            "showbackground": true,
            "ticks": "",
            "zerolinecolor": "white"
           },
           "yaxis": {
            "backgroundcolor": "#E5ECF6",
            "gridcolor": "white",
            "gridwidth": 2,
            "linecolor": "white",
            "showbackground": true,
            "ticks": "",
            "zerolinecolor": "white"
           },
           "zaxis": {
            "backgroundcolor": "#E5ECF6",
            "gridcolor": "white",
            "gridwidth": 2,
            "linecolor": "white",
            "showbackground": true,
            "ticks": "",
            "zerolinecolor": "white"
           }
          },
          "shapedefaults": {
           "line": {
            "color": "#2a3f5f"
           }
          },
          "ternary": {
           "aaxis": {
            "gridcolor": "white",
            "linecolor": "white",
            "ticks": ""
           },
           "baxis": {
            "gridcolor": "white",
            "linecolor": "white",
            "ticks": ""
           },
           "bgcolor": "#E5ECF6",
           "caxis": {
            "gridcolor": "white",
            "linecolor": "white",
            "ticks": ""
           }
          },
          "title": {
           "x": 0.05
          },
          "xaxis": {
           "automargin": true,
           "gridcolor": "white",
           "linecolor": "white",
           "ticks": "",
           "title": {
            "standoff": 15
           },
           "zerolinecolor": "white",
           "zerolinewidth": 2
          },
          "yaxis": {
           "automargin": true,
           "gridcolor": "white",
           "linecolor": "white",
           "ticks": "",
           "title": {
            "standoff": 15
           },
           "zerolinecolor": "white",
           "zerolinewidth": 2
          }
         }
        },
        "xaxis": {
         "anchor": "y",
         "domain": [
          0,
          1
         ],
         "title": {
          "text": "Sex"
         }
        },
        "yaxis": {
         "anchor": "x",
         "domain": [
          0,
          1
         ],
         "title": {
          "text": "RestingBP"
         }
        }
       }
      },
      "text/html": [
       "<div>                            <div id=\"03aa641c-f40f-4fec-8735-eef723a77ccd\" class=\"plotly-graph-div\" style=\"height:525px; width:100%;\"></div>            <script type=\"text/javascript\">                require([\"plotly\"], function(Plotly) {                    window.PLOTLYENV=window.PLOTLYENV || {};                                    if (document.getElementById(\"03aa641c-f40f-4fec-8735-eef723a77ccd\")) {                    Plotly.newPlot(                        \"03aa641c-f40f-4fec-8735-eef723a77ccd\",                        [{\"alignmentgroup\":\"True\",\"hovertemplate\":\"Sex=%{x}<br>RestingBP=%{y}<extra></extra>\",\"legendgroup\":\"\",\"marker\":{\"color\":\"#636efa\"},\"name\":\"\",\"notched\":false,\"offsetgroup\":\"\",\"orientation\":\"v\",\"showlegend\":false,\"x\":[\"M\",\"F\",\"M\",\"F\",\"M\",\"M\",\"F\",\"M\",\"M\",\"F\",\"F\",\"M\",\"M\",\"M\",\"F\",\"F\",\"M\",\"F\",\"M\",\"M\",\"F\",\"M\",\"F\",\"M\",\"M\",\"M\",\"M\",\"M\",\"F\",\"M\",\"M\",\"M\",\"M\",\"M\",\"F\",\"M\",\"M\",\"F\",\"F\",\"F\",\"F\",\"F\",\"M\",\"M\",\"M\",\"M\",\"M\",\"M\",\"M\",\"M\",\"M\",\"F\",\"M\",\"F\",\"F\",\"F\",\"M\",\"M\",\"M\",\"M\",\"M\",\"F\",\"M\",\"M\",\"F\",\"F\",\"F\",\"M\",\"M\",\"M\",\"M\",\"M\",\"M\",\"F\",\"M\",\"M\",\"M\",\"F\",\"M\",\"M\",\"M\",\"M\",\"M\",\"M\",\"M\",\"M\",\"M\",\"F\",\"M\",\"M\",\"F\",\"M\",\"F\",\"M\",\"F\",\"M\",\"M\",\"M\",\"M\",\"M\",\"M\",\"M\",\"F\",\"M\",\"M\",\"M\",\"F\",\"M\",\"M\",\"M\",\"F\",\"M\",\"M\",\"M\",\"F\",\"F\",\"M\",\"F\",\"F\",\"M\",\"F\",\"F\",\"M\",\"F\",\"M\",\"M\",\"F\",\"F\",\"F\",\"M\",\"M\",\"M\",\"M\",\"M\",\"F\",\"M\",\"F\",\"M\",\"M\",\"M\",\"M\",\"M\",\"M\",\"M\",\"F\",\"M\",\"M\",\"F\",\"M\",\"M\",\"M\",\"M\",\"M\",\"M\",\"M\",\"M\",\"M\",\"M\",\"M\",\"M\",\"M\",\"M\",\"M\",\"M\",\"F\",\"M\",\"M\",\"M\",\"M\",\"M\",\"M\",\"M\",\"M\",\"M\",\"M\",\"M\",\"M\",\"M\",\"M\",\"F\",\"M\",\"M\",\"M\",\"M\",\"F\",\"M\",\"M\",\"M\",\"F\",\"M\",\"M\",\"M\",\"M\",\"M\",\"F\",\"F\",\"M\",\"M\",\"M\",\"F\",\"M\",\"M\",\"M\",\"F\",\"M\",\"M\",\"M\",\"M\",\"M\",\"M\",\"M\",\"F\",\"M\",\"F\",\"M\",\"F\",\"M\",\"M\",\"M\",\"M\",\"M\",\"F\",\"F\",\"M\",\"M\",\"M\",\"M\",\"M\",\"M\",\"F\",\"M\",\"M\",\"F\",\"M\",\"F\",\"M\",\"M\",\"M\",\"M\",\"M\",\"M\",\"M\",\"M\",\"F\",\"M\",\"M\",\"M\",\"M\",\"M\",\"M\",\"M\",\"M\",\"M\",\"M\",\"M\",\"F\",\"F\",\"M\",\"F\",\"F\",\"M\",\"F\",\"M\",\"M\",\"M\",\"M\",\"M\",\"M\",\"M\",\"F\",\"M\",\"F\",\"M\",\"M\",\"F\",\"M\",\"M\",\"M\",\"F\",\"F\",\"M\",\"M\",\"F\",\"F\",\"M\",\"F\",\"M\",\"M\",\"F\",\"M\",\"M\",\"F\",\"M\",\"M\",\"M\",\"M\",\"M\",\"M\",\"M\",\"M\",\"M\",\"M\",\"M\",\"F\",\"M\",\"F\",\"M\",\"M\",\"M\",\"M\",\"M\",\"M\",\"M\",\"M\",\"M\",\"M\",\"M\",\"M\",\"M\",\"M\",\"M\",\"M\",\"F\",\"M\",\"M\",\"M\",\"M\",\"M\",\"M\",\"M\",\"M\",\"M\",\"M\",\"M\",\"M\",\"M\",\"M\",\"M\",\"M\",\"F\",\"M\",\"M\",\"M\",\"M\",\"M\",\"M\",\"M\",\"M\",\"M\",\"M\",\"M\",\"M\",\"M\",\"M\",\"M\",\"M\",\"M\",\"M\",\"M\",\"M\",\"M\",\"M\",\"M\",\"M\",\"M\",\"F\",\"M\",\"M\",\"M\",\"M\",\"M\",\"M\",\"M\",\"M\",\"M\",\"F\",\"M\",\"M\",\"M\",\"M\",\"M\",\"M\",\"M\",\"F\",\"M\",\"M\",\"M\",\"M\",\"M\",\"M\",\"M\",\"M\",\"M\",\"M\",\"M\",\"M\",\"F\",\"M\",\"M\",\"M\",\"F\",\"M\",\"M\",\"M\",\"M\",\"M\",\"M\",\"M\",\"M\",\"M\",\"M\",\"M\",\"M\",\"M\",\"M\",\"F\",\"M\",\"M\",\"M\",\"M\",\"M\",\"M\",\"M\",\"M\",\"M\",\"M\",\"M\",\"M\",\"M\",\"M\",\"M\",\"M\",\"M\",\"M\",\"M\",\"M\",\"M\",\"M\",\"M\",\"M\",\"M\",\"M\",\"M\",\"M\",\"M\",\"M\",\"M\",\"M\",\"M\",\"M\",\"M\",\"M\",\"M\",\"M\",\"M\",\"M\",\"M\",\"M\",\"M\",\"M\",\"M\",\"M\",\"M\",\"M\",\"M\",\"M\",\"M\",\"F\",\"M\",\"M\",\"M\",\"M\",\"M\",\"M\",\"M\",\"M\",\"M\",\"M\",\"M\",\"M\",\"M\",\"M\",\"M\",\"M\",\"M\",\"M\",\"M\",\"M\",\"M\",\"M\",\"M\",\"M\",\"M\",\"M\",\"M\",\"F\",\"M\",\"M\",\"M\",\"M\",\"M\",\"M\",\"M\",\"M\",\"M\",\"M\",\"M\",\"M\",\"M\",\"M\",\"M\",\"M\",\"M\",\"M\",\"M\",\"M\",\"M\",\"M\",\"M\",\"M\",\"M\",\"M\",\"M\",\"M\",\"M\",\"M\",\"M\",\"M\",\"M\",\"M\",\"M\",\"M\",\"M\",\"M\",\"M\",\"M\",\"M\",\"M\",\"M\",\"M\",\"M\",\"M\",\"F\",\"M\",\"F\",\"M\",\"M\",\"M\",\"M\",\"M\",\"M\",\"M\",\"M\",\"M\",\"M\",\"M\",\"M\",\"M\",\"M\",\"M\",\"M\",\"M\",\"M\",\"M\",\"M\",\"M\",\"M\",\"M\",\"M\",\"M\",\"M\",\"M\",\"M\",\"M\",\"M\",\"M\",\"M\",\"M\",\"M\",\"M\",\"M\",\"M\",\"M\",\"M\",\"M\",\"M\",\"M\",\"M\",\"M\",\"M\",\"M\",\"M\",\"M\",\"M\",\"M\",\"M\",\"M\",\"M\",\"M\",\"M\",\"M\",\"M\",\"M\",\"M\",\"M\",\"F\",\"M\",\"M\",\"M\",\"M\",\"F\",\"M\",\"M\",\"M\",\"M\",\"M\",\"F\",\"M\",\"M\",\"F\",\"M\",\"M\",\"M\",\"M\",\"F\",\"M\",\"M\",\"M\",\"M\",\"F\",\"F\",\"M\",\"M\",\"M\",\"M\",\"M\",\"M\",\"M\",\"M\",\"F\",\"F\",\"F\",\"F\",\"M\",\"F\",\"M\",\"M\",\"F\",\"M\",\"M\",\"M\",\"M\",\"M\",\"M\",\"M\",\"M\",\"F\",\"M\",\"M\",\"M\",\"M\",\"M\",\"M\",\"M\",\"F\",\"M\",\"M\",\"F\",\"F\",\"F\",\"F\",\"M\",\"F\",\"F\",\"M\",\"M\",\"F\",\"M\",\"F\",\"M\",\"M\",\"M\",\"F\",\"F\",\"M\",\"M\",\"F\",\"M\",\"F\",\"F\",\"M\",\"M\",\"F\",\"F\",\"M\",\"M\",\"M\",\"M\",\"M\",\"M\",\"M\",\"M\",\"M\",\"F\",\"M\",\"M\",\"F\",\"M\",\"M\",\"M\",\"M\",\"M\",\"M\",\"F\",\"F\",\"F\",\"M\",\"F\",\"M\",\"M\",\"M\",\"M\",\"F\",\"M\",\"F\",\"F\",\"M\",\"F\",\"F\",\"M\",\"F\",\"M\",\"F\",\"F\",\"M\",\"M\",\"M\",\"M\",\"F\",\"M\",\"F\",\"M\",\"F\",\"M\",\"M\",\"F\",\"M\",\"M\",\"M\",\"M\",\"F\",\"F\",\"M\",\"F\",\"M\",\"M\",\"M\",\"M\",\"M\",\"M\",\"M\",\"M\",\"M\",\"M\",\"F\",\"M\",\"F\",\"F\",\"F\",\"F\",\"F\",\"M\",\"M\",\"M\",\"F\",\"M\",\"F\",\"M\",\"M\",\"M\",\"F\",\"F\",\"M\",\"F\",\"M\",\"M\",\"M\",\"M\",\"F\",\"M\",\"F\",\"M\",\"M\",\"M\",\"M\",\"M\",\"F\",\"M\",\"F\",\"M\",\"M\",\"M\",\"M\",\"F\",\"M\",\"M\",\"M\",\"M\",\"M\",\"M\",\"F\",\"F\",\"F\",\"F\",\"M\",\"M\",\"M\",\"M\",\"M\",\"M\",\"M\",\"F\",\"M\",\"M\",\"M\",\"M\",\"M\",\"F\",\"M\",\"M\",\"F\",\"F\",\"M\",\"M\",\"M\",\"M\",\"M\",\"M\",\"M\",\"F\",\"M\",\"F\",\"F\",\"F\",\"M\",\"F\",\"M\",\"M\",\"M\",\"M\",\"F\",\"F\",\"M\",\"M\",\"M\",\"M\",\"M\",\"F\",\"F\",\"F\",\"M\",\"M\",\"F\",\"M\",\"M\",\"M\",\"M\",\"M\",\"M\",\"M\",\"F\",\"M\",\"M\",\"M\",\"M\",\"F\",\"M\",\"M\",\"M\",\"M\",\"M\",\"M\",\"F\",\"M\",\"M\",\"F\",\"M\",\"M\",\"M\",\"M\",\"M\",\"F\",\"F\",\"M\",\"F\",\"M\",\"M\",\"F\",\"M\",\"M\",\"M\",\"F\",\"M\",\"M\",\"M\",\"M\",\"F\",\"M\",\"M\",\"F\",\"M\",\"M\",\"F\",\"M\",\"M\",\"M\",\"F\",\"M\"],\"x0\":\" \",\"xaxis\":\"x\",\"y\":[140,160,130,138,150,120,130,110,140,120,130,136,120,140,115,120,110,120,100,120,100,120,124,150,130,130,124,120,113,125,145,130,125,130,150,125,140,110,120,150,150,130,150,140,120,130,120,140,112,110,130,120,140,130,130,160,120,130,150,112,100,150,140,120,110,120,132,110,160,150,140,130,120,120,140,150,118,140,140,130,110,120,150,160,150,140,170,140,120,140,110,130,120,160,110,130,142,160,120,125,130,130,150,120,118,140,120,150,140,190,130,150,140,140,130,100,120,130,120,140,135,125,110,180,130,120,130,108,120,120,145,110,170,150,130,115,120,120,140,150,160,140,160,140,120,110,120,120,120,130,130,100,130,120,120,155,110,140,130,160,140,128,160,120,140,140,140,140,135,140,120,140,140,140,140,140,140,140,130,130,130,130,140,110,160,160,130,120,120,180,180,170,130,135,125,160,120,150,120,130,110,120,160,100,130,150,120,110,130,125,106,140,130,130,150,170,110,120,140,140,130,160,120,120,120,145,120,92,120,130,130,130,120,112,140,120,120,140,160,160,145,200,160,120,160,120,120,122,130,130,135,120,125,140,145,120,130,150,150,122,140,120,120,130,140,160,130,98,130,130,120,105,140,120,180,180,135,170,180,130,120,150,130,110,140,110,140,120,133,120,110,140,130,115,95,105,145,110,110,110,160,140,125,120,95,120,115,130,115,95,155,125,125,115,80,145,105,140,130,145,125,100,105,115,100,105,110,125,95,130,115,115,100,95,130,120,160,150,140,95,100,110,110,130,120,135,120,115,137,110,120,140,120,130,120,145,115,120,115,105,160,160,155,120,120,200,150,135,140,150,135,150,185,135,125,160,155,160,140,120,160,115,115,110,120,150,145,130,140,160,140,115,130,150,160,135,140,170,165,200,160,130,145,135,110,120,140,115,110,160,150,180,125,125,130,155,140,130,132,142,110,120,150,180,120,160,126,140,110,133,128,120,170,110,126,152,116,120,130,138,128,130,128,130,120,136,130,124,160,0,122,144,140,120,136,154,120,125,134,104,139,136,122,128,131,134,120,132,152,124,126,138,154,141,131,178,132,110,130,170,126,140,142,120,134,139,110,140,140,136,120,170,130,137,142,142,132,146,160,135,136,130,140,132,158,136,136,106,120,110,136,160,123,112,122,130,150,150,102,96,130,120,144,124,150,130,144,139,131,143,133,143,116,110,125,130,133,150,130,110,138,104,138,170,140,132,132,142,112,139,172,120,144,145,155,150,160,137,137,134,133,132,140,135,144,141,150,130,110,158,128,140,150,160,142,137,139,146,156,145,131,140,122,142,141,180,124,118,140,140,136,100,190,130,160,130,122,133,120,130,130,140,120,155,134,114,160,144,158,134,127,135,122,140,120,130,115,124,128,120,120,130,110,140,150,135,142,140,134,128,112,140,140,110,140,120,130,115,112,132,130,138,120,112,110,128,160,120,170,144,130,140,160,130,122,152,124,130,101,126,140,118,110,160,150,136,128,140,140,130,105,138,120,174,120,150,130,120,150,145,150,140,136,118,108,120,120,156,140,106,142,104,94,120,120,146,120,150,130,110,148,128,178,126,150,140,130,124,110,125,110,120,100,140,120,108,120,130,165,130,124,100,150,140,112,180,110,158,135,120,134,120,200,150,130,120,122,152,160,125,160,120,136,134,117,108,112,140,120,150,142,152,125,118,132,145,138,140,125,192,123,112,110,132,112,112,120,108,130,130,105,140,128,120,178,120,150,130,128,110,180,110,130,138,138,160,140,100,120,118,138,140,150,125,129,120,134,110,102,130,130,132,108,140,160,140,145,108,126,124,135,100,110,140,125,118,125,125,140,160,152,102,105,125,130,170,125,122,128,130,130,135,94,120,120,110,135,150,130,138,135,130,132,150,118,145,118,115,128,130,160,138,120,138,120,180,140,130,140,140,130,110,155,140,145,120,130,112,110,150,160,150,132,140,150,120,130,120,130,110,172,120,140,140,160,128,138,132,128,134,170,146,138,154,130,110,130,128,122,148,114,170,125,130,120,152,132,120,140,124,120,164,140,110,144,130,130,138],\"y0\":\" \",\"yaxis\":\"y\",\"type\":\"box\"}],                        {\"template\":{\"data\":{\"bar\":[{\"error_x\":{\"color\":\"#2a3f5f\"},\"error_y\":{\"color\":\"#2a3f5f\"},\"marker\":{\"line\":{\"color\":\"#E5ECF6\",\"width\":0.5},\"pattern\":{\"fillmode\":\"overlay\",\"size\":10,\"solidity\":0.2}},\"type\":\"bar\"}],\"barpolar\":[{\"marker\":{\"line\":{\"color\":\"#E5ECF6\",\"width\":0.5},\"pattern\":{\"fillmode\":\"overlay\",\"size\":10,\"solidity\":0.2}},\"type\":\"barpolar\"}],\"carpet\":[{\"aaxis\":{\"endlinecolor\":\"#2a3f5f\",\"gridcolor\":\"white\",\"linecolor\":\"white\",\"minorgridcolor\":\"white\",\"startlinecolor\":\"#2a3f5f\"},\"baxis\":{\"endlinecolor\":\"#2a3f5f\",\"gridcolor\":\"white\",\"linecolor\":\"white\",\"minorgridcolor\":\"white\",\"startlinecolor\":\"#2a3f5f\"},\"type\":\"carpet\"}],\"choropleth\":[{\"colorbar\":{\"outlinewidth\":0,\"ticks\":\"\"},\"type\":\"choropleth\"}],\"contour\":[{\"colorbar\":{\"outlinewidth\":0,\"ticks\":\"\"},\"colorscale\":[[0.0,\"#0d0887\"],[0.1111111111111111,\"#46039f\"],[0.2222222222222222,\"#7201a8\"],[0.3333333333333333,\"#9c179e\"],[0.4444444444444444,\"#bd3786\"],[0.5555555555555556,\"#d8576b\"],[0.6666666666666666,\"#ed7953\"],[0.7777777777777778,\"#fb9f3a\"],[0.8888888888888888,\"#fdca26\"],[1.0,\"#f0f921\"]],\"type\":\"contour\"}],\"contourcarpet\":[{\"colorbar\":{\"outlinewidth\":0,\"ticks\":\"\"},\"type\":\"contourcarpet\"}],\"heatmap\":[{\"colorbar\":{\"outlinewidth\":0,\"ticks\":\"\"},\"colorscale\":[[0.0,\"#0d0887\"],[0.1111111111111111,\"#46039f\"],[0.2222222222222222,\"#7201a8\"],[0.3333333333333333,\"#9c179e\"],[0.4444444444444444,\"#bd3786\"],[0.5555555555555556,\"#d8576b\"],[0.6666666666666666,\"#ed7953\"],[0.7777777777777778,\"#fb9f3a\"],[0.8888888888888888,\"#fdca26\"],[1.0,\"#f0f921\"]],\"type\":\"heatmap\"}],\"heatmapgl\":[{\"colorbar\":{\"outlinewidth\":0,\"ticks\":\"\"},\"colorscale\":[[0.0,\"#0d0887\"],[0.1111111111111111,\"#46039f\"],[0.2222222222222222,\"#7201a8\"],[0.3333333333333333,\"#9c179e\"],[0.4444444444444444,\"#bd3786\"],[0.5555555555555556,\"#d8576b\"],[0.6666666666666666,\"#ed7953\"],[0.7777777777777778,\"#fb9f3a\"],[0.8888888888888888,\"#fdca26\"],[1.0,\"#f0f921\"]],\"type\":\"heatmapgl\"}],\"histogram\":[{\"marker\":{\"pattern\":{\"fillmode\":\"overlay\",\"size\":10,\"solidity\":0.2}},\"type\":\"histogram\"}],\"histogram2d\":[{\"colorbar\":{\"outlinewidth\":0,\"ticks\":\"\"},\"colorscale\":[[0.0,\"#0d0887\"],[0.1111111111111111,\"#46039f\"],[0.2222222222222222,\"#7201a8\"],[0.3333333333333333,\"#9c179e\"],[0.4444444444444444,\"#bd3786\"],[0.5555555555555556,\"#d8576b\"],[0.6666666666666666,\"#ed7953\"],[0.7777777777777778,\"#fb9f3a\"],[0.8888888888888888,\"#fdca26\"],[1.0,\"#f0f921\"]],\"type\":\"histogram2d\"}],\"histogram2dcontour\":[{\"colorbar\":{\"outlinewidth\":0,\"ticks\":\"\"},\"colorscale\":[[0.0,\"#0d0887\"],[0.1111111111111111,\"#46039f\"],[0.2222222222222222,\"#7201a8\"],[0.3333333333333333,\"#9c179e\"],[0.4444444444444444,\"#bd3786\"],[0.5555555555555556,\"#d8576b\"],[0.6666666666666666,\"#ed7953\"],[0.7777777777777778,\"#fb9f3a\"],[0.8888888888888888,\"#fdca26\"],[1.0,\"#f0f921\"]],\"type\":\"histogram2dcontour\"}],\"mesh3d\":[{\"colorbar\":{\"outlinewidth\":0,\"ticks\":\"\"},\"type\":\"mesh3d\"}],\"parcoords\":[{\"line\":{\"colorbar\":{\"outlinewidth\":0,\"ticks\":\"\"}},\"type\":\"parcoords\"}],\"pie\":[{\"automargin\":true,\"type\":\"pie\"}],\"scatter\":[{\"marker\":{\"colorbar\":{\"outlinewidth\":0,\"ticks\":\"\"}},\"type\":\"scatter\"}],\"scatter3d\":[{\"line\":{\"colorbar\":{\"outlinewidth\":0,\"ticks\":\"\"}},\"marker\":{\"colorbar\":{\"outlinewidth\":0,\"ticks\":\"\"}},\"type\":\"scatter3d\"}],\"scattercarpet\":[{\"marker\":{\"colorbar\":{\"outlinewidth\":0,\"ticks\":\"\"}},\"type\":\"scattercarpet\"}],\"scattergeo\":[{\"marker\":{\"colorbar\":{\"outlinewidth\":0,\"ticks\":\"\"}},\"type\":\"scattergeo\"}],\"scattergl\":[{\"marker\":{\"colorbar\":{\"outlinewidth\":0,\"ticks\":\"\"}},\"type\":\"scattergl\"}],\"scattermapbox\":[{\"marker\":{\"colorbar\":{\"outlinewidth\":0,\"ticks\":\"\"}},\"type\":\"scattermapbox\"}],\"scatterpolar\":[{\"marker\":{\"colorbar\":{\"outlinewidth\":0,\"ticks\":\"\"}},\"type\":\"scatterpolar\"}],\"scatterpolargl\":[{\"marker\":{\"colorbar\":{\"outlinewidth\":0,\"ticks\":\"\"}},\"type\":\"scatterpolargl\"}],\"scatterternary\":[{\"marker\":{\"colorbar\":{\"outlinewidth\":0,\"ticks\":\"\"}},\"type\":\"scatterternary\"}],\"surface\":[{\"colorbar\":{\"outlinewidth\":0,\"ticks\":\"\"},\"colorscale\":[[0.0,\"#0d0887\"],[0.1111111111111111,\"#46039f\"],[0.2222222222222222,\"#7201a8\"],[0.3333333333333333,\"#9c179e\"],[0.4444444444444444,\"#bd3786\"],[0.5555555555555556,\"#d8576b\"],[0.6666666666666666,\"#ed7953\"],[0.7777777777777778,\"#fb9f3a\"],[0.8888888888888888,\"#fdca26\"],[1.0,\"#f0f921\"]],\"type\":\"surface\"}],\"table\":[{\"cells\":{\"fill\":{\"color\":\"#EBF0F8\"},\"line\":{\"color\":\"white\"}},\"header\":{\"fill\":{\"color\":\"#C8D4E3\"},\"line\":{\"color\":\"white\"}},\"type\":\"table\"}]},\"layout\":{\"annotationdefaults\":{\"arrowcolor\":\"#2a3f5f\",\"arrowhead\":0,\"arrowwidth\":1},\"autotypenumbers\":\"strict\",\"coloraxis\":{\"colorbar\":{\"outlinewidth\":0,\"ticks\":\"\"}},\"colorscale\":{\"diverging\":[[0,\"#8e0152\"],[0.1,\"#c51b7d\"],[0.2,\"#de77ae\"],[0.3,\"#f1b6da\"],[0.4,\"#fde0ef\"],[0.5,\"#f7f7f7\"],[0.6,\"#e6f5d0\"],[0.7,\"#b8e186\"],[0.8,\"#7fbc41\"],[0.9,\"#4d9221\"],[1,\"#276419\"]],\"sequential\":[[0.0,\"#0d0887\"],[0.1111111111111111,\"#46039f\"],[0.2222222222222222,\"#7201a8\"],[0.3333333333333333,\"#9c179e\"],[0.4444444444444444,\"#bd3786\"],[0.5555555555555556,\"#d8576b\"],[0.6666666666666666,\"#ed7953\"],[0.7777777777777778,\"#fb9f3a\"],[0.8888888888888888,\"#fdca26\"],[1.0,\"#f0f921\"]],\"sequentialminus\":[[0.0,\"#0d0887\"],[0.1111111111111111,\"#46039f\"],[0.2222222222222222,\"#7201a8\"],[0.3333333333333333,\"#9c179e\"],[0.4444444444444444,\"#bd3786\"],[0.5555555555555556,\"#d8576b\"],[0.6666666666666666,\"#ed7953\"],[0.7777777777777778,\"#fb9f3a\"],[0.8888888888888888,\"#fdca26\"],[1.0,\"#f0f921\"]]},\"colorway\":[\"#636efa\",\"#EF553B\",\"#00cc96\",\"#ab63fa\",\"#FFA15A\",\"#19d3f3\",\"#FF6692\",\"#B6E880\",\"#FF97FF\",\"#FECB52\"],\"font\":{\"color\":\"#2a3f5f\"},\"geo\":{\"bgcolor\":\"white\",\"lakecolor\":\"white\",\"landcolor\":\"#E5ECF6\",\"showlakes\":true,\"showland\":true,\"subunitcolor\":\"white\"},\"hoverlabel\":{\"align\":\"left\"},\"hovermode\":\"closest\",\"mapbox\":{\"style\":\"light\"},\"paper_bgcolor\":\"white\",\"plot_bgcolor\":\"#E5ECF6\",\"polar\":{\"angularaxis\":{\"gridcolor\":\"white\",\"linecolor\":\"white\",\"ticks\":\"\"},\"bgcolor\":\"#E5ECF6\",\"radialaxis\":{\"gridcolor\":\"white\",\"linecolor\":\"white\",\"ticks\":\"\"}},\"scene\":{\"xaxis\":{\"backgroundcolor\":\"#E5ECF6\",\"gridcolor\":\"white\",\"gridwidth\":2,\"linecolor\":\"white\",\"showbackground\":true,\"ticks\":\"\",\"zerolinecolor\":\"white\"},\"yaxis\":{\"backgroundcolor\":\"#E5ECF6\",\"gridcolor\":\"white\",\"gridwidth\":2,\"linecolor\":\"white\",\"showbackground\":true,\"ticks\":\"\",\"zerolinecolor\":\"white\"},\"zaxis\":{\"backgroundcolor\":\"#E5ECF6\",\"gridcolor\":\"white\",\"gridwidth\":2,\"linecolor\":\"white\",\"showbackground\":true,\"ticks\":\"\",\"zerolinecolor\":\"white\"}},\"shapedefaults\":{\"line\":{\"color\":\"#2a3f5f\"}},\"ternary\":{\"aaxis\":{\"gridcolor\":\"white\",\"linecolor\":\"white\",\"ticks\":\"\"},\"baxis\":{\"gridcolor\":\"white\",\"linecolor\":\"white\",\"ticks\":\"\"},\"bgcolor\":\"#E5ECF6\",\"caxis\":{\"gridcolor\":\"white\",\"linecolor\":\"white\",\"ticks\":\"\"}},\"title\":{\"x\":0.05},\"xaxis\":{\"automargin\":true,\"gridcolor\":\"white\",\"linecolor\":\"white\",\"ticks\":\"\",\"title\":{\"standoff\":15},\"zerolinecolor\":\"white\",\"zerolinewidth\":2},\"yaxis\":{\"automargin\":true,\"gridcolor\":\"white\",\"linecolor\":\"white\",\"ticks\":\"\",\"title\":{\"standoff\":15},\"zerolinecolor\":\"white\",\"zerolinewidth\":2}}},\"xaxis\":{\"anchor\":\"y\",\"domain\":[0.0,1.0],\"title\":{\"text\":\"Sex\"}},\"yaxis\":{\"anchor\":\"x\",\"domain\":[0.0,1.0],\"title\":{\"text\":\"RestingBP\"}},\"legend\":{\"tracegroupgap\":0},\"margin\":{\"t\":60},\"boxmode\":\"group\"},                        {\"responsive\": true}                    ).then(function(){\n",
       "                            \n",
       "var gd = document.getElementById('03aa641c-f40f-4fec-8735-eef723a77ccd');\n",
       "var x = new MutationObserver(function (mutations, observer) {{\n",
       "        var display = window.getComputedStyle(gd).display;\n",
       "        if (!display || display === 'none') {{\n",
       "            console.log([gd, 'removed!']);\n",
       "            Plotly.purge(gd);\n",
       "            observer.disconnect();\n",
       "        }}\n",
       "}});\n",
       "\n",
       "// Listen for the removal of the full notebook cells\n",
       "var notebookContainer = gd.closest('#notebook-container');\n",
       "if (notebookContainer) {{\n",
       "    x.observe(notebookContainer, {childList: true});\n",
       "}}\n",
       "\n",
       "// Listen for the clearing of the current output cell\n",
       "var outputEl = gd.closest('.output');\n",
       "if (outputEl) {{\n",
       "    x.observe(outputEl, {childList: true});\n",
       "}}\n",
       "\n",
       "                        })                };                });            </script>        </div>"
      ]
     },
     "metadata": {},
     "output_type": "display_data"
    }
   ],
   "source": [
    "px.box(data,x = \"Sex\", y = \"RestingBP\")"
   ]
  },
  {
   "cell_type": "markdown",
   "metadata": {},
   "source": [
    "### Creating a test and train set "
   ]
  },
  {
   "cell_type": "code",
   "execution_count": 183,
   "metadata": {},
   "outputs": [],
   "source": [
    "from sklearn.preprocessing import LabelEncoder\n",
    "\n",
    "encode = LabelEncoder()"
   ]
  },
  {
   "cell_type": "code",
   "execution_count": 184,
   "metadata": {},
   "outputs": [
    {
     "data": {
      "text/html": [
       "<div>\n",
       "<style scoped>\n",
       "    .dataframe tbody tr th:only-of-type {\n",
       "        vertical-align: middle;\n",
       "    }\n",
       "\n",
       "    .dataframe tbody tr th {\n",
       "        vertical-align: top;\n",
       "    }\n",
       "\n",
       "    .dataframe thead th {\n",
       "        text-align: right;\n",
       "    }\n",
       "</style>\n",
       "<table border=\"1\" class=\"dataframe\">\n",
       "  <thead>\n",
       "    <tr style=\"text-align: right;\">\n",
       "      <th></th>\n",
       "      <th>Age</th>\n",
       "      <th>Sex</th>\n",
       "      <th>ChestPainType</th>\n",
       "      <th>RestingBP</th>\n",
       "      <th>Cholesterol</th>\n",
       "      <th>FastingBS</th>\n",
       "      <th>RestingECG</th>\n",
       "      <th>MaxHR</th>\n",
       "      <th>ExerciseAngina</th>\n",
       "      <th>Oldpeak</th>\n",
       "      <th>ST_Slope</th>\n",
       "      <th>HeartDisease</th>\n",
       "    </tr>\n",
       "  </thead>\n",
       "  <tbody>\n",
       "    <tr>\n",
       "      <th>0</th>\n",
       "      <td>40</td>\n",
       "      <td>M</td>\n",
       "      <td>ATA</td>\n",
       "      <td>140</td>\n",
       "      <td>289</td>\n",
       "      <td>0</td>\n",
       "      <td>Normal</td>\n",
       "      <td>172</td>\n",
       "      <td>N</td>\n",
       "      <td>0.0</td>\n",
       "      <td>Up</td>\n",
       "      <td>0</td>\n",
       "    </tr>\n",
       "    <tr>\n",
       "      <th>1</th>\n",
       "      <td>49</td>\n",
       "      <td>F</td>\n",
       "      <td>NAP</td>\n",
       "      <td>160</td>\n",
       "      <td>180</td>\n",
       "      <td>0</td>\n",
       "      <td>Normal</td>\n",
       "      <td>156</td>\n",
       "      <td>N</td>\n",
       "      <td>1.0</td>\n",
       "      <td>Flat</td>\n",
       "      <td>1</td>\n",
       "    </tr>\n",
       "  </tbody>\n",
       "</table>\n",
       "</div>"
      ],
      "text/plain": [
       "   Age Sex ChestPainType  RestingBP  Cholesterol  FastingBS RestingECG  MaxHR  \\\n",
       "0   40   M           ATA        140          289          0     Normal    172   \n",
       "1   49   F           NAP        160          180          0     Normal    156   \n",
       "\n",
       "  ExerciseAngina  Oldpeak ST_Slope  HeartDisease  \n",
       "0              N      0.0       Up             0  \n",
       "1              N      1.0     Flat             1  "
      ]
     },
     "execution_count": 184,
     "metadata": {},
     "output_type": "execute_result"
    }
   ],
   "source": [
    "data.head(2)"
   ]
  },
  {
   "cell_type": "code",
   "execution_count": 185,
   "metadata": {},
   "outputs": [
    {
     "data": {
      "text/html": [
       "<div>\n",
       "<style scoped>\n",
       "    .dataframe tbody tr th:only-of-type {\n",
       "        vertical-align: middle;\n",
       "    }\n",
       "\n",
       "    .dataframe tbody tr th {\n",
       "        vertical-align: top;\n",
       "    }\n",
       "\n",
       "    .dataframe thead th {\n",
       "        text-align: right;\n",
       "    }\n",
       "</style>\n",
       "<table border=\"1\" class=\"dataframe\">\n",
       "  <thead>\n",
       "    <tr style=\"text-align: right;\">\n",
       "      <th></th>\n",
       "      <th>Age</th>\n",
       "      <th>Sex</th>\n",
       "      <th>ChestPainType</th>\n",
       "      <th>RestingBP</th>\n",
       "      <th>Cholesterol</th>\n",
       "      <th>FastingBS</th>\n",
       "      <th>RestingECG</th>\n",
       "      <th>MaxHR</th>\n",
       "      <th>ExerciseAngina</th>\n",
       "      <th>Oldpeak</th>\n",
       "      <th>ST_Slope</th>\n",
       "      <th>HeartDisease</th>\n",
       "    </tr>\n",
       "  </thead>\n",
       "  <tbody>\n",
       "    <tr>\n",
       "      <th>0</th>\n",
       "      <td>40</td>\n",
       "      <td>1</td>\n",
       "      <td>1</td>\n",
       "      <td>140</td>\n",
       "      <td>289</td>\n",
       "      <td>0</td>\n",
       "      <td>1</td>\n",
       "      <td>172</td>\n",
       "      <td>0</td>\n",
       "      <td>0.0</td>\n",
       "      <td>2</td>\n",
       "      <td>0</td>\n",
       "    </tr>\n",
       "    <tr>\n",
       "      <th>1</th>\n",
       "      <td>49</td>\n",
       "      <td>0</td>\n",
       "      <td>2</td>\n",
       "      <td>160</td>\n",
       "      <td>180</td>\n",
       "      <td>0</td>\n",
       "      <td>1</td>\n",
       "      <td>156</td>\n",
       "      <td>0</td>\n",
       "      <td>1.0</td>\n",
       "      <td>1</td>\n",
       "      <td>1</td>\n",
       "    </tr>\n",
       "    <tr>\n",
       "      <th>2</th>\n",
       "      <td>37</td>\n",
       "      <td>1</td>\n",
       "      <td>1</td>\n",
       "      <td>130</td>\n",
       "      <td>283</td>\n",
       "      <td>0</td>\n",
       "      <td>2</td>\n",
       "      <td>98</td>\n",
       "      <td>0</td>\n",
       "      <td>0.0</td>\n",
       "      <td>2</td>\n",
       "      <td>0</td>\n",
       "    </tr>\n",
       "  </tbody>\n",
       "</table>\n",
       "</div>"
      ],
      "text/plain": [
       "   Age  Sex  ChestPainType  RestingBP  Cholesterol  FastingBS  RestingECG  \\\n",
       "0   40    1              1        140          289          0           1   \n",
       "1   49    0              2        160          180          0           1   \n",
       "2   37    1              1        130          283          0           2   \n",
       "\n",
       "   MaxHR  ExerciseAngina  Oldpeak  ST_Slope  HeartDisease  \n",
       "0    172               0      0.0         2             0  \n",
       "1    156               0      1.0         1             1  \n",
       "2     98               0      0.0         2             0  "
      ]
     },
     "execution_count": 185,
     "metadata": {},
     "output_type": "execute_result"
    }
   ],
   "source": [
    "cat = ['Sex','ChestPainType','ExerciseAngina','ST_Slope','RestingECG']\n",
    "for i in cat:\n",
    "    data[i] = encode.fit_transform(data[i])\n",
    "data.head(3)"
   ]
  },
  {
   "cell_type": "code",
   "execution_count": 186,
   "metadata": {},
   "outputs": [
    {
     "name": "stdout",
     "output_type": "stream",
     "text": [
      "     Age  Sex  ChestPainType  RestingBP  Cholesterol  FastingBS  RestingECG  \\\n",
      "0     40    1              1        140          289          0           1   \n",
      "1     49    0              2        160          180          0           1   \n",
      "2     37    1              1        130          283          0           2   \n",
      "3     48    0              0        138          214          0           1   \n",
      "4     54    1              2        150          195          0           1   \n",
      "..   ...  ...            ...        ...          ...        ...         ...   \n",
      "913   45    1              3        110          264          0           1   \n",
      "914   68    1              0        144          193          1           1   \n",
      "915   57    1              0        130          131          0           1   \n",
      "916   57    0              1        130          236          0           0   \n",
      "917   38    1              2        138          175          0           1   \n",
      "\n",
      "     MaxHR  ExerciseAngina  Oldpeak  ST_Slope  \n",
      "0      172               0      0.0         2  \n",
      "1      156               0      1.0         1  \n",
      "2       98               0      0.0         2  \n",
      "3      108               1      1.5         1  \n",
      "4      122               0      0.0         2  \n",
      "..     ...             ...      ...       ...  \n",
      "913    132               0      1.2         1  \n",
      "914    141               0      3.4         1  \n",
      "915    115               1      1.2         1  \n",
      "916    174               0      0.0         1  \n",
      "917    173               0      0.0         2  \n",
      "\n",
      "[918 rows x 11 columns]\n",
      "0      0\n",
      "1      1\n",
      "2      0\n",
      "3      1\n",
      "4      0\n",
      "      ..\n",
      "913    1\n",
      "914    1\n",
      "915    1\n",
      "916    1\n",
      "917    0\n",
      "Name: HeartDisease, Length: 918, dtype: int64\n"
     ]
    }
   ],
   "source": [
    "x=data.iloc[:,:-1]\n",
    "print(x)\n",
    "y = data.iloc[:,-1]\n",
    "print (y)"
   ]
  },
  {
   "cell_type": "markdown",
   "metadata": {},
   "source": [
    "### Model building "
   ]
  },
  {
   "cell_type": "code",
   "execution_count": 187,
   "metadata": {},
   "outputs": [],
   "source": [
    "from sklearn.model_selection import train_test_split\n",
    "\n",
    "x_train,x_test,y_train,y_test = train_test_split(x,y,random_state=42)"
   ]
  },
  {
   "cell_type": "code",
   "execution_count": 188,
   "metadata": {},
   "outputs": [
    {
     "data": {
      "text/plain": [
       "(688, 11)"
      ]
     },
     "execution_count": 188,
     "metadata": {},
     "output_type": "execute_result"
    }
   ],
   "source": [
    "x_train.shape"
   ]
  },
  {
   "cell_type": "code",
   "execution_count": 189,
   "metadata": {},
   "outputs": [
    {
     "data": {
      "text/plain": [
       "(688,)"
      ]
     },
     "execution_count": 189,
     "metadata": {},
     "output_type": "execute_result"
    }
   ],
   "source": [
    "y_train.shape"
   ]
  },
  {
   "cell_type": "markdown",
   "metadata": {},
   "source": [
    "### Scaling the dataset "
   ]
  },
  {
   "cell_type": "code",
   "execution_count": 190,
   "metadata": {},
   "outputs": [],
   "source": [
    "from sklearn.preprocessing import StandardScaler\n",
    "\n",
    "scaler = StandardScaler()"
   ]
  },
  {
   "cell_type": "code",
   "execution_count": 191,
   "metadata": {},
   "outputs": [],
   "source": [
    "x_train = scaler.fit_transform(x_train)"
   ]
  },
  {
   "cell_type": "code",
   "execution_count": 192,
   "metadata": {},
   "outputs": [],
   "source": [
    "x_test = scaler.fit_transform(x_test)"
   ]
  },
  {
   "cell_type": "markdown",
   "metadata": {},
   "source": [
    "## 1.Logistic Regression"
   ]
  },
  {
   "cell_type": "code",
   "execution_count": 193,
   "metadata": {},
   "outputs": [
    {
     "data": {
      "text/plain": [
       "LogisticRegression()"
      ]
     },
     "execution_count": 193,
     "metadata": {},
     "output_type": "execute_result"
    }
   ],
   "source": [
    "from sklearn.linear_model import LogisticRegression\n",
    "lr_model = LogisticRegression()\n",
    "lr_model.fit(x_train, y_train)"
   ]
  },
  {
   "cell_type": "code",
   "execution_count": 194,
   "metadata": {},
   "outputs": [
    {
     "name": "stdout",
     "output_type": "stream",
     "text": [
      "              precision    recall  f1-score   support\n",
      "\n",
      "           0       0.82      0.87      0.84        98\n",
      "           1       0.90      0.86      0.88       132\n",
      "\n",
      "    accuracy                           0.86       230\n",
      "   macro avg       0.86      0.86      0.86       230\n",
      "weighted avg       0.86      0.86      0.86       230\n",
      "\n",
      "[[ 85  13]\n",
      " [ 19 113]]\n",
      "Training Score: 86.04651162790698\n",
      "The accuracy of the Logistic Regression Model is:  86.08695652173914 %\n"
     ]
    }
   ],
   "source": [
    "y_pred=lr_model.predict(x_test)\n",
    "from sklearn.metrics import accuracy_score, classification_report,confusion_matrix, mean_squared_error\n",
    "print(classification_report(y_test, y_pred))\n",
    "print(confusion_matrix(y_test, y_pred))\n",
    "print(\"Training Score:\", lr_model.score(x_train, y_train)*100)\n",
    "#Printing the accuracy of the model\n",
    "print(\"The accuracy of the Logistic Regression Model is: \", accuracy_score(y_test, y_pred)*100 , \"%\")\n",
    "lr_model_results=accuracy_score(y_test, y_pred)*100"
   ]
  },
  {
   "cell_type": "code",
   "execution_count": 195,
   "metadata": {},
   "outputs": [
    {
     "data": {
      "text/html": [
       "<div>\n",
       "<style scoped>\n",
       "    .dataframe tbody tr th:only-of-type {\n",
       "        vertical-align: middle;\n",
       "    }\n",
       "\n",
       "    .dataframe tbody tr th {\n",
       "        vertical-align: top;\n",
       "    }\n",
       "\n",
       "    .dataframe thead th {\n",
       "        text-align: right;\n",
       "    }\n",
       "</style>\n",
       "<table border=\"1\" class=\"dataframe\">\n",
       "  <thead>\n",
       "    <tr style=\"text-align: right;\">\n",
       "      <th></th>\n",
       "      <th>Actual</th>\n",
       "      <th>Predicted</th>\n",
       "    </tr>\n",
       "  </thead>\n",
       "  <tbody>\n",
       "    <tr>\n",
       "      <th>668</th>\n",
       "      <td>0</td>\n",
       "      <td>0</td>\n",
       "    </tr>\n",
       "    <tr>\n",
       "      <th>30</th>\n",
       "      <td>1</td>\n",
       "      <td>0</td>\n",
       "    </tr>\n",
       "    <tr>\n",
       "      <th>377</th>\n",
       "      <td>1</td>\n",
       "      <td>1</td>\n",
       "    </tr>\n",
       "    <tr>\n",
       "      <th>535</th>\n",
       "      <td>1</td>\n",
       "      <td>1</td>\n",
       "    </tr>\n",
       "    <tr>\n",
       "      <th>807</th>\n",
       "      <td>0</td>\n",
       "      <td>0</td>\n",
       "    </tr>\n",
       "    <tr>\n",
       "      <th>...</th>\n",
       "      <td>...</td>\n",
       "      <td>...</td>\n",
       "    </tr>\n",
       "    <tr>\n",
       "      <th>259</th>\n",
       "      <td>0</td>\n",
       "      <td>0</td>\n",
       "    </tr>\n",
       "    <tr>\n",
       "      <th>490</th>\n",
       "      <td>1</td>\n",
       "      <td>1</td>\n",
       "    </tr>\n",
       "    <tr>\n",
       "      <th>302</th>\n",
       "      <td>1</td>\n",
       "      <td>1</td>\n",
       "    </tr>\n",
       "    <tr>\n",
       "      <th>7</th>\n",
       "      <td>0</td>\n",
       "      <td>0</td>\n",
       "    </tr>\n",
       "    <tr>\n",
       "      <th>892</th>\n",
       "      <td>0</td>\n",
       "      <td>0</td>\n",
       "    </tr>\n",
       "  </tbody>\n",
       "</table>\n",
       "<p>230 rows × 2 columns</p>\n",
       "</div>"
      ],
      "text/plain": [
       "     Actual  Predicted\n",
       "668       0          0\n",
       "30        1          0\n",
       "377       1          1\n",
       "535       1          1\n",
       "807       0          0\n",
       "..      ...        ...\n",
       "259       0          0\n",
       "490       1          1\n",
       "302       1          1\n",
       "7         0          0\n",
       "892       0          0\n",
       "\n",
       "[230 rows x 2 columns]"
      ]
     },
     "execution_count": 195,
     "metadata": {},
     "output_type": "execute_result"
    }
   ],
   "source": [
    "#Checking out the actual vs predicted values with the \n",
    "data = pd.DataFrame({'Actual': y_test, 'Predicted': y_pred})\n",
    "data"
   ]
  },
  {
   "cell_type": "markdown",
   "metadata": {},
   "source": [
    "## 2. Decision Tree Classifier"
   ]
  },
  {
   "cell_type": "code",
   "execution_count": 196,
   "metadata": {},
   "outputs": [
    {
     "data": {
      "text/plain": [
       "DecisionTreeClassifier(max_depth=6, random_state=123)"
      ]
     },
     "execution_count": 196,
     "metadata": {},
     "output_type": "execute_result"
    }
   ],
   "source": [
    "from sklearn.tree import DecisionTreeClassifier\n",
    "dtree = DecisionTreeClassifier(max_depth=6, random_state=123)\n",
    "dtree.fit(x_train, y_train)"
   ]
  },
  {
   "cell_type": "code",
   "execution_count": 197,
   "metadata": {},
   "outputs": [
    {
     "name": "stdout",
     "output_type": "stream",
     "text": [
      "              precision    recall  f1-score   support\n",
      "\n",
      "           0       0.79      0.83      0.81        98\n",
      "           1       0.87      0.84      0.85       132\n",
      "\n",
      "    accuracy                           0.83       230\n",
      "   macro avg       0.83      0.83      0.83       230\n",
      "weighted avg       0.84      0.83      0.84       230\n",
      "\n",
      "[[ 81  17]\n",
      " [ 21 111]]\n",
      "Training Score:  91.42441860465115\n",
      "The accuracy of the Decision Tree Model is:  83.47826086956522 %\n"
     ]
    }
   ],
   "source": [
    "y_pred=dtree.predict(x_test)\n",
    "from sklearn.metrics import accuracy_score,classification_report,confusion_matrix,mean_squared_error\n",
    "print(classification_report(y_test,y_pred))\n",
    "print(confusion_matrix(y_test,y_pred))\n",
    "print(\"Training Score: \",dtree.score(x_train,y_train)*100)\n",
    "#Printing the accuracy of the model\n",
    "print(\"The accuracy of the Decision Tree Model is: \", accuracy_score(y_test, y_pred)*100, \"%\")\n",
    "dtree_results=accuracy_score(y_test, y_pred)*100"
   ]
  },
  {
   "cell_type": "markdown",
   "metadata": {},
   "source": [
    "## 3.Random Forest Classifier "
   ]
  },
  {
   "cell_type": "code",
   "execution_count": 198,
   "metadata": {},
   "outputs": [
    {
     "data": {
      "text/plain": [
       "RandomForestClassifier()"
      ]
     },
     "execution_count": 198,
     "metadata": {},
     "output_type": "execute_result"
    }
   ],
   "source": [
    "from sklearn.ensemble import RandomForestClassifier\n",
    "rfc=RandomForestClassifier()\n",
    "rfc.fit(x_train, y_train)"
   ]
  },
  {
   "cell_type": "code",
   "execution_count": 199,
   "metadata": {},
   "outputs": [
    {
     "name": "stdout",
     "output_type": "stream",
     "text": [
      "              precision    recall  f1-score   support\n",
      "\n",
      "           0       0.86      0.89      0.87        98\n",
      "           1       0.91      0.89      0.90       132\n",
      "\n",
      "    accuracy                           0.89       230\n",
      "   macro avg       0.89      0.89      0.89       230\n",
      "weighted avg       0.89      0.89      0.89       230\n",
      "\n",
      "[[ 87  11]\n",
      " [ 14 118]]\n",
      "Training Score:  100.0\n",
      "The accuracy of the Random Forest Classifier Model is:  89.13043478260869 %\n"
     ]
    }
   ],
   "source": [
    "y_pred=rfc.predict(x_test)\n",
    "from sklearn.metrics import accuracy_score,classification_report,confusion_matrix,mean_squared_error\n",
    "print(classification_report(y_test,y_pred))\n",
    "print(confusion_matrix(y_test,y_pred))\n",
    "print(\"Training Score: \",rfc.score(x_train,y_train)*100)\n",
    "#Printing the accuracy of the model\n",
    "print(\"The accuracy of the Random Forest Classifier Model is: \", accuracy_score(y_test, y_pred)*100, \"%\")\n",
    "rfc_results=accuracy_score(y_test, y_pred)*100"
   ]
  },
  {
   "cell_type": "markdown",
   "metadata": {},
   "source": [
    "## 4. K Nearest Neighbors Classifier (KNN)"
   ]
  },
  {
   "cell_type": "code",
   "execution_count": 200,
   "metadata": {},
   "outputs": [
    {
     "data": {
      "text/plain": [
       "KNeighborsClassifier(n_neighbors=7)"
      ]
     },
     "execution_count": 200,
     "metadata": {},
     "output_type": "execute_result"
    }
   ],
   "source": [
    "from sklearn.neighbors import KNeighborsClassifier\n",
    "knn=KNeighborsClassifier(n_neighbors=7)\n",
    "\n",
    "knn.fit(x_train, y_train)"
   ]
  },
  {
   "cell_type": "code",
   "execution_count": 201,
   "metadata": {},
   "outputs": [
    {
     "name": "stdout",
     "output_type": "stream",
     "text": [
      "              precision    recall  f1-score   support\n",
      "\n",
      "           0       0.82      0.83      0.82        98\n",
      "           1       0.87      0.86      0.87       132\n",
      "\n",
      "    accuracy                           0.85       230\n",
      "   macro avg       0.84      0.85      0.84       230\n",
      "weighted avg       0.85      0.85      0.85       230\n",
      "\n",
      "[[ 81  17]\n",
      " [ 18 114]]\n",
      "Training Score:  88.0813953488372\n",
      "The accuracy of the K Neareset Neighbors Classifier Model is:  84.78260869565217 %\n"
     ]
    }
   ],
   "source": [
    "y_pred=knn.predict(x_test)\n",
    "from sklearn.metrics import accuracy_score,classification_report,confusion_matrix,mean_squared_error\n",
    "print(classification_report(y_test,y_pred))\n",
    "print(confusion_matrix(y_test,y_pred))\n",
    "print(\"Training Score: \",knn.score(x_train,y_train)*100)\n",
    "#Printing the accuracy of the model\n",
    "print(\"The accuracy of the K Neareset Neighbors Classifier Model is: \", accuracy_score(y_test, y_pred)*100, \"%\")\n",
    "knn_results=accuracy_score(y_test, y_pred)*100"
   ]
  },
  {
   "cell_type": "markdown",
   "metadata": {},
   "source": [
    "## Support Vector Machine Classifier (SVM)"
   ]
  },
  {
   "cell_type": "code",
   "execution_count": 202,
   "metadata": {},
   "outputs": [
    {
     "data": {
      "text/plain": [
       "SVC()"
      ]
     },
     "execution_count": 202,
     "metadata": {},
     "output_type": "execute_result"
    }
   ],
   "source": [
    "from sklearn.svm import SVC\n",
    "svc=SVC()\n",
    "\n",
    "svc.fit(x_train, y_train)"
   ]
  },
  {
   "cell_type": "code",
   "execution_count": 203,
   "metadata": {},
   "outputs": [
    {
     "name": "stdout",
     "output_type": "stream",
     "text": [
      "              precision    recall  f1-score   support\n",
      "\n",
      "           0       0.87      0.86      0.86        98\n",
      "           1       0.89      0.90      0.90       132\n",
      "\n",
      "    accuracy                           0.88       230\n",
      "   macro avg       0.88      0.88      0.88       230\n",
      "weighted avg       0.88      0.88      0.88       230\n",
      "\n",
      "[[ 84  14]\n",
      " [ 13 119]]\n",
      "Training Score:  89.68023255813954\n",
      "The accuracy of the Support Vector Machine Classification Model is:  88.26086956521739 %\n"
     ]
    }
   ],
   "source": [
    "y_pred=svc.predict(x_test)\n",
    "from sklearn.metrics import accuracy_score,classification_report,confusion_matrix,mean_squared_error\n",
    "print(classification_report(y_test,y_pred))\n",
    "print(confusion_matrix(y_test,y_pred))\n",
    "print(\"Training Score: \",svc.score(x_train,y_train)*100)\n",
    "#Printing the accuracy of the model\n",
    "print(\"The accuracy of the Support Vector Machine Classification Model is: \", accuracy_score(y_test, y_pred)*100, \"%\")\n",
    "svc_results=accuracy_score(y_test, y_pred)*100"
   ]
  },
  {
   "cell_type": "markdown",
   "metadata": {},
   "source": [
    "## 6. ADA Boost Classifier "
   ]
  },
  {
   "cell_type": "code",
   "execution_count": 204,
   "metadata": {},
   "outputs": [
    {
     "data": {
      "text/plain": [
       "AdaBoostClassifier()"
      ]
     },
     "execution_count": 204,
     "metadata": {},
     "output_type": "execute_result"
    }
   ],
   "source": [
    "from sklearn.ensemble import AdaBoostClassifier\n",
    "adb=AdaBoostClassifier(base_estimator = None)\n",
    "\n",
    "adb.fit(x_train, y_train)"
   ]
  },
  {
   "cell_type": "code",
   "execution_count": 205,
   "metadata": {},
   "outputs": [
    {
     "name": "stdout",
     "output_type": "stream",
     "text": [
      "              precision    recall  f1-score   support\n",
      "\n",
      "           0       0.81      0.89      0.85        98\n",
      "           1       0.91      0.85      0.88       132\n",
      "\n",
      "    accuracy                           0.87       230\n",
      "   macro avg       0.86      0.87      0.86       230\n",
      "weighted avg       0.87      0.87      0.87       230\n",
      "\n",
      "[[ 87  11]\n",
      " [ 20 112]]\n",
      "Training Score:  88.0813953488372\n",
      "The accuracy of the Ada Boost Classifier Model is:  86.52173913043478 %\n"
     ]
    }
   ],
   "source": [
    "y_pred=adb.predict(x_test)\n",
    "from sklearn.metrics import accuracy_score,classification_report,confusion_matrix,mean_squared_error\n",
    "print(classification_report(y_test,y_pred))\n",
    "print(confusion_matrix(y_test,y_pred))\n",
    "print(\"Training Score: \",adb.score(x_train,y_train)*100)\n",
    "#Printing the accuracy of the model\n",
    "print(\"The accuracy of the Ada Boost Classifier Model is: \", accuracy_score(y_test, y_pred)*100, \"%\")\n",
    "adb_results=accuracy_score(y_test, y_pred)*100"
   ]
  },
  {
   "cell_type": "markdown",
   "metadata": {},
   "source": [
    "## 7.Gradient Boost Classifier"
   ]
  },
  {
   "cell_type": "code",
   "execution_count": 206,
   "metadata": {},
   "outputs": [
    {
     "data": {
      "text/plain": [
       "GradientBoostingClassifier()"
      ]
     },
     "execution_count": 206,
     "metadata": {},
     "output_type": "execute_result"
    }
   ],
   "source": [
    "from sklearn.ensemble import GradientBoostingClassifier\n",
    "gbc=GradientBoostingClassifier()\n",
    "\n",
    "gbc.fit(x_train, y_train)"
   ]
  },
  {
   "cell_type": "code",
   "execution_count": 207,
   "metadata": {},
   "outputs": [
    {
     "name": "stdout",
     "output_type": "stream",
     "text": [
      "              precision    recall  f1-score   support\n",
      "\n",
      "           0       0.81      0.90      0.85        98\n",
      "           1       0.92      0.85      0.88       132\n",
      "\n",
      "    accuracy                           0.87       230\n",
      "   macro avg       0.87      0.87      0.87       230\n",
      "weighted avg       0.87      0.87      0.87       230\n",
      "\n",
      "[[ 88  10]\n",
      " [ 20 112]]\n",
      "Training Score:  94.3313953488372\n",
      "The accuracy of the Gradient Boost Classifier Model is:  86.95652173913044 %\n"
     ]
    }
   ],
   "source": [
    "y_pred=gbc.predict(x_test)\n",
    "from sklearn.metrics import accuracy_score,classification_report,confusion_matrix,mean_squared_error\n",
    "print(classification_report(y_test,y_pred))\n",
    "print(confusion_matrix(y_test,y_pred))\n",
    "print(\"Training Score: \",gbc.score(x_train,y_train)*100)\n",
    "#Printing the accuracy of the model\n",
    "print(\"The accuracy of the Gradient Boost Classifier Model is: \", accuracy_score(y_test, y_pred)*100, \"%\")\n",
    "gbc_results=accuracy_score(y_test, y_pred)*100"
   ]
  },
  {
   "cell_type": "markdown",
   "metadata": {},
   "source": [
    "## 8.Extreme Gradient Boosting(XGB) Classifier "
   ]
  },
  {
   "cell_type": "code",
   "execution_count": 208,
   "metadata": {},
   "outputs": [
    {
     "name": "stdout",
     "output_type": "stream",
     "text": [
      "[13:29:10] WARNING: c:\\ci\\xgboost-split_1619728435298\\work\\src\\objective\\regression_obj.cu:170: reg:linear is now deprecated in favor of reg:squarederror.\n"
     ]
    },
    {
     "name": "stderr",
     "output_type": "stream",
     "text": [
      "C:\\Users\\KIIT\\anaconda3\\lib\\site-packages\\xgboost\\sklearn.py:888: UserWarning:\n",
      "\n",
      "The use of label encoder in XGBClassifier is deprecated and will be removed in a future release. To remove this warning, do the following: 1) Pass option use_label_encoder=False when constructing XGBClassifier object; and 2) Encode your labels (y) as integers starting with 0, i.e. 0, 1, 2, ..., [num_class - 1].\n",
      "\n"
     ]
    },
    {
     "data": {
      "text/plain": [
       "XGBClassifier(alpha=10, base_score=0.5, booster='gbtree', colsample_bylevel=1,\n",
       "              colsample_bynode=1, colsample_bytree=0.3, gamma=0, gpu_id=-1,\n",
       "              importance_type='gain', interaction_constraints='',\n",
       "              learning_rate=0.1, max_delta_step=0, max_depth=5,\n",
       "              min_child_weight=1, missing=nan, monotone_constraints='()',\n",
       "              n_estimators=10, n_jobs=8, num_parallel_tree=1,\n",
       "              objective='reg:linear', random_state=0, reg_alpha=10,\n",
       "              reg_lambda=1, scale_pos_weight=1, subsample=1,\n",
       "              tree_method='exact', validate_parameters=1, verbosity=None)"
      ]
     },
     "execution_count": 208,
     "metadata": {},
     "output_type": "execute_result"
    }
   ],
   "source": [
    "from xgboost import XGBClassifier\n",
    "xgb=XGBClassifier(objective ='reg:linear', colsample_bytree= 0.3, learning_rate=0.1,\n",
    "                  max_depth=5, alpha=10, n_estimators=10)\n",
    "\n",
    "xgb.fit(x_train, y_train)"
   ]
  },
  {
   "cell_type": "code",
   "execution_count": 209,
   "metadata": {},
   "outputs": [
    {
     "name": "stdout",
     "output_type": "stream",
     "text": [
      "              precision    recall  f1-score   support\n",
      "\n",
      "           0       0.78      0.79      0.78        98\n",
      "           1       0.84      0.83      0.84       132\n",
      "\n",
      "    accuracy                           0.81       230\n",
      "   macro avg       0.81      0.81      0.81       230\n",
      "weighted avg       0.81      0.81      0.81       230\n",
      "\n",
      "[[ 77  21]\n",
      " [ 22 110]]\n",
      "Training Score:  84.15697674418605\n",
      "The accuracy of the Extreme Gradient Boosting Classifier Model is:  81.30434782608695 %\n"
     ]
    }
   ],
   "source": [
    "y_pred=xgb.predict(x_test)\n",
    "from sklearn.metrics import accuracy_score,classification_report,confusion_matrix,mean_squared_error\n",
    "print(classification_report(y_test,y_pred))\n",
    "print(confusion_matrix(y_test,y_pred))\n",
    "print(\"Training Score: \",xgb.score(x_train,y_train)*100)\n",
    "#Printing the accuracy of the model\n",
    "print(\"The accuracy of the Extreme Gradient Boosting Classifier Model is: \", accuracy_score(y_test, y_pred)*100, \"%\")\n",
    "xgb_results=accuracy_score(y_test, y_pred)*100"
   ]
  },
  {
   "cell_type": "markdown",
   "metadata": {},
   "source": [
    "## 9.Naive Bayes "
   ]
  },
  {
   "cell_type": "code",
   "execution_count": 210,
   "metadata": {},
   "outputs": [
    {
     "data": {
      "text/plain": [
       "GaussianNB()"
      ]
     },
     "execution_count": 210,
     "metadata": {},
     "output_type": "execute_result"
    }
   ],
   "source": [
    "from sklearn.naive_bayes import GaussianNB\n",
    "gnb=GaussianNB()\n",
    "\n",
    "gnb.fit(x_train, y_train)"
   ]
  },
  {
   "cell_type": "code",
   "execution_count": 211,
   "metadata": {},
   "outputs": [
    {
     "name": "stdout",
     "output_type": "stream",
     "text": [
      "              precision    recall  f1-score   support\n",
      "\n",
      "           0       0.81      0.87      0.84        98\n",
      "           1       0.90      0.85      0.87       132\n",
      "\n",
      "    accuracy                           0.86       230\n",
      "   macro avg       0.85      0.86      0.85       230\n",
      "weighted avg       0.86      0.86      0.86       230\n",
      "\n",
      "[[ 85  13]\n",
      " [ 20 112]]\n",
      "Training Score:  85.75581395348837\n",
      "The accuracy of the Naive Bayes Model is:  85.65217391304348 %\n"
     ]
    }
   ],
   "source": [
    "y_pred=gnb.predict(x_test)\n",
    "from sklearn.metrics import accuracy_score,classification_report,confusion_matrix,mean_squared_error\n",
    "print(classification_report(y_test,y_pred))\n",
    "print(confusion_matrix(y_test,y_pred))\n",
    "print(\"Training Score: \",gnb.score(x_train,y_train)*100)\n",
    "#Printing the accuracy of the model\n",
    "print(\"The accuracy of the Naive Bayes Model is: \", accuracy_score(y_test, y_pred)*100, \"%\")\n",
    "gnb_results=accuracy_score(y_test, y_pred)*100"
   ]
  },
  {
   "cell_type": "markdown",
   "metadata": {},
   "source": [
    "## 10.Stochastic Gradient Descent (SGD)"
   ]
  },
  {
   "cell_type": "code",
   "execution_count": 234,
   "metadata": {},
   "outputs": [],
   "source": [
    "from sklearn.linear_model import SGDClassifier\n",
    "\n",
    "sgdc = SGDClassifier()"
   ]
  },
  {
   "cell_type": "code",
   "execution_count": 235,
   "metadata": {},
   "outputs": [],
   "source": [
    "sgdc.fit(x_train,y_train)\n",
    "pred=sgdc.predict(x_test)"
   ]
  },
  {
   "cell_type": "code",
   "execution_count": 238,
   "metadata": {},
   "outputs": [
    {
     "name": "stdout",
     "output_type": "stream",
     "text": [
      "              precision    recall  f1-score   support\n",
      "\n",
      "           0       0.81      0.87      0.84        98\n",
      "           1       0.90      0.85      0.87       132\n",
      "\n",
      "    accuracy                           0.86       230\n",
      "   macro avg       0.85      0.86      0.85       230\n",
      "weighted avg       0.86      0.86      0.86       230\n",
      "\n",
      "[[ 85  13]\n",
      " [ 20 112]]\n",
      "Training Score:  80.37790697674419\n",
      "              precision    recall  f1-score   support\n",
      "\n",
      "           0       0.85      0.76      0.80        98\n",
      "           1       0.83      0.90      0.87       132\n",
      "\n",
      "    accuracy                           0.84       230\n",
      "   macro avg       0.84      0.83      0.83       230\n",
      "weighted avg       0.84      0.84      0.84       230\n",
      "\n",
      "The accuracy of the SGD Model is:  83.91304347826087 %\n"
     ]
    }
   ],
   "source": [
    "from sklearn.metrics import accuracy_score,classification_report,confusion_matrix,mean_squared_error\n",
    "print(classification_report(y_test,y_pred))\n",
    "print(confusion_matrix(y_test,y_pred))\n",
    "\n",
    "print(\"Training Score: \",sgdc.score(x_train,y_train)*100)\n",
    "\n",
    "print(classification_report(y_test, pred))\n",
    "print(\"The accuracy of the SGD Model is: \",accuracy_score(y_test,pred)*100,\"%\")\n",
    "sgdc_result =accuracy_score(y_test,pred)*100"
   ]
  },
  {
   "cell_type": "code",
   "execution_count": 241,
   "metadata": {},
   "outputs": [
    {
     "name": "stdout",
     "output_type": "stream",
     "text": [
      "Logistic Regression:  86.08695652173914\n",
      "Decision Tree:  83.47826086956522\n",
      "Random Forest:  89.13043478260869\n",
      "K Nearest Neighbors:  84.78260869565217\n",
      "Support Vector Machine:  88.26086956521739\n",
      "Ada Boost:  86.52173913043478\n",
      "Gradient Boost:  86.95652173913044\n",
      "Extreme Gradient Boost:  81.30434782608695\n",
      "Naive Bayes:  85.65217391304348\n",
      "Stochastic Gradient Descent (SGD):  83.91304347826087\n"
     ]
    }
   ],
   "source": [
    "print(\"Logistic Regression: \",lr_model_results)\n",
    "print(\"Decision Tree: \",dtree_results)\n",
    "print(\"Random Forest: \",rfc_results)\n",
    "print(\"K Nearest Neighbors: \",knn_results)\n",
    "print(\"Support Vector Machine: \",svc_results)\n",
    "print(\"Ada Boost: \",adb_results)\n",
    "print(\"Gradient Boost: \",gbc_results)\n",
    "print(\"Extreme Gradient Boost: \",xgb_results)\n",
    "print(\"Naive Bayes: \",gnb_results)\n",
    "print(\"Stochastic Gradient Descent (SGD): \",sgdc_result)"
   ]
  },
  {
   "cell_type": "code",
   "execution_count": null,
   "metadata": {},
   "outputs": [],
   "source": []
  }
 ],
 "metadata": {
  "kernelspec": {
   "display_name": "Python 3",
   "language": "python",
   "name": "python3"
  },
  "language_info": {
   "codemirror_mode": {
    "name": "ipython",
    "version": 3
   },
   "file_extension": ".py",
   "mimetype": "text/x-python",
   "name": "python",
   "nbconvert_exporter": "python",
   "pygments_lexer": "ipython3",
   "version": "3.8.3"
  }
 },
 "nbformat": 4,
 "nbformat_minor": 4
}
